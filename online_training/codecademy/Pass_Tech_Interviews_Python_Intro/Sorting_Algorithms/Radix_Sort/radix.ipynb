{
 "cells": [
  {
   "cell_type": "markdown",
   "metadata": {},
   "source": [
    "# **Radix Sorting Algorithm**"
   ]
  },
  {
   "cell_type": "markdown",
   "metadata": {},
   "source": [
    "There are two different kinds of radix sort: most significant digit, or MSD, and least significant digit, or LSD.\n",
    "\n",
    "The most amazing feature of radix sort is that it manages to sort a list of integers without performing any comparisons whatsoever. We call this a non-comparison sort.\n",
    "\n",
    "This makes its performance a little difficult to compare to most other comparison-based sorts. Consider a list of length n. For each iteration of the algorithm, we are deciding which bucket to place each of the n entries into.\n",
    "\n",
    "How many iterations do we have? Remember that we continue iterating until we examine each digit. This means we need to iterate for how ever many digits we have. We’ll call this average number of digits the word-size or w.\n",
    "\n",
    "This means the complexity of radix sort is O(wn). Assuming the length of the list is much larger than the number of digits, we can consider w a constant factor and this can be reduced to O(n)."
   ]
  },
  {
   "cell_type": "markdown",
   "metadata": {},
   "source": [
    "* A radix is the base of a number system. For the decimal number system, the radix is 10.\n",
    "* Radix sort has two variants - MSD and LSD\n",
    "* Numbers are bucketed based on the value of digits moving left to right (for MSD) or right to left (for LSD)\n",
    "* Radix sort is considered a non-comparison sort\n",
    "* The performance of radix sort is O(n)"
   ]
  },
  {
   "cell_type": "markdown",
   "metadata": {},
   "source": []
  }
 ],
 "metadata": {
  "language_info": {
   "name": "python"
  }
 },
 "nbformat": 4,
 "nbformat_minor": 2
}
