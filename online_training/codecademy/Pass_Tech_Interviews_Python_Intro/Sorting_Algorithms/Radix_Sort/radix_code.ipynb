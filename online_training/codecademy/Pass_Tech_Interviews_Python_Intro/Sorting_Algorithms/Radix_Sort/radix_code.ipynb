{
 "cells": [
  {
   "cell_type": "code",
   "execution_count": 38,
   "metadata": {},
   "outputs": [],
   "source": [
    "def radix_sort(to_be_sorted):\n",
    "    maximum_value = max(to_be_sorted)\n",
    "    max_exponent = len(str(maximum_value))\n",
    "    being_sorted = to_be_sorted[:]\n",
    "\n",
    "    for exponent in range(max_exponent):\n",
    "        position = exponent + 1\n",
    "        index = -position\n",
    "\n",
    "        digits = [[] for i in range(10)]\n",
    "\n",
    "        for number in being_sorted:\n",
    "            number_as_a_string = str(number)\n",
    "            try:\n",
    "                digit = number_as_a_string[index]\n",
    "            except IndexError:\n",
    "                digit = 0\n",
    "            digit = int(digit)\n",
    "\n",
    "            digits[digit].append(number)\n",
    "\n",
    "        being_sorted = []\n",
    "        for numeral in digits:\n",
    "            being_sorted.extend(numeral)\n",
    "\n",
    "    return being_sorted"
   ]
  },
  {
   "cell_type": "code",
   "execution_count": 41,
   "metadata": {},
   "outputs": [
    {
     "name": "stdout",
     "output_type": "stream",
     "text": [
      "Sorted List: [1, 4, 6, 23, 6043]\n",
      "[1, 4, 6, 6043, 23]\n",
      "[1, 4, 6, 6043, 23]\n",
      "23 <class 'str'>\n",
      "3 <class 'str'>\n",
      "3 <class 'int'>\n"
     ]
    }
   ],
   "source": [
    "my_list = [1, 4, 6, 6043, 23]\n",
    "max_value = max(my_list)\n",
    "# print(len(max_value))\n",
    "\n",
    "\n",
    "print(\"Sorted List:\", radix_sort(my_list))\n",
    "copy_list = my_list.copy()\n",
    "copy_list_2 = my_list[:]\n",
    "print(copy_list)\n",
    "print(copy_list_2)\n",
    "\n",
    "\n",
    "num_str = str(my_list[-1])\n",
    "print(num_str, type(num_str))\n",
    "digit = num_str[-1]\n",
    "print(int(digit), type(digit))\n",
    "digit = int(digit)\n",
    "print(digit, type(digit))\n",
    "\n",
    "\n"
   ]
  },
  {
   "cell_type": "code",
   "execution_count": null,
   "metadata": {},
   "outputs": [],
   "source": []
  }
 ],
 "metadata": {
  "kernelspec": {
   "display_name": "Python 3",
   "language": "python",
   "name": "python3"
  },
  "language_info": {
   "codemirror_mode": {
    "name": "ipython",
    "version": 3
   },
   "file_extension": ".py",
   "mimetype": "text/x-python",
   "name": "python",
   "nbconvert_exporter": "python",
   "pygments_lexer": "ipython3",
   "version": "3.12.1"
  }
 },
 "nbformat": 4,
 "nbformat_minor": 2
}
