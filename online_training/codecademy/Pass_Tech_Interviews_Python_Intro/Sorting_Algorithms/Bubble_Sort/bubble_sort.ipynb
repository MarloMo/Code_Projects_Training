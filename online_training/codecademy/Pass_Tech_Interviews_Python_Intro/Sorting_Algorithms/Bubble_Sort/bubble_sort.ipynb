{
 "cells": [
  {
   "cell_type": "markdown",
   "metadata": {},
   "source": [
    "# **Bubble Sort**\n",
    "\n",
    "Bubble sort is an introductory sorting algorithm that iterates through a list and compares pairings of adjacent elements.\n",
    "\n",
    "According to the sorting criteria, the algorithm swaps elements to shift elements towards the beginning or end of the list.\n",
    "\n",
    "By default, a list is sorted if for any element `e` and position `1` through `N`:\n",
    "\n",
    "`e1` <= `e2` <= `e3` … `eN`, where `N` is the number of elements in the list.\n",
    "\n",
    "For example, bubble sort transforms a list:\n",
    "\n",
    "```\n",
    "[5, 2, 9, 1, 5]\n",
    "```\n",
    "\n",
    "to an ascending order, from the lowest to highest:\n",
    "\n",
    "```\n",
    "[1, 2, 5, 5, 9]\n",
    "```\n",
    "\n",
    "We implement the algorithm with two loops.\n",
    "\n",
    "The first loop iterates as long as the list is unsorted and we assume it’s unsorted to start.\n",
    "\n",
    "Within this loop, another iteration moves through the list. For each pairing, the algorithm asks:\n",
    "\n",
    "In comparison, is the first element larger than the second element?\n",
    "\n",
    "If it is, we swap the position of the elements. The larger element is now at a greater index than the smaller element.\n",
    "\n",
    "When a swap is made, we know the list is still unsorted. The outer loop will run again when the inner loop concludes.\n",
    "\n",
    "The process repeats until the largest element makes its way to the last index of the list. The outer loop runs until no swaps are made within the inner loop."
   ]
  },
  {
   "cell_type": "markdown",
   "metadata": {},
   "source": [
    "### **Algorithm Analysis**\n",
    "\n",
    "Given a moderately unsorted data-set, bubble sort requires multiple passes through the input before producing a sorted list. Each pass through the list will place the next largest value in its proper place.\n",
    "\n",
    "We are performing `n-1` comparisons for our inner loop. Then, we must go through the list `n` times in order to ensure that each item in our list has been placed in its proper order.\n",
    "\n",
    "The n signifies the number of elements in the list. In a worst case scenario, the inner loop does `n-1` comparisons for each `n` element in the list.\n",
    "\n",
    "Therefore we calculate the algorithm’s efficiency as:\n",
    "\n",
    "$$\n",
    "O(n(n-1)) = O(n(n)) = O(N^{2})\n",
    "$$\n",
    "\n",
    "Bubble sort is an algorithm to sort a list through repeated swaps of adjacent elements. It has a runtime of `O(n^2)`.\n",
    "\n",
    "For nearly sorted lists, bubble sort performs relatively few operations since it only performs a swap when elements are out of order.\n",
    "\n",
    "Bubble sort is a good introductory algorithm which opens the door to learning more complex algorithms. It answers the question, “How can we algorithmically sort a list?” and encourages us to ask, “How can we improve this sorting algorithm?”"
   ]
  },
  {
   "cell_type": "markdown",
   "metadata": {},
   "source": []
  }
 ],
 "metadata": {
  "language_info": {
   "name": "python"
  }
 },
 "nbformat": 4,
 "nbformat_minor": 2
}
