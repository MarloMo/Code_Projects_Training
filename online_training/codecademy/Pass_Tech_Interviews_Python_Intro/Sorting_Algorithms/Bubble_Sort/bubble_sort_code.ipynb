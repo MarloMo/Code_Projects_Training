{
 "cells": [
  {
   "cell_type": "markdown",
   "metadata": {},
   "source": [
    "## **Bubble Sort Compare**"
   ]
  },
  {
   "cell_type": "code",
   "execution_count": 17,
   "metadata": {},
   "outputs": [],
   "source": [
    "def swap(arr, index_1, index_2):\n",
    "    tmp = arr[index_1]\n",
    "    arr[index_1] = arr[index_2]\n",
    "    arr[index_2] = tmp\n",
    "\n",
    "\n",
    "def bubble_sort(arr):\n",
    "    iterations = 0\n",
    "    for i in range(len(arr) - 1):\n",
    "        for j in range(len(arr) - 1):\n",
    "            iterations += 1\n",
    "            if arr[j] > arr[j + 1]:\n",
    "                swap(arr, j, j + 1)\n",
    "\n",
    "    print(f\"PRE-OPTIMIZED ITERATION COUNT: {iterations}\")\n",
    "\n",
    "\n",
    "def bubble_sort_optimized(arr):\n",
    "    iterations = 0\n",
    "    for i in range(len(arr)):\n",
    "        for j in range(len(arr) - i - 1):\n",
    "            iterations += 1\n",
    "            if arr[j] > arr[j + 1]:\n",
    "                arr[j], arr[j + 1] = arr[j + 1], arr[j]\n",
    "\n",
    "    print(f\"PRE-OPTIMIZED ITERATION COUNT: {iterations}\")"
   ]
  },
  {
   "cell_type": "code",
   "execution_count": 19,
   "metadata": {},
   "outputs": [
    {
     "name": "stdout",
     "output_type": "stream",
     "text": [
      "Pre-Sort [5, 2, 9, 1, 5, 6]\n",
      "PRE-OPTIMIZED ITERATION COUNT: 25\n",
      "PRE-OPTIMIZED ITERATION COUNT: 15\n",
      "Post-Sort [1, 2, 5, 5, 6, 9]\n"
     ]
    }
   ],
   "source": [
    "nums = [5, 2, 9, 1, 5, 6]\n",
    "\n",
    "print(f\"Pre-Sort {nums}\")\n",
    "bubble_sort(nums.copy())\n",
    "bubble_sort_optimized(nums)\n",
    "print(f\"Post-Sort {nums}\")"
   ]
  },
  {
   "cell_type": "code",
   "execution_count": 9,
   "metadata": {},
   "outputs": [
    {
     "name": "stdout",
     "output_type": "stream",
     "text": [
      "[2, 1, 3, 5, 6, 8, 4]\n"
     ]
    }
   ],
   "source": [
    "### TESTING GROUNDS\n",
    "\n",
    "test_list = [1, 2, 3, 5, 6, 8, 4]\n",
    "# print(len(test_list))\n",
    "\n",
    "# for i in range(len(test\n",
    "\n",
    "result = swap(test_list, 0, 1)\n",
    "print(test_list)"
   ]
  },
  {
   "cell_type": "code",
   "execution_count": null,
   "metadata": {},
   "outputs": [],
   "source": []
  }
 ],
 "metadata": {
  "kernelspec": {
   "display_name": "Python 3",
   "language": "python",
   "name": "python3"
  },
  "language_info": {
   "codemirror_mode": {
    "name": "ipython",
    "version": 3
   },
   "file_extension": ".py",
   "mimetype": "text/x-python",
   "name": "python",
   "nbconvert_exporter": "python",
   "pygments_lexer": "ipython3",
   "version": "3.12.3"
  }
 },
 "nbformat": 4,
 "nbformat_minor": 2
}
