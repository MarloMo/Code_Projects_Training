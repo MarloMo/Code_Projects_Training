{
 "cells": [
  {
   "cell_type": "markdown",
   "metadata": {},
   "source": [
    "# **Quicksort**"
   ]
  },
  {
   "cell_type": "markdown",
   "metadata": {},
   "source": [
    "Quicksort is an efficient way of sorting a list of values by partitioning the list into smaller sub-lists based on comparisons with a single “pivot” element.\n",
    "\n",
    "We’ll use two pointers, start and end to keep track of sub-lists in our algorithm. Let’s get started!"
   ]
  },
  {
   "cell_type": "code",
   "execution_count": 2,
   "metadata": {},
   "outputs": [],
   "source": [
    "import random as rnd"
   ]
  },
  {
   "cell_type": "code",
   "execution_count": 143,
   "metadata": {},
   "outputs": [],
   "source": [
    "def quicksort(list, start, end):\n",
    "    if start >= end:\n",
    "        return\n",
    "\n",
    "    pivot_index = rnd.randrange(start, end + 1)\n",
    "    # pivot_index = 3\n",
    "    # pivot_value = list[pivot_index]\n",
    "    # Swap the pivot value with the last value\n",
    "    list[end], list[pivot_index] = list[pivot_index], list[end]\n",
    "\n",
    "    # tracks all values which should be to left (lesser than) pivot\n",
    "    less_than_pointer = start\n",
    "    for index in range(start, end):\n",
    "        # Check if the value at index is less tham the pivot value.\n",
    "        if list[index] < list[end]:\n",
    "            # Swap less_than_pointer and index value\n",
    "            list[index], list[less_than_pointer] = (\n",
    "                list[less_than_pointer],\n",
    "                list[index],\n",
    "            )\n",
    "\n",
    "            less_than_pointer += 1\n",
    "\n",
    "    # Swap pivot with the value at less_than_pointer\n",
    "    list[end], list[less_than_pointer] = list[less_than_pointer], list[end]\n",
    "\n",
    "    quicksort(list, start, less_than_pointer - 1)\n",
    "    quicksort(list, less_than_pointer + 1, end)"
   ]
  },
  {
   "cell_type": "code",
   "execution_count": 144,
   "metadata": {},
   "outputs": [
    {
     "name": "stdout",
     "output_type": "stream",
     "text": [
      "Before:  [3, 7, 12, 24, 36, 42]\n",
      "After:  [3, 7, 12, 24, 36, 42]\n"
     ]
    }
   ],
   "source": [
    "# my_list = [42, 103, 22]\n",
    "# my_list = [5, 6, 2, 3, 1, 4]\n",
    "my_list = [3, 7, 12, 24, 36, 42]\n",
    "print(\"Before: \", my_list)\n",
    "quicksort(my_list, 0, len(my_list) - 1)\n",
    "print(\"After: \", my_list)"
   ]
  },
  {
   "cell_type": "code",
   "execution_count": 135,
   "metadata": {},
   "outputs": [
    {
     "name": "stdout",
     "output_type": "stream",
     "text": [
      "1\n",
      "103\n",
      "22\n",
      "103\n"
     ]
    }
   ],
   "source": [
    "### TESTING GROUNDS\n",
    "\n",
    "test_list = [42, 103, 22]\n",
    "\n",
    "# print(len(test_list))\n",
    "pvt_idx = rnd.randrange(0, len(test_list) - 1)\n",
    "pvt_val = test_list[pvt_idx]\n",
    "print(pvt_idx)\n",
    "print(pvt_val)\n",
    "test_list[len(test_list) - 1], test_list[pvt_idx] = (\n",
    "    test_list[pvt_idx],\n",
    "    test_list[len(test_list) - 1],\n",
    ")\n",
    "\n",
    "print(test_list[pvt_idx])\n",
    "print(test_list[len(test_list) - 1])\n",
    "\n",
    "# random_nums = rnd.randrange(0, 11)\n",
    "# print(random_nums)"
   ]
  },
  {
   "cell_type": "code",
   "execution_count": null,
   "metadata": {},
   "outputs": [],
   "source": []
  },
  {
   "cell_type": "code",
   "execution_count": null,
   "metadata": {},
   "outputs": [],
   "source": []
  }
 ],
 "metadata": {
  "kernelspec": {
   "display_name": "Python 3",
   "language": "python",
   "name": "python3"
  },
  "language_info": {
   "codemirror_mode": {
    "name": "ipython",
    "version": 3
   },
   "file_extension": ".py",
   "mimetype": "text/x-python",
   "name": "python",
   "nbconvert_exporter": "python",
   "pygments_lexer": "ipython3",
   "version": "3.12.1"
  }
 },
 "nbformat": 4,
 "nbformat_minor": 2
}
