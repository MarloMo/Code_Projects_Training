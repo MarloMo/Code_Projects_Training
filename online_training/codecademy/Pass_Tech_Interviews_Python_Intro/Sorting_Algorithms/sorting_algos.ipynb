{
 "cells": [
  {
   "cell_type": "markdown",
   "metadata": {},
   "source": [
    "# **Sorting Algorithms**\n",
    "\n",
    "Binary search was efficient when given a pre-sorted data set, but what are the most efficient ways to actually sort data sets? There are many different sorting algorithms, but you are going to focus on four of the most common: bubble sort, merge sort, quicksort, and radix sort. Each has pros and cons when it comes to their efficiency, as you can see in the table below:\n",
    "\n",
    "|                   | **Best Case**       | **Worst Case**      | **Average Case**    | **Space Complexity** |\n",
    "|-------------------|---------------------|---------------------|---------------------|----------------------|\n",
    "| Bubble Sort       | $\\Omega(n)$         | $O(n^{2})$          | $O(n^{2})$          | $O(1)$               |\n",
    "| Merge Sort        | $\\Omega (n \\log(n))$| $O(n \\log(n))$      | $O(n \\log(n))$      | $O(n)$               |\n",
    "| Quick Sort        | $\\Omega(n \\log(n))$ | $O(n^{2})$          | $O(n \\log(n))$      | $O(\\log(n))$         |\n"
   ]
  },
  {
   "cell_type": "markdown",
   "metadata": {},
   "source": []
  }
 ],
 "metadata": {
  "language_info": {
   "name": "python"
  }
 },
 "nbformat": 4,
 "nbformat_minor": 2
}
