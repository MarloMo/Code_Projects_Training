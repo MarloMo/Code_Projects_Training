{
 "cells": [
  {
   "cell_type": "code",
   "execution_count": 31,
   "metadata": {},
   "outputs": [],
   "source": [
    "def merge_sort(items):\n",
    "    if len(items) <= 1:\n",
    "        return items\n",
    "\n",
    "    middle_index = len(items) // 2\n",
    "    left_split = items[:middle_index]\n",
    "    right_split = items[middle_index:]\n",
    "\n",
    "    left_sorted = merge_sort(left_split)\n",
    "    # print(left_sorted)\n",
    "    right_sorted = merge_sort(right_split)\n",
    "    # print(right_sorted)\n",
    "\n",
    "    return merge(left_sorted, right_sorted)\n",
    "\n",
    "\n",
    "def merge(left, right):\n",
    "    result = []\n",
    "\n",
    "    while left and right:\n",
    "        if left[0] < right[0]:\n",
    "            result.append(left[0])\n",
    "            left.pop(0)\n",
    "        else:\n",
    "            result.append(right[0])\n",
    "            right.pop(0)\n",
    "\n",
    "    if left:\n",
    "        result += left\n",
    "    elif right:\n",
    "        result += right\n",
    "\n",
    "    return result"
   ]
  },
  {
   "cell_type": "code",
   "execution_count": 35,
   "metadata": {},
   "outputs": [
    {
     "name": "stdout",
     "output_type": "stream",
     "text": [
      "Unsorted List: [1, 9, 2, 8]\n",
      "Merge Sorted List: [1, 2, 8, 9]\n",
      "lenght of small list: 2\n",
      "[1, 2]\n"
     ]
    }
   ],
   "source": [
    "unsorted_list = [1, 9, 2, 8]\n",
    "small_list = [2,1]\n",
    "print(\"Unsorted List:\", unsorted_list)\n",
    "sorted_list = merge_sort(unsorted_list)\n",
    "print(\"Merge Sorted List:\", sorted_list)\n",
    "\n",
    "print(\"lenght of small list:\", len(small_list))\n",
    "print(merge_sort(small_list))"
   ]
  },
  {
   "cell_type": "code",
   "execution_count": 17,
   "metadata": {},
   "outputs": [
    {
     "name": "stdout",
     "output_type": "stream",
     "text": [
      "4\n",
      "[1, 2, 3]\n"
     ]
    }
   ],
   "source": [
    "### TESTING GROUNDS\n",
    "\n",
    "test_list = [1, 2, 3, 4, 5, 6]\n",
    "middle_index_test = len(test_list) // 2\n",
    "print(test_list[middle_index_test])\n",
    "print(test_list[:middle_index_test])"
   ]
  },
  {
   "cell_type": "code",
   "execution_count": null,
   "metadata": {},
   "outputs": [],
   "source": []
  }
 ],
 "metadata": {
  "kernelspec": {
   "display_name": "Python 3",
   "language": "python",
   "name": "python3"
  },
  "language_info": {
   "codemirror_mode": {
    "name": "ipython",
    "version": 3
   },
   "file_extension": ".py",
   "mimetype": "text/x-python",
   "name": "python",
   "nbconvert_exporter": "python",
   "pygments_lexer": "ipython3",
   "version": "3.12.3"
  }
 },
 "nbformat": 4,
 "nbformat_minor": 2
}
