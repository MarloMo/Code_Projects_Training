{
 "cells": [
  {
   "cell_type": "markdown",
   "metadata": {},
   "source": [
    "### **Min-Heaps of Fun**\n",
    "\n",
    "Min-heaps are nearly identical to a max-heap, just with the comparisons reversed.\n",
    "\n",
    "Heaps enable solutions for complex problems such as finding the shortest path **(Dijkstra’s Algorithm)** or efficiently sorting a dataset **(heapsort)**.\n",
    "They’re an essential tool for confidently navigating some of the difficult questions posed in a technical interview.\n",
    "\n",
    "To make our lives easier, we’ll always keep one sentinel element at the beginning inside the list: None.\n",
    "\n",
    "```\n",
    "heap = MinHeap()\n",
    "print(heap.heap_list)\n",
    "# [None]\n",
    "print(heap.count)\n",
    "# 0\n",
    "```\n",
    "\n",
    "This dummy value will save us the trouble of checking whether the list is empty and simplify the methods we define in later lessons.\n",
    "\n"
   ]
  },
  {
   "cell_type": "code",
   "execution_count": 15,
   "metadata": {},
   "outputs": [],
   "source": [
    "### min-heap\n",
    "class MinHeap:\n",
    "\n",
    "    def __init__(self):\n",
    "        self.heap_list = [None]\n",
    "        self.count = 0\n",
    "\n",
    "    # HEAP HELPER METHODS\n",
    "    def parent_idx(self, idx):\n",
    "        \"\"\"\n",
    "        Params:\n",
    "        idx - index and element to evaluate\n",
    "        Returns - the parent of the idx inserted\n",
    "        \"\"\"\n",
    "        return idx // 2\n",
    "\n",
    "    def left_child_idx(self, idx):\n",
    "        \"\"\"\n",
    "        Params:\n",
    "        idx - index and element to evaluate\n",
    "        Returns - The left child of element of the corresponding idx\n",
    "        \"\"\"\n",
    "        return idx * 2\n",
    "\n",
    "    def right_child_idx(self, idx):\n",
    "        \"\"\"\n",
    "        Params:\n",
    "        idx - index and element to evaluate\n",
    "        Returns - The right child of element of the corresponding idx\n",
    "        \"\"\"\n",
    "        return (idx * 2) + 1\n",
    "\n",
    "    def add(self, element):\n",
    "        print(f\"Adding element {element} to {self.heap_list}\")\n",
    "\n",
    "        self.count += 1\n",
    "        self.heap_list.append(element)\n",
    "\n",
    "    def heapify_up(self):\n",
    "        print(\"Restoring the heap property...\")"
   ]
  },
  {
   "cell_type": "code",
   "execution_count": 18,
   "metadata": {},
   "outputs": [
    {
     "name": "stdout",
     "output_type": "stream",
     "text": [
      "[None, 10, 13, 21, 61, 22, 23, 99]\n",
      "the parent index of 4 is:\n",
      "2\n",
      "the left child index of 3 is:\n",
      "6\n",
      "The left child index of index 2 is:\n",
      "4\n",
      "The left child element of index 2 is:\n",
      "61\n",
      "The parent index of index 3 is:\n",
      "1\n",
      "The parent element of index 3 is:\n",
      "10\n",
      "The right child index of index 3 is:\n",
      "7\n",
      "The right child element of index 3 is:\n",
      "99\n"
     ]
    }
   ],
   "source": [
    "min_heap = MinHeap()\n",
    "# print(min_heap.heap_list)\n",
    "# min_heap.add(42)\n",
    "\n",
    "# the internal list for our example\n",
    "min_heap.heap_list = [None, 10, 13, 21, 61, 22, 23, 99]\n",
    "print(min_heap.heap_list)\n",
    "\n",
    "# example of how to use the helper methods:\n",
    "print(\"the parent index of 4 is:\")\n",
    "print(min_heap.parent_idx(4))\n",
    "print(\"the left child index of 3 is:\")\n",
    "print(min_heap.left_child_idx(3))\n",
    "\n",
    "# now it's your turn!\n",
    "# replace 'None' below using the correct helper methods and indexes\n",
    "idx_2_left_child_idx = min_heap.left_child_idx(2)\n",
    "print(\"The left child index of index 2 is:\")\n",
    "print(idx_2_left_child_idx)\n",
    "print(\"The left child element of index 2 is:\")\n",
    "# uncomment the line below to see the result in your console!\n",
    "print(min_heap.heap_list[idx_2_left_child_idx])\n",
    "\n",
    "idx_3_parent_idx = min_heap.parent_idx(3)\n",
    "print(\"The parent index of index 3 is:\")\n",
    "print(idx_3_parent_idx)\n",
    "print(\"The parent element of index 3 is:\")\n",
    "# uncomment the line below to see the result in your console!\n",
    "print(min_heap.heap_list[idx_3_parent_idx])\n",
    "\n",
    "idx_3_right_child_idx = min_heap.right_child_idx(3)\n",
    "print(\"The right child index of index 3 is:\")\n",
    "print(idx_3_right_child_idx)\n",
    "print(\"The right child element of index 3 is:\")\n",
    "# # uncomment the line below to see the result in your console!\n",
    "print(min_heap.heap_list[idx_3_right_child_idx])"
   ]
  },
  {
   "cell_type": "code",
   "execution_count": 4,
   "metadata": {},
   "outputs": [
    {
     "name": "stdout",
     "output_type": "stream",
     "text": [
      "[None, None, None]\n"
     ]
    }
   ],
   "source": [
    " ### TESTING GROUNDS \n",
    "\n",
    "test_list = [None] * 3\n",
    "print(test_list)"
   ]
  },
  {
   "cell_type": "code",
   "execution_count": null,
   "metadata": {},
   "outputs": [],
   "source": []
  }
 ],
 "metadata": {
  "kernelspec": {
   "display_name": "Python 3",
   "language": "python",
   "name": "python3"
  },
  "language_info": {
   "codemirror_mode": {
    "name": "ipython",
    "version": 3
   },
   "file_extension": ".py",
   "mimetype": "text/x-python",
   "name": "python",
   "nbconvert_exporter": "python",
   "pygments_lexer": "ipython3",
   "version": "3.11.5"
  }
 },
 "nbformat": 4,
 "nbformat_minor": 2
}
