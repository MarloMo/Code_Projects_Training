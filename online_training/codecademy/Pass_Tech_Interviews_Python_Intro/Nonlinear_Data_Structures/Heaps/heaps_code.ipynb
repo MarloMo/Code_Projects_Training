{
 "cells": [
  {
   "cell_type": "markdown",
   "metadata": {},
   "source": [
    "### **Min-Heaps of Fun**\n",
    "\n",
    "Min-heaps are nearly identical to a max-heap, just with the comparisons reversed.\n",
    "\n",
    "Heaps enable solutions for complex problems such as finding the shortest path **(Dijkstra’s Algorithm)** or efficiently sorting a dataset **(heapsort)**.\n",
    "\n",
    "They’re an essential tool for confidently navigating some of the difficult questions posed in a technical interview.\n",
    "\n"
   ]
  },
  {
   "cell_type": "code",
   "execution_count": null,
   "metadata": {},
   "outputs": [],
   "source": []
  }
 ],
 "metadata": {
  "language_info": {
   "name": "python"
  }
 },
 "nbformat": 4,
 "nbformat_minor": 2
}
