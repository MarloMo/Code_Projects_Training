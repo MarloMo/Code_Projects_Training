{
 "cells": [
  {
   "cell_type": "markdown",
   "metadata": {},
   "source": [
    "### **Min-Heaps of Fun**\n",
    "\n",
    "Min-heaps are nearly identical to a max-heap, just with the comparisons reversed.\n",
    "\n",
    "Heaps enable solutions for complex problems such as finding the shortest path **(Dijkstra’s Algorithm)** or efficiently sorting a dataset **(heapsort)**.\n",
    "They’re an essential tool for confidently navigating some of the difficult questions posed in a technical interview.\n",
    "\n",
    "To make our lives easier, we’ll always keep one sentinel element at the beginning inside the list: None.\n",
    "\n",
    "```\n",
    "heap = MinHeap()\n",
    "print(heap.heap_list)\n",
    "# [None]\n",
    "print(heap.count)\n",
    "# 0\n",
    "```\n",
    "\n",
    "This dummy value will save us the trouble of checking whether the list is empty and simplify the methods we define in later lessons.\n",
    "\n"
   ]
  },
  {
   "cell_type": "code",
   "execution_count": 24,
   "metadata": {},
   "outputs": [],
   "source": [
    "import random as rnd"
   ]
  },
  {
   "cell_type": "code",
   "execution_count": 95,
   "metadata": {},
   "outputs": [],
   "source": [
    "class MinHeap:\n",
    "\n",
    "    def __init__(self):\n",
    "        self.heap_list = [None]\n",
    "        self.count = 0\n",
    "\n",
    "    ### HEAP HELPER METHODS\n",
    "    def parent_idx(self, idx):\n",
    "        \"\"\"\n",
    "        Params:\n",
    "        idx - index and element to evaluate\n",
    "        Returns - the parent of the idx inserted\n",
    "        \"\"\"\n",
    "        return idx // 2\n",
    "\n",
    "    def left_child_idx(self, idx):\n",
    "        \"\"\"\n",
    "        Params:\n",
    "        idx - index and element to evaluate\n",
    "        Returns - The left child of element of the corresponding idx\n",
    "        \"\"\"\n",
    "        return idx * 2\n",
    "\n",
    "    def right_child_idx(self, idx):\n",
    "        \"\"\"\n",
    "        Params:\n",
    "        idx - index and element to evaluate\n",
    "        Returns - The right child of element of the corresponding idx\n",
    "        \"\"\"\n",
    "        return (idx * 2) + 1\n",
    "\n",
    "    def get_smaller_child_idx(self, idx):\n",
    "        if self.right_child_idx(idx) > self.count:\n",
    "            # print(\"There is no right child idx, grabbing left...\")\n",
    "            return self.left_child_idx(idx)\n",
    "        else:\n",
    "            if (\n",
    "                self.heap_list[self.right_child_idx(idx)]\n",
    "                > self.heap_list[self.left_child_idx(idx)]\n",
    "            ):\n",
    "                # print(\"Left child is smaller...\")\n",
    "                return self.left_child_idx(idx)\n",
    "            else:\n",
    "                # print(\"Right child is smaller...\")\n",
    "                return self.right_child_idx(idx)\n",
    "\n",
    "    def child_present(self, idx):\n",
    "        return self.left_child_idx(idx) <= self.count\n",
    "\n",
    "    ###\n",
    "\n",
    "    def add(self, element):\n",
    "        # print(f\"Adding element {element} to {self.heap_list}\")\n",
    "\n",
    "        self.count += 1\n",
    "        self.heap_list.append(element)\n",
    "        self.heapify_up()\n",
    "\n",
    "    def heapify_up(self):\n",
    "        # print(\"Restoring the heap property...\")\n",
    "        # start at the last element of the list\n",
    "        # while there's a parent element available:\n",
    "        # if the parent element is greater:\n",
    "        #   swap the elements\n",
    "        #   set the target element index to be the parent's index\n",
    "\n",
    "        # Can use self.count to retrieve the last index (depending on the current\n",
    "        # count of the list).\n",
    "        idx = self.count\n",
    "        while self.parent_idx(idx) > 0:\n",
    "            child_element = self.heap_list[idx]\n",
    "            parent_element = self.heap_list[self.parent_idx(idx)]\n",
    "\n",
    "            if parent_element > child_element:\n",
    "                # print(f\"Swapping {parent_element} with {child_element}\")\n",
    "                self.heap_list[self.parent_idx(idx)] = child_element\n",
    "                self.heap_list[idx] = parent_element\n",
    "            else:\n",
    "                break\n",
    "\n",
    "            idx = self.parent_idx(idx)\n",
    "\n",
    "        # print(f\"Heap restored! {self.heap_list}\")\n",
    "\n",
    "    def heapify_down(self):\n",
    "        idx = 1\n",
    "        while self.child_present(idx):\n",
    "            smaller_child_idx = self.get_smaller_child_idx(idx)\n",
    "            if self.heap_list[idx] > self.heap_list[smaller_child_idx]:\n",
    "                tmp = self.heap_list[smaller_child_idx]\n",
    "                # print(\n",
    "                #     f\"Swapping {self.heap_list[idx]} with {self.heap_list[smaller_child_idx]}\"\n",
    "                # )\n",
    "                self.heap_list[smaller_child_idx] = self.heap_list[idx]\n",
    "                self.heap_list[idx] = tmp\n",
    "\n",
    "            idx = smaller_child_idx\n",
    "\n",
    "        # print(f\"Heap restored! {self.heap_list}\")\n",
    "\n",
    "    def retrieve_min(self):\n",
    "        # print(\"Retrieving min value...\")\n",
    "        if self.count == 0:\n",
    "            print(\"No items in heap!\")\n",
    "            return None\n",
    "\n",
    "        min = self.heap_list[1]\n",
    "        # print(f\"Removing {min} from {self.heap_list}\")\n",
    "        self.heap_list[1] = self.heap_list[self.count]\n",
    "        self.heap_list.pop()\n",
    "\n",
    "        self.count -= 1\n",
    "\n",
    "        # print(f\"Last element moved to first: {self.heap_list}\")\n",
    "        self.heapify_down()\n",
    "\n",
    "        return min"
   ]
  },
  {
   "cell_type": "code",
   "execution_count": 98,
   "metadata": {},
   "outputs": [
    {
     "name": "stdout",
     "output_type": "stream",
     "text": [
      "My Min Heap List: \n",
      " [None, 10, 13, 21, 61, 22, 23, 99]\n",
      "\n",
      "\n",
      "My Min Heap List: \n",
      " [None]\n"
     ]
    }
   ],
   "source": [
    "min_heap = MinHeap()\n",
    "# print(min_heap.heap_list)\n",
    "# min_heap.add(42)\n",
    "\n",
    "# the internal list for our example\n",
    "min_heap = MinHeap()\n",
    "min_heap.add(10)\n",
    "min_heap.add(13)\n",
    "min_heap.add(21)\n",
    "min_heap.add(61)\n",
    "min_heap.add(22)\n",
    "min_heap.add(23)\n",
    "min_heap.add(99)\n",
    "print(\"My Min Heap List: \\n\", min_heap.heap_list)\n",
    "\n",
    "# # example of how to use the helper methods:\n",
    "# print(\"the parent index of 4 is:\")\n",
    "# print(min_heap.parent_idx(4))\n",
    "# print(\"the left child index of 3 is:\")\n",
    "# print(min_heap.left_child_idx(3))\n",
    "\n",
    "# # now it's your turn!\n",
    "# # replace 'None' below using the correct helper methods and indexes\n",
    "# idx_2_left_child_idx = min_heap.left_child_idx(2)\n",
    "# print(\"The left child index of index 2 is:\")\n",
    "# print(idx_2_left_child_idx)\n",
    "# print(\"The left child element of index 2 is:\")\n",
    "# # uncomment the line below to see the result in your console!\n",
    "# print(min_heap.heap_list[idx_2_left_child_idx])\n",
    "\n",
    "# idx_3_parent_idx = min_heap.parent_idx(3)\n",
    "# print(\"The parent index of index 3 is:\")\n",
    "# print(idx_3_parent_idx)\n",
    "# print(\"The parent element of index 3 is:\")\n",
    "# # uncomment the line below to see the result in your console!\n",
    "# print(min_heap.heap_list[idx_3_parent_idx])\n",
    "\n",
    "# idx_3_right_child_idx = min_heap.right_child_idx(3)\n",
    "# print(\"The right child index of index 3 is:\")\n",
    "# print(idx_3_right_child_idx)\n",
    "# print(\"The right child element of index 3 is:\")\n",
    "# # # uncomment the line below to see the result in your console!\n",
    "# print(min_heap.heap_list[idx_3_right_child_idx])\n",
    "\n",
    "# print(\"\\n\")\n",
    "# min_heap.add(12)\n",
    "\n",
    "print(\"\\n\")\n",
    "while len(min_heap.heap_list) != 1:\n",
    "    min_heap.retrieve_min() \n",
    "\n",
    "print(\"My Min Heap List: \\n\", min_heap.heap_list)"
   ]
  },
  {
   "cell_type": "code",
   "execution_count": 87,
   "metadata": {},
   "outputs": [
    {
     "name": "stdout",
     "output_type": "stream",
     "text": [
      "[None, 13, 22, 21, 61, 99, 23]\n",
      "The smaller child of index 1 is: \n",
      "Right child is smaller...\n",
      "21\n"
     ]
    }
   ],
   "source": [
    "print(min_heap.heap_list)\n",
    "print(\"The smaller child of index 1 is: \")\n",
    "smaller_child_of_idx_1 = min_heap.get_smaller_child_idx(1)\n",
    "print(min_heap.heap_list[smaller_child_of_idx_1])"
   ]
  },
  {
   "cell_type": "code",
   "execution_count": 66,
   "metadata": {},
   "outputs": [
    {
     "name": "stdout",
     "output_type": "stream",
     "text": [
      "Adding element 38 to [None]\n",
      "Restoring the heap property...\n",
      "Heap restored! [None, 38]\n",
      "Adding element 79 to [None, 38]\n",
      "Restoring the heap property...\n",
      "Heap restored! [None, 38, 79]\n",
      "Adding element 60 to [None, 38, 79]\n",
      "Restoring the heap property...\n",
      "Heap restored! [None, 38, 79, 60]\n",
      "Adding element 87 to [None, 38, 79, 60]\n",
      "Restoring the heap property...\n",
      "Heap restored! [None, 38, 79, 60, 87]\n",
      "Adding element 49 to [None, 38, 79, 60, 87]\n",
      "Restoring the heap property...\n",
      "Swapping 79 with 49\n",
      "Heap restored! [None, 38, 49, 60, 87, 79]\n",
      "Adding element 38 to [None, 38, 49, 60, 87, 79]\n",
      "Restoring the heap property...\n",
      "Swapping 60 with 38\n",
      "Heap restored! [None, 38, 49, 38, 87, 79, 60]\n",
      "\n",
      "\n",
      "Retrieving min value...\n",
      "Removing 38 from [None, 38, 49, 38, 87, 79, 60]\n",
      "Last element moved to first: [None, 60, 49, 38, 87, 79]\n"
     ]
    },
    {
     "data": {
      "text/plain": [
       "38"
      ]
     },
     "execution_count": 66,
     "metadata": {},
     "output_type": "execute_result"
    }
   ],
   "source": [
    "min_heap_2 = MinHeap()\n",
    "\n",
    "#populate min_heap_2 with random numbers\n",
    "random_numbers = [rnd.randrange(1, 101) for n in range(6)]\n",
    "for el in random_numbers:\n",
    "    min_heap_2.add(el)\n",
    "print(\"\\n\")\n",
    "\n",
    "min_heap_2.retrieve_min()"
   ]
  },
  {
   "cell_type": "code",
   "execution_count": 17,
   "metadata": {},
   "outputs": [
    {
     "name": "stdout",
     "output_type": "stream",
     "text": [
      "[None, None, None]\n"
     ]
    }
   ],
   "source": [
    " ### TESTING GROUNDS \n",
    "\n",
    "test_list = [None] * 3\n",
    "print(test_list)"
   ]
  },
  {
   "cell_type": "code",
   "execution_count": null,
   "metadata": {},
   "outputs": [],
   "source": []
  }
 ],
 "metadata": {
  "kernelspec": {
   "display_name": "Python 3",
   "language": "python",
   "name": "python3"
  },
  "language_info": {
   "codemirror_mode": {
    "name": "ipython",
    "version": 3
   },
   "file_extension": ".py",
   "mimetype": "text/x-python",
   "name": "python",
   "nbconvert_exporter": "python",
   "pygments_lexer": "ipython3",
   "version": "3.12.3"
  }
 },
 "nbformat": 4,
 "nbformat_minor": 2
}
