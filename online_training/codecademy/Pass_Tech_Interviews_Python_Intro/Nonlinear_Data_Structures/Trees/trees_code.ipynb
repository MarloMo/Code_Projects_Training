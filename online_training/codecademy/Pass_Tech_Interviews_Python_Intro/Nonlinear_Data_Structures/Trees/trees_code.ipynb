{
 "cells": [
  {
   "cell_type": "markdown",
   "metadata": {},
   "source": [
    "### **Tree Node Example Class**"
   ]
  },
  {
   "cell_type": "code",
   "execution_count": 1,
   "metadata": {},
   "outputs": [
    {
     "name": "stdout",
     "output_type": "stream",
     "text": [
      "MONKEY BUSINESS, LLC.\n",
      "=====================\n",
      "'Monkey Business CEO'\n",
      "--->'VP of Bananas'\n",
      "--->--->'Associate Chimp'\n",
      "--->--->'Chief Bonobo'\n",
      "--->'VP of Lazing Around'\n",
      "--->--->'Produce Manager'\n",
      "--->--->'Tire Swing R & D'\n",
      "\n"
     ]
    }
   ],
   "source": [
    "class TreeNode:\n",
    "    def __init__(self, value):\n",
    "        self.value = value\n",
    "        self.children = []\n",
    "\n",
    "    def __repr__(self, level=0):\n",
    "        # HELPER METHOD TO PRINT TREE!\n",
    "        ret = \"--->\" * level + repr(self.value) + \"\\n\"\n",
    "        for child in self.children:\n",
    "            ret += child.__repr__(level + 1)\n",
    "        return ret\n",
    "\n",
    "    def add_child(self, child_node):\n",
    "        self.children.append(child_node)\n",
    "\n",
    "\n",
    "### TEST CODE TO PRINT TREE\n",
    "company = [\n",
    "    \"Monkey Business CEO\",\n",
    "    \"VP of Bananas\",\n",
    "    \"VP of Lazing Around\",\n",
    "    \"Associate Chimp\",\n",
    "    \"Chief Bonobo\",\n",
    "    \"Produce Manager\",\n",
    "    \"Tire Swing R & D\",\n",
    "]\n",
    "root = TreeNode(company.pop(0))\n",
    "for count in range(2):\n",
    "    child = TreeNode(company.pop(0))\n",
    "    root.add_child(child)\n",
    "\n",
    "root.children[0].add_child(TreeNode(company.pop(0)))\n",
    "root.children[0].add_child(TreeNode(company.pop(0)))\n",
    "root.children[1].add_child(TreeNode(company.pop(0)))\n",
    "root.children[1].add_child(TreeNode(company.pop(0)))\n",
    "print(\"MONKEY BUSINESS, LLC.\")\n",
    "print(\"=====================\")\n",
    "print(root)"
   ]
  },
  {
   "cell_type": "code",
   "execution_count": null,
   "metadata": {},
   "outputs": [],
   "source": []
  }
 ],
 "metadata": {
  "kernelspec": {
   "display_name": "Python 3",
   "language": "python",
   "name": "python3"
  },
  "language_info": {
   "codemirror_mode": {
    "name": "ipython",
    "version": 3
   },
   "file_extension": ".py",
   "mimetype": "text/x-python",
   "name": "python",
   "nbconvert_exporter": "python",
   "pygments_lexer": "ipython3",
   "version": "3.11.5"
  }
 },
 "nbformat": 4,
 "nbformat_minor": 2
}
