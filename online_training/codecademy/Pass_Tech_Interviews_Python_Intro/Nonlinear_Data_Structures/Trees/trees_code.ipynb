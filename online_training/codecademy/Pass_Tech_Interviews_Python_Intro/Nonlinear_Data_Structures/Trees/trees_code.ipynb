{
 "cells": [
  {
   "cell_type": "markdown",
   "metadata": {},
   "source": [
    "### **Tree Node Example Class**"
   ]
  },
  {
   "cell_type": "code",
   "execution_count": 7,
   "metadata": {},
   "outputs": [],
   "source": [
    "class TreeNode_CC:\n",
    "    def __init__(self, value):\n",
    "        self.value = value\n",
    "        self.children = []\n",
    "\n",
    "    def __repr__(self, level=0):\n",
    "        # HELPER METHOD TO PRINT TREE!\n",
    "        ret = \"--->\" * level + repr(self.value) + \"\\n\"\n",
    "        for child in self.children:\n",
    "            ret += child.__repr__(level + 1)\n",
    "        return ret\n",
    "\n",
    "    def add_child(self, child_node):\n",
    "        self.children.append(child_node)"
   ]
  },
  {
   "cell_type": "code",
   "execution_count": 11,
   "metadata": {},
   "outputs": [
    {
     "name": "stdout",
     "output_type": "stream",
     "text": [
      "MONKEY BUSINESS, LLC.\n",
      "=====================\n",
      "'Monkey Business CEO'\n",
      "--->'VP of Bananas'\n",
      "--->--->'Associate Chimp'\n",
      "--->--->'Chief Bonobo'\n",
      "--->'VP of Lazing Around'\n",
      "--->--->'Produce Manager'\n",
      "--->--->'Tire Swing R & D'\n",
      "\n",
      "'CEO'\n",
      "\n",
      "'CEO'\n",
      "--->'Executive Assistant'\n",
      "\n"
     ]
    }
   ],
   "source": [
    "### TEST CODE TO PRINT TREE\n",
    "company = [\n",
    "    \"Monkey Business CEO\",\n",
    "    \"VP of Bananas\",\n",
    "    \"VP of Lazing Around\",\n",
    "    \"Associate Chimp\",\n",
    "    \"Chief Bonobo\",\n",
    "    \"Produce Manager\",\n",
    "    \"Tire Swing R & D\",\n",
    "]\n",
    "root = TreeNode_CC(company.pop(0))\n",
    "for count in range(2):\n",
    "    child = TreeNode_CC(company.pop(0))\n",
    "    root.add_child(child)\n",
    "\n",
    "root.children[0].add_child(TreeNode_CC(company.pop(0)))\n",
    "root.children[0].add_child(TreeNode_CC(company.pop(0)))\n",
    "root.children[1].add_child(TreeNode_CC(company.pop(0)))\n",
    "root.children[1].add_child(TreeNode_CC(company.pop(0)))\n",
    "print(\"MONKEY BUSINESS, LLC.\")\n",
    "print(\"=====================\")\n",
    "print(root)\n",
    "\n",
    "### SECOND EXAMPLE\n",
    "parent = TreeNode_CC(\"CEO\")\n",
    "child = TreeNode_CC(\"Executive Assistant\")\n",
    "print(parent)\n",
    "parent.add_child(child)\n",
    "print(parent)"
   ]
  },
  {
   "cell_type": "markdown",
   "metadata": {},
   "source": [
    "## **Tree Implementation**"
   ]
  },
  {
   "cell_type": "code",
   "execution_count": 23,
   "metadata": {},
   "outputs": [],
   "source": [
    "class TreeNode:\n",
    "\n",
    "    def __init__(self, value):\n",
    "        # print(\"Initializing node...\")\n",
    "        self.value = value\n",
    "        self.children = []\n",
    "\n",
    "    def add_child(self, child_node):\n",
    "        print(\"Adding \" + child_node.value)\n",
    "        self.children.append(child_node)\n",
    "\n",
    "    def remove_child(self, child_node):\n",
    "        print(\"Removing \" + child_node.value + \" from \" + self.value)\n",
    "\n",
    "        ### Refactored Method ###\n",
    "        self.children = [child for child in self.children if child != child_node]\n",
    "\n",
    "        ### Marlo Method ###\n",
    "        # new_children = []\n",
    "        # for child in self.children:\n",
    "        #     if child != child_node:\n",
    "        #         new_children.append(child)\n",
    "        # self.children = new_children\n",
    "\n",
    "    def traverse(self):\n",
    "        print(\"Traversing...\")\n",
    "        nodes_to_visit = [self]\n",
    "\n",
    "        while len(nodes_to_visit) > 0:\n",
    "            current_node = nodes_to_visit.pop()\n",
    "            print(current_node.value)\n",
    "            nodes_to_visit += current_node.children\n",
    "            "
   ]
  },
  {
   "cell_type": "code",
   "execution_count": 24,
   "metadata": {},
   "outputs": [
    {
     "name": "stdout",
     "output_type": "stream",
     "text": [
      "Adding Vice-President\n",
      "Adding Head of Marketing\n",
      "Adding Marketing Assistant\n",
      "Adding CTO\n",
      "======================\n",
      "Removing CTO from CEO\n",
      "======================\n",
      "Traversing...\n",
      "CEO\n",
      "Head of Marketing\n",
      "Marketing Assistant\n",
      "Vice-President\n"
     ]
    }
   ],
   "source": [
    "root = TreeNode(\"CEO\")\n",
    "first_child = TreeNode(\"Vice-President\")\n",
    "second_child = TreeNode(\"Head of Marketing\")\n",
    "third_child = TreeNode(\"Marketing Assistant\")\n",
    "fourth_child = TreeNode(\"CTO\")\n",
    "\n",
    "root.add_child(first_child)\n",
    "root.add_child(second_child)\n",
    "second_child.add_child(third_child)\n",
    "root.add_child(fourth_child)\n",
    "print(\"======================\")\n",
    "\n",
    "root.remove_child(fourth_child)\n",
    "print(\"======================\")\n",
    "\n",
    "root.traverse()"
   ]
  },
  {
   "cell_type": "code",
   "execution_count": null,
   "metadata": {},
   "outputs": [],
   "source": []
  }
 ],
 "metadata": {
  "kernelspec": {
   "display_name": "Python 3",
   "language": "python",
   "name": "python3"
  },
  "language_info": {
   "codemirror_mode": {
    "name": "ipython",
    "version": 3
   },
   "file_extension": ".py",
   "mimetype": "text/x-python",
   "name": "python",
   "nbconvert_exporter": "python",
   "pygments_lexer": "ipython3",
   "version": "3.11.5"
  }
 },
 "nbformat": 4,
 "nbformat_minor": 2
}
