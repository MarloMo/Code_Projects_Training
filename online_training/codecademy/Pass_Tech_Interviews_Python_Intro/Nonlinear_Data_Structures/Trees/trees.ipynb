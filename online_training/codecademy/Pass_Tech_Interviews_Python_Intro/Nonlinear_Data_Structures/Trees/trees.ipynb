{
 "cells": [
  {
   "cell_type": "markdown",
   "metadata": {},
   "source": [
    "## **Trees Introduction**\n",
    "\n",
    "Trees are an essential data structure for storing hierarchical data with a directed flow.\n",
    "\n",
    "Similar to linked lists and graphs, trees are composed of nodes which hold data. The diagram represents nodes as rectangles and data as text.\n",
    "\n",
    "Nodes also store references to zero or more other tree nodes. Data moves down from node to node. We depict those references as lines drawn between rectangles.\n",
    "\n",
    "Trees are often displayed with a single node at the top and connected nodes branching downwards.\n",
    "\n",
    "A company’s organization chart or a computer’s file directory are both real-world examples that can be represented as trees."
   ]
  },
  {
   "cell_type": "markdown",
   "metadata": {},
   "source": [
    "## **Tree Detail**\n",
    "\n",
    "Trees grow downwards in computer science, and a root node is at the very top. The root of this tree is /photos.\n",
    "\n",
    "/photos references to two other nodes: /safari and /wedding. /safari and /wedding are children or child nodes of /photos.\n",
    "\n",
    "Conversely, /photos is a parent node because it has child nodes.\n",
    "\n",
    "/safari and /wedding share the same parent node, which makes them siblings.\n",
    "\n",
    "Note that the /safari node is child (to /photos) and parent (to lion.jpg and giraffe.jpg). It’s extremely common to have nodes act as both parent and child to different nodes within a tree.\n",
    "\n",
    "When a node has no children, we refer to it as a leaf node."
   ]
  },
  {
   "cell_type": "markdown",
   "metadata": {},
   "source": [
    "## **Tree Varietals**\n",
    "\n",
    "Trees come in various shapes and sizes depending on the dataset modeled.\n",
    "\n",
    "Some are wide, with parent nodes referencing many child nodes.\n",
    "\n",
    "Some are deep, with many parent-child relationships.\n",
    "\n",
    "Trees can be both wide and deep, but each node will only ever have at most one parent; otherwise, they wouldn’t be trees!\n",
    "\n",
    "Each time we move from a parent to a child, we’re moving down a level. Depending on the orientation we refer to this as the depth (counting levels down from the root node) or height (counting levels up from a leaf node)."
   ]
  },
  {
   "cell_type": "markdown",
   "metadata": {},
   "source": [
    "## **Binary Search Trees**\n",
    "\n",
    "Constraints are placed on the data or node arrangement of a tree to solve difficult problems like efficient search.\n",
    "\n",
    "A binary tree is a type of tree where each parent can have no more than two children, known as the left child and right child.\n",
    "\n",
    "Further constraints make a binary search tree:\n",
    "\n",
    "Left child values must be lesser than their parent.\n",
    "Right child values must be greater than their parent.\n",
    "The constraints of a binary search tree allow us to search the tree efficiently. At each node, we can discard half of the remaining possible values!\n",
    "\n",
    "Let’s walk through locating the value 31.\n",
    "\n",
    "1. Start at the root: 39\n",
    "2. 31 < 39, we move to the left child: 23\n",
    "3. 23 < 31, we move to the right child: 35\n",
    "4. 31 < 35, we move to the left child: 31\n",
    "5. We found the value 31!\n",
    "\n",
    "In a dataset of fifteen elements, we only made three comparisons. What a deal!"
   ]
  },
  {
   "cell_type": "markdown",
   "metadata": {},
   "source": []
  },
  {
   "cell_type": "markdown",
   "metadata": {},
   "source": [
    "## **Tree Review**\n",
    "\n",
    "Trees are useful for modeling data that has a hierarchical relationship which moves in the direction from parent to child. No child node will have more than one parent.\n",
    "\n",
    "To recap some terms:\n",
    "\n",
    "* root: A node which has no parent. One per tree.\n",
    "* parent: A node which references other nodes.\n",
    "* child: Nodes referenced by other nodes.\n",
    "* sibling: Nodes which have the same parent.\n",
    "* leaf: Nodes which have no children.\n",
    "* level: The height or depth of the tree. Root nodes are at level 1, their children are at level 2, and so on."
   ]
  },
  {
   "cell_type": "markdown",
   "metadata": {},
   "source": []
  }
 ],
 "metadata": {
  "language_info": {
   "name": "python"
  }
 },
 "nbformat": 4,
 "nbformat_minor": 2
}
