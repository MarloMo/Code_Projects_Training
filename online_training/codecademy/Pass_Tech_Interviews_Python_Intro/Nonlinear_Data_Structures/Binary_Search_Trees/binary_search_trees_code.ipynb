{
 "cells": [
  {
   "cell_type": "markdown",
   "metadata": {},
   "source": [
    "### **Introduction**\n",
    "\n",
    "A Binary Search Tree is an efficient data structure for fast (O(log N)) data storage and retrieval. It is a specialized tree data structure that is made up of a root node, and at most two child branches, or subtrees.\n",
    "\n",
    "Depending on the requirements, a Binary Search Tree can have certain qualities. It can allow duplicate values to exist, or enforce that there are unique values only. If duplicate values are allowed, it must be decided whether nodes with equal value go on the root’s left subtree or right subtree.\n",
    "\n",
    "For this implementation, duplicate values will be allowed, and nodes with values that are the same as the root node’s will be in the root node’s right subtree.\n",
    "\n",
    "Each node will be an instance of the `BinarySearchTree` class and will have the following properties:\n",
    "\n",
    "\n",
    "* a value that represents the data stored\n",
    "* a depth, where a depth of 1 indicates the top level, or root, of the tree and a depth greater than 1 is a level somewhere lower in the tree\n",
    "* a left instance variable that points to a left child which is itself a Binary Search Tree, and must have a data lesser than its parent node’s data\n",
    "* a right instance variable that points to a right child which is itself a Binary Search Tree, and must have a data greater than or equal to its parent node’s data"
   ]
  },
  {
   "cell_type": "code",
   "execution_count": 21,
   "metadata": {},
   "outputs": [],
   "source": [
    "class BinarySearchTree:\n",
    "\n",
    "    def __init__(self, value, depth=1):\n",
    "        self.value = value\n",
    "        self.depth = depth\n",
    "        self.left = None\n",
    "        self.right = None\n",
    "\n",
    "    def insert(self, value):\n",
    "\n",
    "        if value < self.value:\n",
    "            if self.left == None:\n",
    "                self.left = BinarySearchTree(value, self.depth + 1)\n",
    "                print(\n",
    "                    f\"Tree node {value} added to the left of {self.value} at depth {self.depth + 1}\"\n",
    "                )\n",
    "            else:\n",
    "                self.left.insert(value)\n",
    "        else:\n",
    "            if self.right == None:\n",
    "                self.right = BinarySearchTree(value, self.depth + 1)\n",
    "                print(\n",
    "                    f\"Tree node {value} added to the right of {self.value} at depth {self.depth + 1}\"\n",
    "                )\n",
    "            else:\n",
    "                self.right.insert(value)\n",
    "\n",
    "    def get_node_by_value(self, value):\n",
    "\n",
    "        if value == self.value:\n",
    "            return self\n",
    "        elif self.left != None and value < self.value:\n",
    "            return self.left.get_node_by_value(value)\n",
    "        elif self.right != None and value > self.value:\n",
    "            return self.right.get_node_by_value(value)\n",
    "        else:\n",
    "            print(\"Value no in the binary search list\")\n",
    "            return None\n",
    "\n",
    "    def depth_first_traversal(self):\n",
    "        \"\"\"\n",
    "        Inorder traversal method - Perform an action on the left\n",
    "        child node first, followed by the current node and the right child node\n",
    "        \"\"\"\n",
    "        if self.left != None:\n",
    "            self.left.depth_first_traversal()\n",
    "\n",
    "        print(f\"Depth={self.depth}, Value={self.value}\")\n",
    "\n",
    "        if self.right != None:\n",
    "            self.right.depth_first_traversal()"
   ]
  },
  {
   "cell_type": "code",
   "execution_count": 24,
   "metadata": {},
   "outputs": [
    {
     "name": "stdout",
     "output_type": "stream",
     "text": [
      "Tree node 24 added to the left of 48 at depth 2\n",
      "Tree node 55 added to the right of 48 at depth 2\n",
      "Tree node 26 added to the right of 24 at depth 3\n",
      "Tree node 38 added to the right of 26 at depth 4\n",
      "Tree node 56 added to the right of 55 at depth 3\n",
      "Tree node 74 added to the right of 56 at depth 4\n",
      "74\n",
      "Value no in the binary search list\n",
      "None\n",
      "Depth=2, Value=24\n",
      "Depth=3, Value=26\n",
      "Depth=4, Value=38\n",
      "Depth=1, Value=48\n",
      "Depth=2, Value=55\n",
      "Depth=3, Value=56\n",
      "Depth=4, Value=74\n"
     ]
    }
   ],
   "source": [
    "root = BinarySearchTree(48)\n",
    "# print(root.value)\n",
    "root.insert(24)\n",
    "root.insert(55)\n",
    "root.insert(26)\n",
    "root.insert(38)\n",
    "root.insert(56)\n",
    "root.insert(74)\n",
    "\n",
    "print(root.get_node_by_value(74).value)\n",
    "print(root.get_node_by_value(51))\n",
    "\n",
    "root.depth_first_traversal()"
   ]
  },
  {
   "cell_type": "code",
   "execution_count": null,
   "metadata": {},
   "outputs": [],
   "source": []
  }
 ],
 "metadata": {
  "kernelspec": {
   "display_name": "Python 3",
   "language": "python",
   "name": "python3"
  },
  "language_info": {
   "codemirror_mode": {
    "name": "ipython",
    "version": 3
   },
   "file_extension": ".py",
   "mimetype": "text/x-python",
   "name": "python",
   "nbconvert_exporter": "python",
   "pygments_lexer": "ipython3",
   "version": "3.11.5"
  }
 },
 "nbformat": 4,
 "nbformat_minor": 2
}
