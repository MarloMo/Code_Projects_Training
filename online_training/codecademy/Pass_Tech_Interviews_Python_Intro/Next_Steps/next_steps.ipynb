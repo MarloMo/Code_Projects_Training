{
 "cells": [
  {
   "cell_type": "markdown",
   "metadata": {},
   "source": [
    "# **Next Steps**\n"
   ]
  },
  {
   "cell_type": "markdown",
   "metadata": {},
   "source": [
    "## **Additional Data Structures and Algorithms**\n",
    "\n",
    "We’ve covered a broad base of fundamental data structures, but there are many more advanced and specialized forms. Consider studying and building the following:\n",
    "\n",
    "* Tree-based data structures like the red-black tree, trie, or self-balancing binary tree\n",
    "* Binary and bitwise structures like bit fields and bitmasks\n",
    "\n",
    "Consider looking into the following algorithms:\n",
    "\n",
    "* Additional sorting algorithms like heapsort, insertion sort, or shell sort\n",
    "* Additional pathfinding algorithms, such as the Lee algorithm for searching through mazes\n",
    "* String-searching and pattern-matching algorithms such as the Knuth–Morris–Pratt (KMP) algorithm"
   ]
  },
  {
   "cell_type": "markdown",
   "metadata": {},
   "source": [
    "## **Extensions**\n",
    "\n",
    "In addition to building data structures and algorithms themselves, try applying them in new situations. Here are a few ideas to get you started\n",
    "\n",
    "* Alter the sorting algorithms that you built in this course so that they take a comparator function and can sort anything instead of just numbers.\n",
    "* Experiment with other hashing functions for your HashMap structure. Can you maximize the efficiency for different types of inputs with different hashing functions?"
   ]
  },
  {
   "cell_type": "markdown",
   "metadata": {},
   "source": [
    "## **Projects**\n",
    "\n",
    "Besides learning new algorithms and data structures, one of the best ways to work on problem-solving is to build real-life projects. Consider building a project where using algorithms and data structures will be necessary in order to make the application efficient:\n",
    "\n",
    "* A dictionary search or spellchecker\n",
    "* A route-planning application\n",
    "* An application for pairing work partners based on their shared interests\n",
    "* A card game simulator in which you can shuffle the deck, maintain player hands, and keep track of the state of play"
   ]
  },
  {
   "cell_type": "markdown",
   "metadata": {},
   "source": []
  }
 ],
 "metadata": {
  "language_info": {
   "name": "python"
  }
 },
 "nbformat": 4,
 "nbformat_minor": 2
}
