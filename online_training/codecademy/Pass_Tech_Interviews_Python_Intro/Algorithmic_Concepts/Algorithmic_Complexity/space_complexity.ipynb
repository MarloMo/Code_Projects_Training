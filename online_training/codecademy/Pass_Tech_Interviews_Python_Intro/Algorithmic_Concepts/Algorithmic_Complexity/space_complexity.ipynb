{
 "cells": [
  {
   "cell_type": "markdown",
   "metadata": {},
   "source": [
    "# **Space Complexity**"
   ]
  },
  {
   "cell_type": "markdown",
   "metadata": {},
   "source": [
    "Asymptotic notation is often used to describe the runtime of a program or algorithm, but it can also be used to describe the space, or memory, that a program or algorithm will need.\n",
    "\n",
    "Think about a simple function that takes in two numbers and returns their sum:"
   ]
  },
  {
   "cell_type": "markdown",
   "metadata": {},
   "source": []
  },
  {
   "cell_type": "code",
   "execution_count": 1,
   "metadata": {},
   "outputs": [],
   "source": [
    "def add_numbers(a, b):\n",
    "    return a + b"
   ]
  },
  {
   "cell_type": "markdown",
   "metadata": {},
   "source": [
    "This function has a space complexity of O(1), because the amount of space it needs will not change based on the input. While this function also has a constant runtime of O(1), most functions do not have matching space and time complexities.\n",
    "\n",
    "Let’s take a look at another function:"
   ]
  },
  {
   "cell_type": "code",
   "execution_count": 3,
   "metadata": {},
   "outputs": [],
   "source": [
    "def simple_loop(input_array):\n",
    "    for i in range(input_array):\n",
    "        print(i)"
   ]
  },
  {
   "cell_type": "markdown",
   "metadata": {},
   "source": [
    "As we know, a simple for loop that goes through every element in an array of size n has a linear runtime of O(n). However, this function takes O(1) space since no new variables are being created and therefore no more space must be allocated.\n",
    "\n",
    "A recursive function that is passed the same array or object in each call doesn’t add to the space complexity if the array or object is passed by reference (which it is in Python).\n",
    "\n",
    "Like with time complexity, space complexity denotes space growth in relation to the input size. It’s also important to note that space complexity usually refers to any additional space that will be needed, and doesn’t count the space of the input. So a function could have 10 arrays passed into it, but if all it does inside is print 'Hello World!', then it still takes O(1) space.\n"
   ]
  },
  {
   "cell_type": "markdown",
   "metadata": {},
   "source": [
    "Consider the double_array() and find_min() functions. Both have big O runtimes of O(n), but what are their space complexities?"
   ]
  },
  {
   "cell_type": "code",
   "execution_count": 4,
   "metadata": {},
   "outputs": [],
   "source": [
    "def double_array(input_array):\n",
    "    # Returns an array that is the double of the input array\n",
    "    length = len(input_array)\n",
    "    doubled_array = [0] * length\n",
    "    for i in range(length):\n",
    "        doubled_array[i] = input_array[i] * 2\n",
    "    return doubled_array\n",
    "\n",
    "\n",
    "def find_min(input_array):\n",
    "    # Returns the smallest element in the array\n",
    "    minimum = input_array[0]\n",
    "    for i in input_array:\n",
    "        if i < minimum:\n",
    "            minimum = i\n",
    "    return minimum"
   ]
  },
  {
   "cell_type": "markdown",
   "metadata": {},
   "source": [
    "double_array() creates a new array that matches the size of the input array, so the space needed for this function will change as the size of the input array changes. find_min() only creates one new variable regardless of the input, so its size is constant.\n",
    "\n",
    "Space complexity is important to consider alongside time complexity when comparing data structures and algorithms. While two functions may have very similar runtimes, one could use less space. Consider the double_array() function from above. It has a runtime of O(n), and takes O(n) space. Could we optimize it to have a better space complexity?"
   ]
  },
  {
   "cell_type": "markdown",
   "metadata": {},
   "source": []
  },
  {
   "cell_type": "code",
   "execution_count": 5,
   "metadata": {},
   "outputs": [],
   "source": [
    "def double_array_in_place(input_array):\n",
    "    length = len(input_array)\n",
    "    for i in range(length):\n",
    "        input_array[i] *= 2\n",
    "\n",
    "    return input_array"
   ]
  },
  {
   "cell_type": "markdown",
   "metadata": {},
   "source": [
    "double_in_place() does the same thing as double_array() and in the same amount of time, but only takes O(1) space, simply because it doesn’t create a new array. As you move forward, remember that just because a program has the best runtime possible, doesn’t mean it can’t still be optimized."
   ]
  },
  {
   "cell_type": "code",
   "execution_count": null,
   "metadata": {},
   "outputs": [],
   "source": []
  }
 ],
 "metadata": {
  "kernelspec": {
   "display_name": "Python 3",
   "language": "python",
   "name": "python3"
  },
  "language_info": {
   "codemirror_mode": {
    "name": "ipython",
    "version": 3
   },
   "file_extension": ".py",
   "mimetype": "text/x-python",
   "name": "python",
   "nbconvert_exporter": "python",
   "pygments_lexer": "ipython3",
   "version": "3.11.5"
  }
 },
 "nbformat": 4,
 "nbformat_minor": 2
}
