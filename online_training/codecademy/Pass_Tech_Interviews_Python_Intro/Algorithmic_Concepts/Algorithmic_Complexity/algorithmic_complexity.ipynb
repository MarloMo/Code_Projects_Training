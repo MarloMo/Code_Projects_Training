{
 "cells": [
  {
   "cell_type": "markdown",
   "metadata": {},
   "source": [
    "# **Algorithmic Complexity**"
   ]
  },
  {
   "cell_type": "markdown",
   "metadata": {},
   "source": [
    "## **Asymptotic Notation**\n",
    "\n",
    "Asymptotic Notation is used to describe the running time of an algorithm - how much time an algorithm takes with a given input, n. There are three different notations: big O, big Theta (Θ), and big Omega (Ω). big-Θ is used when the running time is the same for all cases, big-O for the worst case running time, and big-Ω for the best case running time.\n",
    "\n",
    "In computer science, we define how efficient a program is by its runtime. We can’t just time the program, however, because different computers run at different speeds. My dusty old PC does not run as fast as your brand new laptop. Programming is also done in many different languages, how do we account for that in the runtime? We need a general way to define a program’s runtime across these variable factors. We do this with Asymptotic Notation.\n",
    "\n",
    "In fact, you can time a computer program, but different computers run at different speeds. For example, a program that takes 12 nanoseconds on one computer could take 45 milliseconds on another. Therefore, we need a more general way to gauge a program’s runtime. We do this with Asymptotic Notation.\n",
    "\n",
    "Instead of timing a program, through asymptotic notation, we can calculate a program’s runtime by looking at how many instructions the computer has to perform based on the size of the program’s input: N.\n",
    "\n",
    "You may see the term execution count used in evaluating algorithms. Execution count is more precise than Big O notation. The following method, addUpTo(), depending on how we count the number of operations, can be as low as 2N or as high as 5N + 2\n",
    "\n",
    "```\n",
    "public class Main() { \n",
    "  void int addUpTo(int n) {\n",
    "    int total = 0;\n",
    "    for (int i = 1; i <= n; i++) {\n",
    "      total += i;\n",
    "    }\n",
    "  return total;\n",
    "  } \n",
    "}\n",
    "```\n",
    "\n",
    "Determining execution count can increase in difficulty as our algorithms become even more sophisticated!\n",
    "\n",
    "But regardless of the execution count, the number of operations grows roughly proportionally with n. If n doubles, the number of operations will also roughly double.\n",
    "\n",
    "Big O Notation is a way to formalize fuzzy counting. It allows us to talk formally about how the runtime of an algorithm grows as the inputs grow. As we will see, Big O doesn’t focus on the details, only the trends"
   ]
  },
  {
   "cell_type": "markdown",
   "metadata": {},
   "source": [
    "## **Big Theta ($\\Theta$)**\n",
    "\n",
    "We use big Theta when a program has only one case in terms of runtime. But what exactly does that mean? Take a look at the pseudocode for a function that prints the values in a list below:\n",
    "\n",
    "```\n",
    "Function with input that is a list of size N:\n",
    "   For each value in list:\n",
    "    Print the value\n",
    "```\n",
    "\n",
    "The number of instructions the computer has to perform is based on how many iterations the loop will do because if the loop does more iterations, then the computer will perform instructions."
   ]
  },
  {
   "cell_type": "markdown",
   "metadata": {},
   "source": [
    "## **Common Runtimes**\n",
    "\n",
    "Below is a list of common runtimes that run from fastest to slowest.\n",
    "\n",
    "* Θ(1). This is constant runtime. This is the runtime when a program will always do the same thing regardless of the input. For instance, a program that only prints “hello, world” runs in Θ(1) because the program will always just print “hello, world”.\n",
    "* Θ(log N). This is logarithmic runtime. You will see this runtime in search algorithms.\n",
    "* Θ(N). This is linear runtime. You will often see this when you have to iterate through an entire dataset.\n",
    "* Θ(N*logN). You will see this runtime in sorting algorithms.\n",
    "* Θ(N^2). This is an example of a polynomial runtime. When N is raised to the 2nd power, it’s known as a quadratic runtime. You will see this runtime when you have to search through a two-dimensional dataset (like a matrix) or nested loops.\n",
    "* Θ(2^N). This is exponential runtime. You will often see this runtime in recursive algorithms (Don’t worry if you don’t know what that is yet!).\n",
    "* Θ(N!). This is factorial runtime. You will often see this runtime when you have to generate all of the different permutations of something. For instance, a program that generates all the different ways to order the letters “abcd” would run in this runtime."
   ]
  },
  {
   "cell_type": "markdown",
   "metadata": {},
   "source": [
    "## **Big Omega (Ω) and Big O (O)**\n",
    "\n",
    "We use big Omega or Ω to describe the best case and big O or O to describe the worst case.\n",
    "\n",
    "Take a look at the following pseudocode that returns True if 12 is in the list and False otherwise:\n",
    "\n",
    "```\n",
    "Function with input that is a list of size N:\n",
    "    For each value in the list:\n",
    "        If value is equal to 12:\n",
    "            Return True\n",
    "    Return False\n",
    "```\n",
    "\n",
    "How many times will the loop iterate? Let’s take a list of size 1000. If the first value in the list was 12, then the loop would only iterate once. However, if 12 wasn’t in the list at all, the loop would iterate 1000 times. If the input was a list of size N, the loop could iterate anywhere from 1 to N times depending on where 12 is in the list (or if it’s in the list at all). Thus, in the best case, it has a constant runtime and in the worst case it has a linear runtime.\n",
    "\n",
    "There are many ways we could describe the runtime of this program:\n",
    "\n",
    "* This program has a best case runtime of Θ(1).\n",
    "* This program has a worst case runtime of Θ(N).\n",
    "* This program has a runtime of Ω(1).\n",
    "* This program has a runtime O(N).\n",
    " \n",
    "You may be tempted to say the following:\n",
    "\n",
    "This program has a runtime of Θ(N).\n",
    "\n",
    "In fact, when describing runtime, people typically discuss the worst case because you should always prepare for the worst case scenario! Often times, in technical interviews, they will only ask you for the big O of a program."
   ]
  },
  {
   "cell_type": "markdown",
   "metadata": {},
   "source": [
    "## **Review**\n",
    "\n",
    "Let’s review what we learned:\n",
    "\n",
    "* We use asymptotic notation to describe the runtime of a program. The three types of asymptotic notation are big Theta, big Omega, and big O.\n",
    "* We use big Theta (Θ) to describe the runtime if the runtime of the program is the same in every case.\n",
    "The different common runtimes from fastest to slowest are: Θ(1), Θ(log N), Θ(N), Θ(N log N), Θ(N^2), Θ(2^N), Θ(N!).\n",
    "* We use big Omega (Ω) to describe the best-case running time of a program.\n",
    "* We use big O (O) to describe the worst-case running time of a program.\n",
    "* We typically describe a program’s running time in terms of big O.\n",
    "* When finding the runtime of a program with multiple steps, you can divide the program into different sections and add the runtimes of the various sections. You can then take the slowest runtime and use that runtime to describe the entire program.\n",
    "* When analyzing the runtime of a program, we care about which part of the program is the slowest.\n",
    "\n",
    "\n",
    "\n"
   ]
  },
  {
   "cell_type": "markdown",
   "metadata": {},
   "source": []
  }
 ],
 "metadata": {
  "language_info": {
   "name": "python"
  }
 },
 "nbformat": 4,
 "nbformat_minor": 2
}
