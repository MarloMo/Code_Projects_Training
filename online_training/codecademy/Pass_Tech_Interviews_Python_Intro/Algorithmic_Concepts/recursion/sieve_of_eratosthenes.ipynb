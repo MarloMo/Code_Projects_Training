{
 "cells": [
  {
   "cell_type": "markdown",
   "metadata": {},
   "source": [
    "# **Sieve of Eratosthenes**\n",
    "\n",
    "The Sieve of Eratosthenes is one of the oldest-known algorithms, and it’s still helpful for deriving prime numbers! The algorithm is attributed to Eratosthenes, a Greek mathematician born in the third century BCE.\n",
    "\n",
    "The sieve provides a set of steps for finding all prime numbers up to a given limit. In this article, we’ll cover implementing the Sieve of Eratosthenes in Python. As a reminder, a prime number is a positive number with no divisors but 1 and itself. 2, 3, 11, and 443 are all prime numbers."
   ]
  },
  {
   "cell_type": "markdown",
   "metadata": {},
   "source": [
    "## **Sieve Implementation**\n",
    "\n",
    "The sieve works by first assuming that all numbers from\n",
    "\n",
    "$$\n",
    "\\{2,…,n\\}\n",
    "$$\n",
    "\n",
    "are prime, and then successively marking them as NOT prime.\n",
    "\n",
    "The algorithm works as follows:\n",
    "\n",
    "Create a list of all integers from 2 to n.\n",
    "Start with the smallest number in the list (2, the smallest prime number).\n",
    "Mark all multiples of that number up to n as not prime.\n",
    "Move to the next non-marked number and repeat this process until the entire list has been covered.\n",
    "When the steps are complete, all remaining non-marked numbers are prime."
   ]
  },
  {
   "cell_type": "markdown",
   "metadata": {},
   "source": [
    "## **Implementation Steps in Python**\n",
    "\n",
    "There are many possible ways of implementing this algorithm in Python. We’ll outline a basic approach here and then walk through it step-by-step.\n",
    "\n",
    "1. Create an array of all integers from 2 to n\n",
    "2. Set all elements of the array to True\n",
    "3. Starting with 2, iterate through the array. If the current element is True, it is still 4.considered prime. Since we know that all multiples of that number are NOT prime, iterate through all multiples of that number up to n and set them equal to False\n",
    "4. Change the current element to the next non-False index.\n",
    "5. Return the corresponding number value for any element still marked as prime (value of True)."
   ]
  },
  {
   "cell_type": "markdown",
   "metadata": {},
   "source": []
  },
  {
   "cell_type": "code",
   "execution_count": 34,
   "metadata": {},
   "outputs": [
    {
     "name": "stdout",
     "output_type": "stream",
     "text": [
      "19\n",
      "My result: [2, 3, 5, 7, 11, 13, 17]\n",
      "4.242640687119285\n",
      "cc result: [2, 3, 5, 7, 11, 13, 17]\n"
     ]
    }
   ],
   "source": [
    "import numpy as np\n",
    "\n",
    "\n",
    "def sieve(n):\n",
    "    bool_list = [True] * (n + 1)\n",
    "    bool_list[0] = bool_list[1] = False\n",
    "\n",
    "    for i in range(2, n + 1):\n",
    "        if bool_list[i] == True:\n",
    "            j = i * 2\n",
    "            while j <= n:\n",
    "                bool_list[j] = False\n",
    "                j = j + i\n",
    "\n",
    "    result = []\n",
    "    for i in range(n + 1):\n",
    "        if bool_list[i] == True:\n",
    "            result.append(i)\n",
    "        else:\n",
    "            continue\n",
    "\n",
    "    return result\n",
    "\n",
    "\n",
    "def my_sieve(list):\n",
    "    for i in range(len(list)):\n",
    "        if i == 0 or i == 1:\n",
    "            list[i] = False\n",
    "        else:\n",
    "            list[i] = True\n",
    "\n",
    "    for i in range(2, len(list)):\n",
    "        if list[i] == True:\n",
    "            j = i * 2\n",
    "            while j <= limit:\n",
    "                list[j] = False\n",
    "                j = j + i\n",
    "\n",
    "    my_result = []\n",
    "    for i in range(len(list)):\n",
    "        if list[i] == True:\n",
    "            my_result.append(i)\n",
    "        else:\n",
    "            continue\n",
    "\n",
    "    return my_result\n",
    "\n",
    "\n",
    "limit = 18\n",
    "\n",
    "### TESTING GROUNDS\n",
    "list = [None] * (limit + 1)\n",
    "print(len(list))\n",
    "print(\"My result:\", my_sieve(list))\n",
    "print(np.sqrt(limit))\n",
    "######################\n",
    "\n",
    "\n",
    "print(\"cc result:\", sieve(limit))"
   ]
  },
  {
   "cell_type": "markdown",
   "metadata": {},
   "source": [
    "## **Optimization**\n",
    "\n",
    "There are several small optimizations that can be made to the basic implementation of the sieve to remove duplicate checks for prime-ness.\n",
    "\n",
    "### **End Boundary**\n",
    "\n",
    "In our basic implementation, the outer loop iterated from 2 to n. Because the inner loop marks multiples of a base value, we only need to check individual numbers lower than the square root of n\n",
    "\n",
    "For Example: \n",
    "```\n",
    "n = 10\n",
    "```\n",
    "\n",
    "1. First, all multiples of 2 are marked\n",
    "2. Then, all multiples of 3\n",
    "4. 4 > $\\sqrt{n}$ so we break"
   ]
  },
  {
   "cell_type": "markdown",
   "metadata": {},
   "source": [
    "### **First Multiple**\n",
    "\n",
    "In our basic implementation, the inner loop started checking multiples at 2 times the current number. We can skip a few checks starting the checks at $current^{2}$.\n",
    "\n",
    "For Example:\n",
    "\n",
    "```\n",
    "n = 10\n",
    "```\n",
    "\n",
    "1. First, all multiples of 2 are marked\n",
    "2. Then, all multiples of 3 are marked, but we can skip 6 : (3 * 2) because it’s already been marked. Instead we start at $3^{2}$, 9\n",
    "3. We’ve now completed the check with one less comparison\n",
    "\n"
   ]
  },
  {
   "cell_type": "markdown",
   "metadata": {},
   "source": [
    "### **Pre-mark All Even Numbers**\n",
    "\n",
    "This optimization comes in when building the initial array. There’s no need to ever check even numbers after 2, since they will never be prime, so they can all be marked as non-prime initially."
   ]
  },
  {
   "cell_type": "markdown",
   "metadata": {},
   "source": [
    "These optimizations may seem small when dealing with a limit of 10, but they can significantly speed up the algorithm with larger limits."
   ]
  },
  {
   "cell_type": "markdown",
   "metadata": {},
   "source": [
    "## **Complexity**"
   ]
  },
  {
   "cell_type": "markdown",
   "metadata": {},
   "source": [
    "The complexity of the Sieve of Eratosthenes with optimizations is:\n",
    "\n",
    "$$\n",
    "O(n \\log{(\\log{n})})\n",
    "$$\n",
    "\n",
    "There are two operations to take into account: the creation of the array and the incrementing and multiple-marking loops.\n",
    "\n",
    "Creation happens in $O(n)$ time, since it creates an element for each number from 2 to n.\n",
    "\n",
    "Multiple marking happens in $O(n \\log{(\\log{n}}))$ time. The reasons for this come down to some complex math, but briefly:\n",
    "\n",
    "The number of times you mark a non-prime number is:\n",
    "\n",
    "$$\n",
    "\\frac{n}{2} + \\frac{n}{3} + ... \\frac{n}{\\sqrt{n}}\n",
    "$$\n",
    "\n",
    "It begins with n / 2 because initially all multiples of 2 are marked as non-prime (this will happen 50 times with a limit of 100, as each even number is marked). This process continues up until the square root of n. Through some fancy mathematical proofs, this works out to an overall time complexity of:\n",
    "\n",
    "$$\n",
    "O(n \\log{(\\log{n})})\n",
    "$$\n",
    "\n",
    "since this is larger than the O(n) array-creation time."
   ]
  },
  {
   "cell_type": "code",
   "execution_count": 1,
   "metadata": {},
   "outputs": [
    {
     "name": "stdout",
     "output_type": "stream",
     "text": [
      "[2, 3, 5, 7, 11, 13, 17, 19]\n"
     ]
    }
   ],
   "source": [
    "# import math library\n",
    "import math\n",
    "\n",
    "def sieve_of_eratosthenes (limit):\n",
    "  # handle edge cases\n",
    "  if (limit <= 1):\n",
    "    return []\n",
    "\n",
    "  # create the output list\n",
    "  output = [True] * (limit+1)\n",
    "\n",
    "  # mark 0 and 1 as non-prime\n",
    "  output[0] = False\n",
    "  output[1] = False\n",
    "\n",
    "  # iterate up to the square root of the limit\n",
    "  for i in range(2, math.floor(math.sqrt(limit))):\n",
    "    if (output[i] == True):\n",
    "      j = i ** 2    # initialize j to square of i\n",
    "\n",
    "      # mark all multiples of i as non-prime\n",
    "      while j <= limit:\n",
    "        output[j] = False\n",
    "        j += i\n",
    "\n",
    "  # remove non-prime numbers\n",
    "  output_with_indices = list(enumerate(output))\n",
    "  trues = [index for (index,value) in output_with_indices if value == True]\n",
    "  return trues\n",
    "\n",
    "primes = sieve_of_eratosthenes(20)\n",
    "print(primes) # return [2, 3, 5, 7, 11, 13, 17, 19]\n"
   ]
  },
  {
   "cell_type": "code",
   "execution_count": null,
   "metadata": {},
   "outputs": [],
   "source": []
  }
 ],
 "metadata": {
  "kernelspec": {
   "display_name": "Python 3",
   "language": "python",
   "name": "python3"
  },
  "language_info": {
   "codemirror_mode": {
    "name": "ipython",
    "version": 3
   },
   "file_extension": ".py",
   "mimetype": "text/x-python",
   "name": "python",
   "nbconvert_exporter": "python",
   "pygments_lexer": "ipython3",
   "version": "3.12.1"
  }
 },
 "nbformat": 4,
 "nbformat_minor": 2
}
