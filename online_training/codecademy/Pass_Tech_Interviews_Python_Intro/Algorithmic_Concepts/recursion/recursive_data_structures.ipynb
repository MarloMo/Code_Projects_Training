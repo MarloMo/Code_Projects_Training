{
 "cells": [
  {
   "cell_type": "markdown",
   "metadata": {},
   "source": [
    "# **Recursive Data Structures**\n",
    "\n",
    "Data structures can also be recursive.\n",
    "\n",
    "Trees are a recursive data structure because their definition is self-referential. A tree is a data structure which contains a piece of data and references to other trees!\n",
    "\n",
    "Trees which are referenced by other trees are known as children. Trees which hold references to other trees are known as the parents.\n",
    "\n",
    "A tree can be both parent and child. We’re going to write a recursive function that builds a special type of tree: a binary search tree.\n",
    "\n",
    "Binary search trees:\n",
    "\n",
    "* Reference two children at most per tree node.\n",
    "* The “left” child of the tree must contain a value lesser than its parent\n",
    "* The “right” child of the tree must contain a value greater than its parent.\n",
    "\n",
    "Trees are an abstract data type, meaning we can implement our version in a number of ways as long as we follow the rules above."
   ]
  },
  {
   "cell_type": "markdown",
   "metadata": {},
   "source": [
    "Our high-level strategy before moving through the checkpoints.\n",
    "\n",
    "Base case: The input list is empty\n",
    "\n",
    "1. Return \"No Child\" to represent the lack of node Recursive step: The input list must be divided into two halves\n",
    "2. Find the middle index of the list\n",
    "3. Store the value located at the middle index\n",
    "4. Make a tree node with a \"data\" key set to the value\n",
    "5. Assign tree node’s \"left child\" to a recursive call using the left half of the list\n",
    "6. Assign tree node’s \"right child\" to a recursive call using the right half of the list\n",
    "7. Return the tree node"
   ]
  },
  {
   "cell_type": "code",
   "execution_count": 9,
   "metadata": {},
   "outputs": [],
   "source": [
    "def build_bst(my_list):\n",
    "    \"\"\"\n",
    "    A recursive data structure function\n",
    "    \"\"\"\n",
    "    # Base Case\n",
    "    if not my_list:\n",
    "        return \"No Child\"\n",
    "\n",
    "    middle_idx = len(my_list) // 2\n",
    "    middle_value = my_list[middle_idx]\n",
    "\n",
    "    # tree_node represents the tree bring created in this\n",
    "    # function call. We want a tree_node created for each\n",
    "    # element in the list, so we will repeat the process\n",
    "    # on the left and right sub-trees using the appropriate\n",
    "    # half of the input list:\n",
    "    tree_node = {\n",
    "        \"data\": middle_value,\n",
    "        \"left_child\": build_bst(my_list[:middle_idx]),\n",
    "        \"right_child\": build_bst(my_list[middle_idx + 1 :]),\n",
    "    }\n",
    "\n",
    "    return tree_node"
   ]
  },
  {
   "cell_type": "code",
   "execution_count": 11,
   "metadata": {},
   "outputs": [
    {
     "name": "stdout",
     "output_type": "stream",
     "text": [
      "{'data': 14, 'left_child': {'data': 13, 'left_child': {'data': 12, 'left_child': 'No Child', 'right_child': 'No Child'}, 'right_child': 'No Child'}, 'right_child': {'data': 16, 'left_child': {'data': 15, 'left_child': 'No Child', 'right_child': 'No Child'}, 'right_child': 'No Child'}}\n"
     ]
    }
   ],
   "source": [
    "sorted_list = [12, 13, 14, 15, 16]\n",
    "binary_search_tree = build_bst(sorted_list)\n",
    "print(binary_search_tree)\n",
    "\n",
    "# fill in the runtime as a string\n",
    "# 1, logN, N, N*logN, N^2, 2^N, N!\n",
    "runtime = \"N*logN\""
   ]
  },
  {
   "cell_type": "code",
   "execution_count": 8,
   "metadata": {},
   "outputs": [
    {
     "name": "stdout",
     "output_type": "stream",
     "text": [
      "14\n",
      "[12, 13]\n",
      "[15, 16]\n"
     ]
    }
   ],
   "source": [
    "### TESTING GROUNDS ###\n",
    "\n",
    "test_list = [12, 13, 14, 15, 16]\n",
    "middle_index = len(test_list) // 2\n",
    "middle_val = test_list[middle_index]\n",
    "print(middle_val)\n",
    "print(test_list[:middle_index])\n",
    "print(test_list[middle_index + 1:])"
   ]
  },
  {
   "cell_type": "markdown",
   "metadata": {},
   "source": [
    "The runtime of the `build_bst()` function can be analyzed by considering how the input list is divided and how many recursive calls are made.\n",
    "\n",
    "Here's a step-by-step breakdown of the function:\n",
    "\n",
    "1. **Base Case:** If the input list `my_list` is empty, it returns \"No Child\". This is $O(1)$ time.\n",
    "2. **Finding the Middle Element:** Finding the middle index and accessing the middle element are both $O(1)$ operations.\n",
    "3. **Recursive Calls:** The function makes two recursive calls:\n",
    "   - One on the left half of the list: `my_list[:middle_idx]`\n",
    "   - One on the right half of the list: `my_list[middle_idx + 1:]`\n",
    "\n",
    "Splitting the list and copying it using slicing operations `my_list[:middle_idx]` and `my_list[middle_idx + 1:]` both take $O(n)$ time.\n",
    "\n",
    "Now, let's consider the recursion:\n",
    "\n",
    "- At each level of recursion, the list is split into two approximately equal halves.\n",
    "- This results in a binary tree structure where each level of recursion represents a level in the binary tree.\n",
    "- The depth of this recursion tree is $O(\\log n)$, where $n$ is the length of the original list.\n",
    "\n",
    "At each level of recursion, the total cost of splitting and creating new lists (slicing) is $O(n)$.\n",
    "\n",
    "Therefore, the total time complexity $T(n)$ can be expressed as:\n",
    "\n",
    "$$\n",
    "T(n) = 2T\\left(\\frac{n}{2}\\right) + O(n) \n",
    "$$\n",
    "\n",
    "This is a recurrence relation similar to the Merge Sort algorithm. Solving this recurrence relation using the Master Theorem:\n",
    "\n",
    "$$\n",
    "T(n) = O(n \\log n)\n",
    "$$\n",
    "\n",
    "Thus, the runtime of the `build_bst()` function is $O(n \\log n)$."
   ]
  },
  {
   "cell_type": "markdown",
   "metadata": {},
   "source": []
  }
 ],
 "metadata": {
  "kernelspec": {
   "display_name": "Python 3",
   "language": "python",
   "name": "python3"
  },
  "language_info": {
   "codemirror_mode": {
    "name": "ipython",
    "version": 3
   },
   "file_extension": ".py",
   "mimetype": "text/x-python",
   "name": "python",
   "nbconvert_exporter": "python",
   "pygments_lexer": "ipython3",
   "version": "3.12.1"
  }
 },
 "nbformat": 4,
 "nbformat_minor": 2
}
