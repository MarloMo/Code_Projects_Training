{
 "cells": [
  {
   "cell_type": "markdown",
   "metadata": {},
   "source": [
    "Let’s replicate what’s happening in the call stack with an iterative function.\n",
    "\n",
    "The call stack is abstracted away from us in Python, but we can recreate it to understand how recursive calls build up and resolve.\n",
    "\n",
    "Let’s write a function that sums every number from 1 to the given input.\n",
    "\n",
    "To depict the steps of a recursive function, we’ll use a call stack and execution contexts for each function call.\n",
    "\n",
    "The call stack stores each function (with its internal variables) until those functions resolve in a last in, first out order.\n",
    "\n",
    "Execution contexts are a mapping between variable names and their values within the function during execution. We can use a list for our call stack and a dictionary for each execution context."
   ]
  },
  {
   "cell_type": "code",
   "execution_count": 58,
   "metadata": {},
   "outputs": [],
   "source": [
    "def iterative_sum_to_one(n):\n",
    "    '''\n",
    "    Iterative function to implement how a call stack\n",
    "    accumulates execution contexts during a recursive function\n",
    "    calls.\n",
    "    '''\n",
    "    result = 1\n",
    "    call_stack = []\n",
    "    \n",
    "    while n != 1:\n",
    "        execution_context = {\"n_value\": n}\n",
    "        call_stack.append(execution_context)\n",
    "        \n",
    "        n -= 1\n",
    "        \n",
    "    # We have reached our base case with n = 1\n",
    "    print(\"BASE CASE REACHED\")\n",
    "    print(\"call_stack:\", call_stack)\n",
    "    \n",
    "    while call_stack:\n",
    "        return_value = call_stack.pop()\n",
    "        print(\"removing value:\", return_value)\n",
    "        \n",
    "        result += return_value[\"n_value\"]\n",
    "    \n",
    "    return result, call_stack\n",
    "\n",
    "\n",
    "def recursive_sum_to_one(n):\n",
    "    if n == 1: # Base case\n",
    "        return 1\n",
    "    else:\n",
    "        # Recursive call\n",
    "        return n + recursive_sum_to_one(n - 1)\n",
    "    \n",
    "    \n",
    "def factorial(n):\n",
    "    if n < 2:\n",
    "        return 1\n",
    "    else:\n",
    "        return n * factorial(n - 1)\n",
    "\n"
   ]
  },
  {
   "cell_type": "code",
   "execution_count": 63,
   "metadata": {},
   "outputs": [
    {
     "name": "stdout",
     "output_type": "stream",
     "text": [
      "5! = 120\n",
      "Recursive result = 10\n",
      "BASE CASE REACHED\n",
      "call_stack: [{'n_value': 4}, {'n_value': 3}, {'n_value': 2}]\n",
      "removing value: {'n_value': 2}\n",
      "removing value: {'n_value': 3}\n",
      "removing value: {'n_value': 4}\n",
      "Iterative result = 10\n",
      "Call stack: []\n"
     ]
    }
   ],
   "source": [
    "### Factorial code\n",
    "\n",
    "### Every recursion call spends time on the call stack.\n",
    "# n = 100000 # STACK OVERFLOW\n",
    "n = 5\n",
    "print(f\"{n}! =\", factorial(n))\n",
    "\n",
    "### Recursice method\n",
    "print(\"Recursive result =\", recursive_sum_to_one(4))\n",
    "\n",
    "### Iterative method\n",
    "func = iterative_sum_to_one(4)\n",
    "print(\"Iterative result =\", func[0])\n",
    "print(\"Call stack:\", func[1])"
   ]
  },
  {
   "cell_type": "code",
   "execution_count": 34,
   "metadata": {},
   "outputs": [
    {
     "name": "stdout",
     "output_type": "stream",
     "text": [
      "[]\n"
     ]
    }
   ],
   "source": [
    "### TESTING GROUNDS ###\n",
    "# func[1][-1]\n",
    "\n",
    "while func[1]:\n",
    "    value = func[1].pop()\n",
    "    print(value)\n",
    "    \n",
    "print(func[1])"
   ]
  },
  {
   "cell_type": "code",
   "execution_count": null,
   "metadata": {},
   "outputs": [],
   "source": []
  }
 ],
 "metadata": {
  "kernelspec": {
   "display_name": "Python 3",
   "language": "python",
   "name": "python3"
  },
  "language_info": {
   "codemirror_mode": {
    "name": "ipython",
    "version": 3
   },
   "file_extension": ".py",
   "mimetype": "text/x-python",
   "name": "python",
   "nbconvert_exporter": "python",
   "pygments_lexer": "ipython3",
   "version": "3.12.1"
  }
 },
 "nbformat": 4,
 "nbformat_minor": 2
}
