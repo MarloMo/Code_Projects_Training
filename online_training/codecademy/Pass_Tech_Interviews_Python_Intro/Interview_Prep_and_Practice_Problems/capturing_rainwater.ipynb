{
 "cells": [
  {
   "cell_type": "markdown",
   "metadata": {},
   "source": [
    "# **Capturing Rainwater**\n",
    "\n",
    "A common interview question involving arrays is the “capturing rainwater” problem (also referred to as the “trapping rainwater” problem)."
   ]
  },
  {
   "cell_type": "markdown",
   "metadata": {},
   "source": [
    "## **The Problem**\n",
    "\n",
    "Imagine a very heavy rainstorm over a highway that has many potholes and cracks. The rainwater will collect in the empty spaces in the road, creating puddles. Each puddle can only be as high as the road around it, as any excess water will just flow away.\n",
    "\n",
    "The capturing rainwater problem asks you to calculate how much rainwater would be trapped in the empty spaces in a histogram (a chart which consists of a series of bars).\n",
    "\n",
    "This can be represented in Python as an array filled with the values [4, 2, 1, 3, 0, 1, 2]. Imagine that rainwater has fallen over the histogram and collected between the bars. \n",
    "\n",
    "Like with the road, the amount of water that can be captured at any given space cannot be higher than the bounds around it. To solve the problem, we need to write a function that will take in an array of integers and calculate the total water captured. Our function would return 6 for the histogram above. There are multiple ways to solve this problem, but we are going to focus on a naive implementation and an optimized implementation."
   ]
  },
  {
   "cell_type": "markdown",
   "metadata": {},
   "source": [
    "## **The Concept**\n",
    "\n",
    "The foundation to all the solutions for this problem is that the amount of rainwater at any given index is the difference between the lower of highest bars to its left and right and the height of the index itself:\n",
    "\n",
    "```\n",
    "water_at_index = min(highest_left_bound, highest_right_bound) - height_of_index\n",
    "```\n",
    "\n",
    "Look at the histogram again. The amount of water at index 4 is 2. This is because its highest left bound is 4 (element at index 0), and its highest right bound is 2 (element at index 6). The lower of these two values is 2, and when we subtract the index’s height of 0, we get our answer of 2.\n"
   ]
  },
  {
   "cell_type": "markdown",
   "metadata": {},
   "source": [
    "## **The Naive Solution**\n",
    "\n",
    "The naive solution to the problem is to:\n",
    "\n",
    "1. Traverse every element in the array\n",
    "2. Find the highest left bound for that index\n",
    "3. Find the highest right bound for that index\n",
    "4. Take the lower of those two values\n",
    "5. Subtract the height of that index from that minimum\n",
    "6. Add the difference to the total amount of water\n",
    "\n",
    "In Python, this solution looks like this:"
   ]
  },
  {
   "cell_type": "code",
   "execution_count": 29,
   "metadata": {},
   "outputs": [
    {
     "name": "stdout",
     "output_type": "stream",
     "text": [
      "[4] : [1, 3, 0, 1, 2]\n",
      "4 ; 3\n",
      "[4, 2] : [3, 0, 1, 2]\n",
      "4 ; 3\n",
      "[4, 2, 1] : [0, 1, 2]\n",
      "4 ; 2\n",
      "[4, 2, 1, 3] : [1, 2]\n",
      "4 ; 2\n",
      "[4, 2, 1, 3, 0] : [2]\n",
      "4 ; 2\n",
      "6\n"
     ]
    }
   ],
   "source": [
    "def naive_solution(heights_array):\n",
    "    total_water = 0\n",
    "    for i in range(1, len(heights_array) - 1):\n",
    "        left_bound = 0\n",
    "        right_bound = 0\n",
    "\n",
    "        for j in range(i + 1):\n",
    "            left_bound = max(left_bound, heights_array[j])\n",
    "\n",
    "        for j in range(i, len(heights_array)):\n",
    "            right_bound = max(right_bound, heights_array[j])\n",
    "\n",
    "        total_water += min(left_bound, right_bound) - heights_array[i]\n",
    "\n",
    "    return total_water\n",
    "\n",
    "\n",
    "test_array = [4, 2, 1, 3, 0, 1, 2]\n",
    "# print(test_array[:2])\n",
    "# print(test_array[2+1:])\n",
    "\n",
    "for i in range(1, len(test_array) - 1):\n",
    "    left = test_array[:i]\n",
    "    if left:\n",
    "        max_left = max(left)\n",
    "    else:\n",
    "        max_left = None\n",
    "    right = test_array[i + 1 :]\n",
    "    if right:\n",
    "        max_right = max(right)\n",
    "    else:\n",
    "        max_right = None\n",
    "    print(left, \":\", right)\n",
    "    print(max_left, \";\", max_right)\n",
    "\n",
    "# for i in range(1, len(test_array) - 1):\n",
    "#     print(test_array[i])\n",
    "\n",
    "print(naive_solution(test_array))"
   ]
  },
  {
   "cell_type": "markdown",
   "metadata": {},
   "source": [
    "While this is a functional solution, it requires nested for loops, which means it has a big O runtime of O(n^2). Let’s look at a solution with a more efficient runtime.\n"
   ]
  },
  {
   "cell_type": "markdown",
   "metadata": {},
   "source": [
    "## **The Optimized Solution**\n",
    "\n",
    "The previous solution had a quadratic runtime, but it’s possible to solve this problem in O(n) time by using two pointers. The pointers will start at each end of the array and move towards each other. The two-pointer approach is a common approach for problems that require working with arrays, as it allows you to go through the array in a single loop and without needing to create copy arrays.\n",
    "\n",
    "```\n",
    "total_water = 0\n",
    "left_pointer = 0 \n",
    "right_pointer = heights.length - 1\n",
    "left_bound = 0\n",
    "right_bound = 0\n",
    "```\n",
    "\n",
    "`left_pointer` and `right_pointer` will start at the beginning and end of the array, respectively, and move towards each other until they meet. The algorithm is as follows:\n",
    "\n",
    "```\n",
    "while left_pointer < right_pointer\n",
    "  if the height at left_pointer <= the height at right_pointer\n",
    "     - update the left_bound to be the greater value between the current left_bound and the height at left_pointer\n",
    "     - increment total_water to be the difference between left_bound and the height at left_pointer\n",
    "     - move left_pointer forward by one\n",
    "  else\n",
    "     - update the right_bound to be the greater value between the current right_bound and the height at right_pointer\n",
    "     - increment total_water to be the difference between right_bound and the height at right_pointer\n",
    "     - move right_pointer back by one \n",
    "\n",
    "return total_water\n",
    "```"
   ]
  },
  {
   "cell_type": "code",
   "execution_count": 30,
   "metadata": {},
   "outputs": [
    {
     "name": "stdout",
     "output_type": "stream",
     "text": [
      "6\n",
      "6\n"
     ]
    }
   ],
   "source": [
    "def efficient_solution(heights_array):\n",
    "    total_water = 0\n",
    "    left_pointer = 0\n",
    "    right_pointer = len(heights_array) - 1\n",
    "    left_bound = 0\n",
    "    right_bound = 0\n",
    "\n",
    "    # Write your code here\n",
    "    while left_pointer < right_pointer:\n",
    "        if heights_array[left_pointer] <= heights_array[right_pointer]:\n",
    "            left_bound = max(left_bound, heights_array[left_pointer])\n",
    "            total_water += left_bound - heights_array[left_pointer]\n",
    "            left_pointer += 1\n",
    "        else:\n",
    "            right_bound = max(right_bound, heights_array[right_pointer])\n",
    "            total_water += right_bound - heights_array[right_pointer]\n",
    "            right_pointer -= 1\n",
    "    return total_water\n",
    "\n",
    "\n",
    "def chatgpt_optimized_solution(heights_array):\n",
    "    if not heights_array:\n",
    "        return 0\n",
    "\n",
    "    left, right = 0, len(heights_array) - 1\n",
    "    left_max, right_max = heights_array[left], heights_array[right]\n",
    "    total_water = 0\n",
    "\n",
    "    while left < right:\n",
    "        if heights_array[left] < heights_array[right]:\n",
    "            left += 1\n",
    "            left_max = max(left_max, heights_array[left])\n",
    "            total_water += left_max - heights_array[left]\n",
    "        else:\n",
    "            right -= 1\n",
    "            right_max = max(right_max, heights_array[right])\n",
    "            total_water += right_max - heights_array[right]\n",
    "\n",
    "    return total_water\n",
    "\n",
    "\n",
    "array_1 = [4, 2, 1, 3, 0, 1, 2]\n",
    "print(len(array_1) - 1)\n",
    "print(efficient_solution(array_1))"
   ]
  },
  {
   "cell_type": "markdown",
   "metadata": {},
   "source": [
    "Congrats! You have created the optimized solution to the rain water capture problem. This solution has a linear time complexity because it only loops through the array one time. Additionally, both this and the naive solution have a constant space complexity of O(1). There are other solutions that also have linear time but then have a linear space complexity. If you have a solution that uses arrays to keep track of the left and right bounds, how do you think this solution would work?"
   ]
  },
  {
   "cell_type": "markdown",
   "metadata": {},
   "source": [
    "## **Takeaway: The Two Pointer Approach**\n",
    "\n",
    "The two-pointer approach is one that you can, and should, use in many interview questions. When you see a problem that requires you to iterate through an array (or string), take a moment and think if it would be possible to iterate through the array in sections at the same time instead of in separate loops. Common problems that can be solved using the two-pointer technique are the **two sum problem (finding two numbers in an array that sum to a specified number)** and **reversing the characters in a string**."
   ]
  },
  {
   "cell_type": "markdown",
   "metadata": {},
   "source": []
  }
 ],
 "metadata": {
  "kernelspec": {
   "display_name": "Python 3",
   "language": "python",
   "name": "python3"
  },
  "language_info": {
   "codemirror_mode": {
    "name": "ipython",
    "version": 3
   },
   "file_extension": ".py",
   "mimetype": "text/x-python",
   "name": "python",
   "nbconvert_exporter": "python",
   "pygments_lexer": "ipython3",
   "version": "3.12.1"
  }
 },
 "nbformat": 4,
 "nbformat_minor": 2
}
