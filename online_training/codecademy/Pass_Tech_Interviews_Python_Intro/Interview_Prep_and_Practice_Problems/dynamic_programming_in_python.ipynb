{
 "cells": [
  {
   "cell_type": "markdown",
   "metadata": {},
   "source": [
    "# **Dynamic Programming in Python**\n",
    "\n",
    "Dynamic Programming is a programming technique used to solve recursive problems more efficiently. Let’s take a look at a simple algorithm that can get computationally complex very quickly, and then let’s use dynamic programming to increase its efficiency."
   ]
  },
  {
   "cell_type": "markdown",
   "metadata": {},
   "source": [
    "## **Fibonacci**\n",
    "\n",
    "The Fibonacci series is a classic mathematical series in which the next number is calculated as the sum of the previous two numbers:\n",
    "\n",
    "```\n",
    "0, 1, 1, 2, 3, 5, 8, 13, 21, etc.\n",
    "```\n",
    "\n",
    "The series begins with a 0 and 1. It can be calculated iteratively by summing the two previous numbers starting with the third entry. Alternatively, the nth Fibonacci number can be calculated recursively. A recursive solution is as follows."
   ]
  },
  {
   "cell_type": "code",
   "execution_count": 11,
   "metadata": {},
   "outputs": [
    {
     "name": "stdout",
     "output_type": "stream",
     "text": [
      "6765\n",
      "Execution time: 0.024923086166381836 seconds\n"
     ]
    }
   ],
   "source": [
    "import time\n",
    "\n",
    "\n",
    "def fibonacci(n):\n",
    "    if n <= 1:\n",
    "        return n\n",
    "    else:\n",
    "        return fibonacci(n - 1) + fibonacci(n - 2)\n",
    "\n",
    "\n",
    "start_time = time.time()\n",
    "\n",
    "# Code block to be measured\n",
    "for i in range(1000000):\n",
    "    pass\n",
    "\n",
    "end_time = time.time()\n",
    "elapsed_time = end_time - start_time\n",
    "\n",
    "\n",
    "index = 20\n",
    "print(fibonacci(index))\n",
    "\n",
    "fibonacci_runtime = \"2^N\"\n",
    "\n",
    "print(f\"Execution time: {elapsed_time} seconds\")"
   ]
  },
  {
   "cell_type": "markdown",
   "metadata": {},
   "source": [
    "As we can see, fib(2) is called twice, and fib(1) is called three times. If n were larger than 4, we’d see the number of these calls ascend very quickly. For instance, to calculate the 10th number, we’d make 34 calls to fib(2) and 177 total function calls! Why do we need to call the same function multiple times with the same input?\n",
    "\n",
    "We don’t! We can use a technique called memoization to cut down greatly on the number of function calls necessary to calculate the correct number."
   ]
  },
  {
   "cell_type": "markdown",
   "metadata": {},
   "source": [
    "## **Memoization**\n",
    "\n",
    "Memoization is a specialized form of caching used to store the result of a function call. The next time that function is called, instead of running the function itself, the result is used directly. Memoization can result in much faster overall execution times (although it can increase memory requirements as function results are stored in memory).\n",
    "\n",
    "Memoization is a great technique to use alongside recursion. The memo can even be saved between function calls if it’s being used for common calculations in a program.\n"
   ]
  },
  {
   "cell_type": "markdown",
   "metadata": {},
   "source": [
    "## **Memoizing Fibonacci**\n",
    "\n",
    "In the previous example, many function calls to fib() were redundant. Let’s memoize it in order to speed up execution.\n",
    "\n",
    "To begin, we’ll use a Python dictionary to store the memoized values. We’ll set keys using n and values to store the result of that Fibonacci number. Then, whenever we need to calculate a number, if it’s already been calculated, we can retrieve the value from the dictionary in O(1) time.\n",
    "\n",
    "`memo = {}`\n",
    "\n",
    "In pseudocode, our approach to memoization will look something like this:\n",
    "\n",
    "```\n",
    "Create a memo dictionary\n",
    "\n",
    "function fibonacci(n)\n",
    "  if the key, n, exists in memo dictionary\n",
    "    return memo[n]\n",
    "  else\n",
    "    calculate current fibonacci number\n",
    "    store answer in memo\n",
    "    return answer\n",
    "```"
   ]
  },
  {
   "cell_type": "code",
   "execution_count": 13,
   "metadata": {},
   "outputs": [
    {
     "name": "stdout",
     "output_type": "stream",
     "text": [
      "6765\n",
      "Execution time: 0.033612966537475586 seconds\n"
     ]
    }
   ],
   "source": [
    "import time\n",
    "\n",
    "# memo is a dictionary in Python that is being used for memoization. \n",
    "# Memoization is an optimization technique used to store the results of \n",
    "# expensive function calls and reuse them when the same inputs occur again, \n",
    "# thereby saving computation time.\n",
    "memo = {0: 0, 1: 1}  # Initialize memo dictionary with base cases\n",
    "\n",
    "\n",
    "def fibonacci(num):\n",
    "    n = abs(num)\n",
    "    if n in memo:\n",
    "        return memo[n]\n",
    "    else:\n",
    "        answer = fibonacci(n - 1) + fibonacci(n - 2)\n",
    "        memo[n] = answer\n",
    "        return answer\n",
    "\n",
    "\n",
    "start_time = time.time()\n",
    "\n",
    "# Code block to be measured\n",
    "for i in range(1000000):\n",
    "    pass\n",
    "\n",
    "end_time = time.time()\n",
    "elapsed_time = end_time - start_time\n",
    "\n",
    "# Test your code with calls here:\n",
    "print(fibonacci(20))  # Output should be 6765\n",
    "# print(fibonacci(200))  # Output should be a large Fibonacci number\n",
    "\n",
    "print(f\"Execution time: {elapsed_time} seconds\")"
   ]
  },
  {
   "cell_type": "markdown",
   "metadata": {},
   "source": [
    "## **Conclusion**\n",
    "\n",
    "Dynamic programming and memoization are great techniques to break up complex recursive problems into smaller chunks. They are especially useful when tackling problems that involve combinations. For example, if I were to ask you to calculate the total number of ways to get four dice rolls to sum to 13, you could imagine breaking that problem into multiple parts. You could split 13 into 6 and 7 and then find all the combinations of two rolls that would match each one of these. As you go down each path, you would probably start seeing a lot of similar calculations, and memoization would help you reduce the number of overall function calls by storing intermediate values.\n",
    "\n",
    "Some other common problems that can be solved using dynamic programming are the knapsack problem, the coin change problem, and the partition problem.\n"
   ]
  },
  {
   "cell_type": "markdown",
   "metadata": {},
   "source": []
  }
 ],
 "metadata": {
  "kernelspec": {
   "display_name": "Python 3",
   "language": "python",
   "name": "python3"
  },
  "language_info": {
   "codemirror_mode": {
    "name": "ipython",
    "version": 3
   },
   "file_extension": ".py",
   "mimetype": "text/x-python",
   "name": "python",
   "nbconvert_exporter": "python",
   "pygments_lexer": "ipython3",
   "version": "3.12.1"
  }
 },
 "nbformat": 4,
 "nbformat_minor": 2
}
