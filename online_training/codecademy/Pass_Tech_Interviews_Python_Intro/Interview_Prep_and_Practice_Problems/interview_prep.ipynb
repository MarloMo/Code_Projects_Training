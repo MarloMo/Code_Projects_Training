{
 "cells": [
  {
   "cell_type": "markdown",
   "metadata": {
    "vscode": {
     "languageId": "latex"
    }
   },
   "source": [
    "# **Interview Prep and Practice Problems**\n",
    "\n",
    "This lesson covers strategies to improve performance in a whiteboarding interview. Each exercise features a step in the interview with a video demonstration of the technique.\n",
    "\n",
    "The steps are:\n",
    "\n",
    "1. Clarify the Problem\n",
    "2. Create Inputs\n",
    "3. Outline the Solution\n",
    "4. Code the Solution\n",
    "5. Test the Solution\n",
    "6. Analyze the Solution\n",
    "\n"
   ]
  },
  {
   "cell_type": "code",
   "execution_count": 20,
   "metadata": {},
   "outputs": [],
   "source": [
    "def pythagorean_triplets(list):\n",
    "    list.sort()\n",
    "    for i in range(len(list)):\n",
    "        for j in range(i + 1, len(list)):\n",
    "            for k in range(j + 1, len(list)):\n",
    "                if list[i] * list[i] + list[j] * list[j] == list[k] * list[k]:\n",
    "                    return True\n",
    "\n",
    "    return False"
   ]
  },
  {
   "cell_type": "code",
   "execution_count": 21,
   "metadata": {},
   "outputs": [
    {
     "name": "stdout",
     "output_type": "stream",
     "text": [
      "True\n",
      "False\n",
      "False\n",
      "True\n"
     ]
    }
   ],
   "source": [
    "list_1 = [3, 4, 5]\n",
    "list_2 = [4]\n",
    "list_3 = [4, 6, 7, 8]\n",
    "list_4 = [1, 2, 3, 4, 5]\n",
    "\n",
    "print(pythagorean_triplets(list_1))\n",
    "print(pythagorean_triplets(list_2))\n",
    "print(pythagorean_triplets(list_3))\n",
    "print(pythagorean_triplets(list_4))"
   ]
  },
  {
   "cell_type": "markdown",
   "metadata": {},
   "source": [
    "Write a function which prints every number from 0 up to the given input. If divisible by 3, print \"Fizz\" instead of the number. If divisible by 5, print \"Buzz\". If input is divisible by 3 AND 5, print \"FizzBuzz\"."
   ]
  },
  {
   "cell_type": "code",
   "execution_count": null,
   "metadata": {},
   "outputs": [],
   "source": []
  }
 ],
 "metadata": {
  "kernelspec": {
   "display_name": "Python 3",
   "language": "python",
   "name": "python3"
  },
  "language_info": {
   "codemirror_mode": {
    "name": "ipython",
    "version": 3
   },
   "file_extension": ".py",
   "mimetype": "text/x-python",
   "name": "python",
   "nbconvert_exporter": "python",
   "pygments_lexer": "ipython3",
   "version": "3.12.1"
  }
 },
 "nbformat": 4,
 "nbformat_minor": 2
}
