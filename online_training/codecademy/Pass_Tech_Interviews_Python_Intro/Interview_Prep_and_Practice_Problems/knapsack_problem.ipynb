{
 "cells": [
  {
   "cell_type": "markdown",
   "metadata": {},
   "source": [
    "# **The Knapsack Problem**\n",
    "\n",
    "Recursive and dynamic programming approaches to the classic knapsack problem in Python.\n",
    "\n",
    "Imagine that you’re a thief breaking into a house. There are so many valuables to steal - diamonds, gold, jewelry, and more! But remember, you’re just one person who can only carry so much. Each item has a weight and value, and your goal is to maximize the total value of items while remaining within the weight limit of your knapsack. This is called the knapsack problem and is commonly used in programming interviews. We will solve this problem in two ways: recursively, and using dynamic programming."
   ]
  },
  {
   "cell_type": "markdown",
   "metadata": {},
   "source": [
    "### **The Problem**\n",
    "\n",
    "* the total amount of weight you can carry (`weight_cap`)\n",
    "* the weights of all of the items in an array (`weights`)\n",
    "* the values of all of the items in an array (`values`)\n",
    "\n",
    "Your function should return the maximum value that you will be able to carry."
   ]
  },
  {
   "cell_type": "markdown",
   "metadata": {},
   "source": [
    "### **An Example**\n",
    "\n",
    "Let’s say that you have a knapsack that can only carry 5 pounds, and the house you’re robbing has three items that you want to steal:\n",
    "\n",
    "1. A ring that weighs 1 pound with a value of $250\n",
    "2. Earrings that weigh 3 pounds with a value of $300\n",
    "3. A necklace that weighs 5 pounds with a value of $500\n",
    "\n",
    "This information can be summarized as follows:\n",
    "\n",
    "```\n",
    "weight_cap = 5 \n",
    "weights = [1, 3, 5]\n",
    "values = [250, 300, 500]\n",
    "```\n",
    "\n",
    "You have four possible ways to fill your knapsack:\n",
    "\n",
    "1. Take only the ring, giving you $250\n",
    "2. Take only the earrings, giving you $300\n",
    "3. Take only the necklace, giving you $500\n",
    "4. Take the ring and the earrings, giving you $550\n",
    "\n",
    "Since the ring and the earrings have a combined weight of 4 pounds, taking both gives you the maximum value while staying within your weight capacity. Now that you’re familiar with the problem, let’s take a look at two different approaches to solving it!"
   ]
  },
  {
   "cell_type": "markdown",
   "metadata": {},
   "source": [
    "## **The Recursive Solution**\n",
    "\n",
    "The brute force solution to this problem is to look at every subset of the items that has a total weight less than weight_cap. Then you simply take the maximum of those subsets, giving you the optimized subset with the highest value possible.\n",
    "\n",
    "You will need an additional parameter, i, that tells us where we are in the list of items. With each step, we will break the problem down into subproblems, and compare them to find the maximum value. There are three possibilities for every call of the function:\n",
    "\n",
    "1. `weight_cap` or i are zero, meaning the knapsack can hold no weight, or there are no more items to look at. In either case, we return `0`.\n",
    "2. The weight of the item we’re looking at exceeds `weight_cap`, in which case we just move on, calling the function on the next item.\n",
    "3. If neither of the above are true, that means we have to consider whether or not the item we are at (`i`) should be included in the optimal solution.\n",
    "\n",
    "Steps 1 and 2 from above can be solved as follows:"
   ]
  },
  {
   "cell_type": "code",
   "execution_count": 4,
   "metadata": {},
   "outputs": [],
   "source": [
    "def recursive_knapsack(weight_cap, weights, values, n):\n",
    "    # base condition if no items are left or weight capacity is 0\n",
    "    if weight_cap == 0 or n == 0:\n",
    "        return 0\n",
    "    # recursive condition\n",
    "    elif weights[n - 1] > weight_cap:\n",
    "        return recursive_knapsack(weight_cap, weights, values, n - 1)\n",
    "    # For step 3, we need to look at both situations and determine if we want\n",
    "    # to include this item in our optimized solution or not.\n",
    "    else:\n",
    "        # Case 1: Include the nth item\n",
    "        # represents the maximum value achievable by including the current item.\n",
    "        include_item = values[n - 1] + recursive_knapsack(\n",
    "            weight_cap - weights[n - 1], weights, values, n - 1\n",
    "        )\n",
    "        # Case 2: Exclude the nth item\n",
    "        # represents the maximum value achievable by excluding the current item.\n",
    "        exclude_item = recursive_knapsack(weight_cap, weights, values, n - 1)\n",
    "\n",
    "        # Return the max value obtained from both cases\n",
    "        return max(include_item, exclude_item)"
   ]
  },
  {
   "cell_type": "markdown",
   "metadata": {},
   "source": [
    "While this recursive solution works, it has a big O runtime of $O(2^{n})$. In the worst case, each step would require us to evaluate two subproblems, sometimes repeatedly, as there’s overlap between subproblems. We can drastically improve on this runtime by using dynamic programming."
   ]
  },
  {
   "cell_type": "markdown",
   "metadata": {},
   "source": [
    "## **The Dynamic Programming Approach**\n",
    "\n",
    "The knapsack problem is suited for dynamic programming because memoization will allow us to store information instead of making duplicate calls. We will store this information in a two-dimensional array that has a row for every item and `weight_cap + 1` number of columns where each element in the 2D array (matrix) represents a subproblem. The element at the bottom right will be the optimal solution.\n",
    "\n",
    "But what exactly do the rows and columns represent? The rows represent the items we have seen. So if we are at row 4, then we have only seen the first 4 items, meaning the others aren’t being considered yet. The columns represent how much weight the knapsack can hold. If we are at column 7, then we are looking at a subset of the larger problem where our knapsack has a weight capacity of 7. The number stored inside matrix is the maximum value we can take given the weight capacity and number of items we have seen for that subproblem. By the time we get to the bottom right space in matrix, we have considered every possible subproblem and taken the maximum possible value.\n",
    "\n",
    "There are some elements in the matrix that will be easy to fill. Every element in the zeroth row represents a subproblem with 0 items to consider, so there is no value. Likewise, every element in the zeroth column represents a subproblem where our knapsack has a capacity of 0, giving us no value to take. Because of this, we start by filling the zeroth row and column with `0`.\n",
    "\n",
    "The pseudocode for the entire algorithm is as follows:\n",
    "\n",
    "```\n",
    "matrix = 2D array with rows equal to number of items and empty columns\n",
    "for every number of items you can carry (index):\n",
    "  fill matrix[index] with an array of length weight_cap + 1\n",
    "  for every weight < weight_cap (weight):\n",
    "    if index or weight == 0:\n",
    "      set element at [index][weight] to 0  \n",
    "    else if the weight of element at index - 1 <= weight:\n",
    "      find possible values of including and excluding the item\n",
    "      set element at [index][weight] to max of those values\n",
    "    else:\n",
    "      set element at [index][weight] to element one above\n",
    "return element at bottom right of matrix\n",
    "```\n",
    "\n",
    "\n"
   ]
  },
  {
   "cell_type": "code",
   "execution_count": 15,
   "metadata": {},
   "outputs": [
    {
     "name": "stdout",
     "output_type": "stream",
     "text": [
      "7\n",
      "107\n"
     ]
    }
   ],
   "source": [
    "def dynamic_knapsack(weight_cap, weights, values):\n",
    "    # The number of rows in the matrix, which includes an extra row for\n",
    "    # the case where no items are considered.\n",
    "    rows = len(weights) + 1  # Number of items + 1 (for 0 items)\n",
    "    # The number of columns in the matrix, which includes an extra column\n",
    "    # for the case where the weight capacity is 0.\n",
    "    cols = weight_cap + 1  # Weight capacity + 1 (for 0 weight)\n",
    "\n",
    "    # Set up 2D array with all values initialized to 0\n",
    "    # This matrix will store the maximum values for each subproblem\n",
    "    matrix = [[0 for y in range(cols)] for x in range(rows)]\n",
    "\n",
    "    # Iterate through every item (rows)\n",
    "    for i in range(1, rows):\n",
    "        # Iterate through every possible weight (columns)\n",
    "        for w in range(1, cols):\n",
    "            # If the weight of the current item (weights[i - 1]) is less than\n",
    "            # or equal to the current weight capacity (w), we decide whether\n",
    "            # to include the item or not:\n",
    "            if weights[i - 1] <= w:\n",
    "                # If the item can be included, decide to include or exclude it\n",
    "                include_item = values[i - 1] + matrix[i - 1][w - weights[i - 1]]\n",
    "                exclude_item = matrix[i - 1][w]\n",
    "                matrix[i][w] = max(include_item, exclude_item)\n",
    "            else:\n",
    "                # If the item's weight is greater than the current weight capacity,\n",
    "                # we cannot include it.\n",
    "                # If the item cannot be included, carry forward the value from above row\n",
    "                matrix[i][w] = matrix[i - 1][w]\n",
    "\n",
    "    # Return the value of the bottom right of matrix that contains the max value\n",
    "    # that can be obtained for the given weight capacity and items.\n",
    "    return matrix[rows - 1][weight_cap]\n",
    "\n",
    "\n",
    "# Use this to test your function:\n",
    "weight_cap = 50\n",
    "weights = [31, 10, 20, 19, 4, 3, 6]\n",
    "print(len(weights))\n",
    "values = [70, 20, 39, 37, 7, 5, 10]\n",
    "print(dynamic_knapsack(weight_cap, weights, values))"
   ]
  },
  {
   "cell_type": "code",
   "execution_count": 16,
   "metadata": {},
   "outputs": [
    {
     "name": "stdout",
     "output_type": "stream",
     "text": [
      "1\n",
      "2\n",
      "3\n",
      "4\n",
      "5\n",
      "6\n",
      "7\n",
      "\n",
      "[[1 2 3]\n",
      " [4 5 6]\n",
      " [7 8 9]]\n",
      "\n",
      "[[0 0 0]\n",
      " [0 0 0]\n",
      " [0 0 0]]\n",
      "\n",
      "[[0, 0, 0], [0, 0, 0], [0, 0, 0]]\n"
     ]
    }
   ],
   "source": [
    "import numpy as np\n",
    "\n",
    "array_matrix = np.array([[1, 2, 3], [4, 5, 6], [7, 8, 9]])\n",
    "array_zeros_matrix = np.zeros([3, 3], int)\n",
    "list_matrix = [[0 for i in range(3)] for j in range(3)]\n",
    "\n",
    "for i in range(1, 8):\n",
    "    print(i)\n",
    "\n",
    "print(\"\")\n",
    "print(array_matrix)\n",
    "print(\"\")\n",
    "print(array_zeros_matrix)\n",
    "print(\"\")\n",
    "print(list_matrix)"
   ]
  },
  {
   "cell_type": "markdown",
   "metadata": {},
   "source": [
    "Congratulations! You have implemented the dynamic programming approach to the knapsack problem. This version has a big O runtime of $O(n * weight_cap)$ compared to the recursive implementation’s runtime of $O(2^n)$. While this optimized runtime might seem worse using small cases, it is much more efficient as the parameters grow."
   ]
  },
  {
   "cell_type": "markdown",
   "metadata": {},
   "source": []
  }
 ],
 "metadata": {
  "kernelspec": {
   "display_name": "Python 3",
   "language": "python",
   "name": "python3"
  },
  "language_info": {
   "codemirror_mode": {
    "name": "ipython",
    "version": 3
   },
   "file_extension": ".py",
   "mimetype": "text/x-python",
   "name": "python",
   "nbconvert_exporter": "python",
   "pygments_lexer": "ipython3",
   "version": "3.12.1"
  }
 },
 "nbformat": 4,
 "nbformat_minor": 2
}
