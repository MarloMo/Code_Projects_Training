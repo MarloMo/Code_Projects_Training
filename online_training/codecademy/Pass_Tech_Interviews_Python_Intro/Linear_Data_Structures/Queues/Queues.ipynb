{
 "cells": [
  {
   "cell_type": "markdown",
   "metadata": {},
   "source": [
    "# **Queues**"
   ]
  },
  {
   "cell_type": "markdown",
   "metadata": {},
   "source": [
    "A queue is a data structure which contains an ordered set of data.\n",
    "\n",
    "Queues provide three methods for interaction:\n",
    "\n",
    "* **Enqueue** - adds data to the “back” or end of the queue\n",
    "    * Allow us to add a new node to the tail of the queue\n",
    "* **Dequeue** - provides and removes data from the “front” or beginning of the queue\n",
    "    * Allow us to remove a node from the head of the queue and return its value\n",
    "* **Peek** - reveals data from the “front” of the queue without removing it\n",
    "    * Allow us to view the value of head of the queue without returning it\n",
    "\n",
    "This data structure mimics a physical queue of objects like a line of people buying movie tickets. Each person has a name (the data). The first person to enqueue, or get into line, is both at the front and back of the line. As each new person enqueues, they become the new back of the line.\n",
    "\n",
    "The first person in the queue is the first to be served. Queues are a First In, First Out or FIFO structure"
   ]
  },
  {
   "cell_type": "markdown",
   "metadata": {},
   "source": [
    "### **Queues Implementation**\n",
    "\n",
    "Queues can be implemented using a linked list as the underlying data structure. The front of the queue is equivalent to the head node of a linked list and the back of the queue is equivalent to the tail node.\n",
    "\n",
    "One last constraint that may be placed on a queue is its length. If a queue has a limit on the amount of data that can be placed into it, it is considered a bounded queue.\n",
    "\n",
    "Similar to stacks, attempting to enqueue data onto an already full queue will result in a queue overflow. If you attempt to dequeue data from an empty queue, it will result in a queue underflow."
   ]
  },
  {
   "cell_type": "markdown",
   "metadata": {},
   "source": []
  },
  {
   "cell_type": "code",
   "execution_count": 32,
   "metadata": {},
   "outputs": [],
   "source": [
    "class Node:\n",
    "\n",
    "    def __init__(self, value, next_node=None):\n",
    "        self.value = value\n",
    "        self.next_node = next_node\n",
    "\n",
    "    def set_next_node(self, next_node):\n",
    "        self.next_node = next_node\n",
    "\n",
    "    def get_next_node(self):\n",
    "        return self.next_node\n",
    "\n",
    "    def get_value(self):\n",
    "        return self.value\n",
    "\n",
    "\n",
    "class Queue:\n",
    "\n",
    "    def __init__(self, max_size=None):\n",
    "        self.head = None\n",
    "        self.tail = None\n",
    "        self.max_size = max_size\n",
    "        self.size = 0\n",
    "\n",
    "    def enqueue(self, value):\n",
    "        '''\n",
    "        Allows us to add a new node to the tail of the queue.\n",
    "        '''\n",
    "        if self.has_space():\n",
    "            item_to_add = Node(value)\n",
    "            print(\"Adding \" + str(item_to_add.get_value()) + \" to the queue!\")\n",
    "\n",
    "            if self.is_empty():\n",
    "                self.head = item_to_add\n",
    "                self.tail = item_to_add\n",
    "            else:\n",
    "                # Correctly set the next node of the tail\n",
    "                # item_to_add <- NT <- N1 <- ...\n",
    "                self.tail.set_next_node(item_to_add)\n",
    "                # Increment size only if an item is added\n",
    "                self.tail = item_to_add\n",
    "\n",
    "            self.size += 1\n",
    "        else:\n",
    "            print(\"Sorry, no more room!\")\n",
    "\n",
    "    def dequeue(self):\n",
    "        '''\n",
    "        Allow us to remove a node from the head of the queue and return its value\n",
    "        '''\n",
    "\n",
    "        if not self.is_empty():\n",
    "\n",
    "            item_to_remove = self.head\n",
    "            print(\"Removing \" + str(item_to_remove.get_value()) +\n",
    "                  \" from the queue!\")\n",
    "\n",
    "            if self.size == 1:\n",
    "                self.head = None\n",
    "                self.tail = None\n",
    "            else:\n",
    "                self.head = self.head.get_next_node()\n",
    "\n",
    "            self.size -= 1\n",
    "\n",
    "            return item_to_remove.get_value()\n",
    "\n",
    "        else:\n",
    "            print(\"This queue is totally empty!\")\n",
    "            \n",
    "    def peek(self):\n",
    "        if self.is_empty():\n",
    "            return \"Nothing to see here!\"\n",
    "        else:\n",
    "            return self.head.get_value()\n",
    "\n",
    "    def get_size(self):\n",
    "        return self.size\n",
    "\n",
    "    def has_space(self):\n",
    "        if self.max_size == None:\n",
    "            return True\n",
    "        else:\n",
    "            return self.get_size() < self.max_size\n",
    "\n",
    "    def is_empty(self):\n",
    "        return self.get_size() == 0\n"
   ]
  },
  {
   "cell_type": "code",
   "execution_count": 33,
   "metadata": {},
   "outputs": [
    {
     "name": "stdout",
     "output_type": "stream",
     "text": [
      "Adding Hello World to the queue!\n",
      "Adding 1 to the queue!\n",
      "Sorry, no more room!\n",
      "Removing Hello World from the queue!\n",
      "Removing 1 from the queue!\n",
      "This queue is totally empty!\n"
     ]
    }
   ],
   "source": [
    "queue = Queue(2)\n",
    "# queue.is_empty()\n",
    "queue.peek()\n",
    "\n",
    "queue.enqueue(\"Hello World\")\n",
    "queue.enqueue(1)\n",
    "queue.enqueue(\"Sample\")\n",
    "queue.peek()\n",
    "queue.dequeue()\n",
    "queue.peek()\n",
    "\n",
    "queue.dequeue()\n",
    "queue.dequeue()\n",
    "\n"
   ]
  },
  {
   "cell_type": "code",
   "execution_count": null,
   "metadata": {},
   "outputs": [],
   "source": []
  }
 ],
 "metadata": {
  "kernelspec": {
   "display_name": "Python 3",
   "language": "python",
   "name": "python3"
  },
  "language_info": {
   "codemirror_mode": {
    "name": "ipython",
    "version": 3
   },
   "file_extension": ".py",
   "mimetype": "text/x-python",
   "name": "python",
   "nbconvert_exporter": "python",
   "pygments_lexer": "ipython3",
   "version": "3.12.1"
  }
 },
 "nbformat": 4,
 "nbformat_minor": 2
}
