{
 "cells": [
  {
   "cell_type": "markdown",
   "metadata": {},
   "source": [
    "# **Linear Search Conceptual**"
   ]
  },
  {
   "cell_type": "markdown",
   "metadata": {},
   "source": [
    "Linear search is a search algorithm that sequentially checks whether a given value is an element of a specified list by scanning the elements of a list one-by-one until it finds the target value.\n",
    "The time complexity for linear search is O(N), but its performance is dependent on its input:\n",
    "\n",
    "* Best Case: The algorithm requires only 1 comparison to find the target value in the first position of the list.\n",
    "* Worst Case: The algorithm requires only n comparison to find the target value in the last position of the list or does not exist in the list.\n",
    "* Average Case: The algorithm makes N/2 comparisons.\n",
    "Linear search is a good choice for a search algorithm when:\n",
    "\n",
    "You expect the target value to be positioned near the beginning of the list.\n",
    "A search needs to be performed on an unsorted list because linear search traverses the entire list from beginning to end, regardless of its order.\n"
   ]
  },
  {
   "cell_type": "markdown",
   "metadata": {},
   "source": []
  },
  {
   "cell_type": "code",
   "execution_count": 22,
   "metadata": {},
   "outputs": [],
   "source": [
    "### Implement Linear Search\n",
    "def linear_search(search_list, target_value):\n",
    "  \n",
    "    for i in range(len(search_list)):\n",
    "      print(search_list[i])\n",
    "\n",
    "      if search_list[i] == target_value:\n",
    "        return i\n",
    "\n",
    "    raise ValueError(f\"{target_value} not in list\")\n",
    "\n",
    "### Finding Duplicates\n",
    "def linear_search_dup(search_list, target_value):\n",
    "    matches = []\n",
    "    for idx in range(len(search_list)):\n",
    "      if search_list[idx] == target_value:\n",
    "        matches.append(idx)\n",
    "\n",
    "    if matches:\n",
    "      return matches\n",
    "    else:\n",
    "      raise ValueError(\"{0} not in list\".format(target_value))\n",
    "  \n",
    "### Finding the Max value of an unsorted list\n",
    "def linear_search_Max(search_list):\n",
    "    maximum_score_index = 0\n",
    "    \n",
    "    for i in range(1, len(search_list)):\n",
    "        # print(search_list[i])\n",
    "        if search_list[i] > search_list[maximum_score_index]:\n",
    "            maximum_score_index = i\n",
    "\n",
    "    return maximum_score_index\n",
    "\n"
   ]
  },
  {
   "cell_type": "code",
   "execution_count": 23,
   "metadata": {},
   "outputs": [
    {
     "name": "stdout",
     "output_type": "stream",
     "text": [
      "Index of highest score: 3\n",
      "Highest score: 100\n",
      "[0, 5]\n",
      "54\n",
      "22\n",
      "return index: 1\n"
     ]
    }
   ],
   "source": [
    "### Finding the Max value of an unsorted list \n",
    "test_scores = [88, 93, 75, 100, 80, 67, 71, 92, 90, 83]\n",
    "highest_score_index = linear_search_Max(test_scores)\n",
    "# Prints out the highest score in the list\n",
    "print(\"Index of highest score:\", highest_score_index)\n",
    "print(\"Highest score:\", test_scores[highest_score_index])\n",
    "\n",
    "### Finding Duplicates\n",
    "tour_locations = [ \"New York City\", \"Los Angeles\", \"Bangkok\", \"Istanbul\", \"London\", \"New York City\", \"Toronto\"]\n",
    "target_city = \"New York City\"\n",
    "#Function call\n",
    "tour_stops = linear_search_dup(tour_locations, target_city)\n",
    "print(tour_stops)\n",
    "\n",
    "### Implement Linear Search\n",
    "values = [54, 22, 46, 99]\n",
    "print(\"return index:\", linear_search(values, 22))\n",
    "# print(\"return index:\", linear_search(values, 100))\n",
    "\n"
   ]
  },
  {
   "cell_type": "code",
   "execution_count": null,
   "metadata": {},
   "outputs": [],
   "source": []
  }
 ],
 "metadata": {
  "kernelspec": {
   "display_name": "Python 3",
   "language": "python",
   "name": "python3"
  },
  "language_info": {
   "codemirror_mode": {
    "name": "ipython",
    "version": 3
   },
   "file_extension": ".py",
   "mimetype": "text/x-python",
   "name": "python",
   "nbconvert_exporter": "python",
   "pygments_lexer": "ipython3",
   "version": "3.12.1"
  }
 },
 "nbformat": 4,
 "nbformat_minor": 2
}
