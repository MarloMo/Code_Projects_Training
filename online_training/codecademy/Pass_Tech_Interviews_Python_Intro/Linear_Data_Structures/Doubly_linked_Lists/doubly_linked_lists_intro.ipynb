{
 "cells": [
  {
   "cell_type": "markdown",
   "metadata": {},
   "source": [
    "# Double Linked Lists Introduction"
   ]
  },
  {
   "cell_type": "markdown",
   "metadata": {},
   "source": [
    "Like a singly linked list, a doubly linked list is comprised of a series of nodes. Each node contains data and two links (or pointers) to the next and previous nodes in the list. The head node is the node at the beginning of the list, and the tail node is the node at the end of the list. The head node’s previous pointer is set to null and the tail node’s next pointer is set to null."
   ]
  },
  {
   "cell_type": "markdown",
   "metadata": {},
   "source": [
    "Think of your daily commute on the subway as a real-world example of a doubly linked list. Your home is the head of the list, your place of work is the tail, and every stop in between is another node in the list. In the morning when you take the subway to get to work, you are traversing the list from the head to the tail, using the stop’s next pointer. While this can also be done using a singly linked list, a doubly linked list will also allow you to traverse back through the list easily, using the stop’s previous pointer. You will take the exact same route to get home, just in reverse."
   ]
  },
  {
   "cell_type": "markdown",
   "metadata": {},
   "source": [
    "Common operations on a doubly linked list may include:\n",
    "\n",
    "* adding nodes to both ends of the list\n",
    "* removing nodes from both ends of the list\n",
    "* finding, and removing, a node from anywhere in the list\n",
    "* traversing (or traveling through) the list"
   ]
  },
  {
   "cell_type": "markdown",
   "metadata": {},
   "source": [
    "## Review"
   ]
  },
  {
   "cell_type": "markdown",
   "metadata": {},
   "source": [
    "* Are comprised of nodes that contain links to the next and previous nodes\n",
    "* Are ***bidirectional***, meaning it can be traversed in both directions\n",
    "* Have a pointer to a single head node, which serves as the first node in the list\n",
    "* Have a pointer to a single tail node, which serves as the last node in the list\n",
    "* Require the pointers at the head of the list to be updated after addition to or removal of the head\n",
    "* Require the pointers at the tail of the list to be updated after addition to or removed of the tail\n",
    "* Require the pointers of the surrounding nodes to be updated after removal from the middle of the list\n",
    "\n",
    "Your browser history is another example of a doubly linked list. When you open your browser, the page that you land on is the head of your list. As you click on things and navigate to new pages, you are moving forward and adding to the tail of your list. If you ever want to go back to something you’ve already visited, you can use the “back” button to move backward through your list. Can you think of another computer use case for a doubly linked list?"
   ]
  },
  {
   "cell_type": "markdown",
   "metadata": {},
   "source": []
  }
 ],
 "metadata": {
  "language_info": {
   "name": "python"
  }
 },
 "nbformat": 4,
 "nbformat_minor": 2
}
