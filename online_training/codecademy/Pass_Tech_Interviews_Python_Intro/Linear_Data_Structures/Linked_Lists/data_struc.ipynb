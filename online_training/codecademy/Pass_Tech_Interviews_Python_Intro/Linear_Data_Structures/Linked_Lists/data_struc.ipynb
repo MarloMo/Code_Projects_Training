{
 "cells": [
  {
   "cell_type": "markdown",
   "metadata": {},
   "source": [
    "# Data Structures"
   ]
  },
  {
   "cell_type": "markdown",
   "metadata": {},
   "source": [
    "* Data structures are the way we are able to store and retrieve data.\n",
    "\n",
    "Data structures handle four main functions for us:\n",
    "\n",
    "1. Inputting information\n",
    "2. Processing information\n",
    "3. Maintaining information\n",
    "4. Retrieving information"
   ]
  },
  {
   "cell_type": "markdown",
   "metadata": {},
   "source": []
  },
  {
   "cell_type": "markdown",
   "metadata": {},
   "source": [
    " ## **Nodes**\n",
    "\n"
   ]
  },
  {
   "cell_type": "markdown",
   "metadata": {},
   "source": [
    "Nodes are the fundamental building blocks of many computer science data structures. They form the basis for linked lists, stacks, queues, trees, and more.\n",
    "\n",
    "An individual node contains data and links to other nodes. Each data structure adds additional constraints or behavior to these features to create the desired structure"
   ]
  },
  {
   "cell_type": "markdown",
   "metadata": {},
   "source": [
    "Nodes:\n",
    "\n",
    "1. Contain data, which can be a variety of data types\n",
    "2. Contain links to other nodes. If a node has no links, or they are all null, you have reached the end of the path you were following.\n",
    "3. Can be orphaned if there are no existing links to them"
   ]
  },
  {
   "cell_type": "markdown",
   "metadata": {},
   "source": [
    "* Only contain data and links to other nodes (NULL if there is no link)"
   ]
  },
  {
   "cell_type": "markdown",
   "metadata": {},
   "source": [
    "* immutable means : can't be updated or changed."
   ]
  },
  {
   "cell_type": "markdown",
   "metadata": {},
   "source": [
    "### 1. Linked Lists"
   ]
  },
  {
   "cell_type": "markdown",
   "metadata": {},
   "source": [
    "In a linked list, each node contains a value and a reference (or link) to the next node in the sequence. This structure allows for efficient insertion and deletion of elements.\n",
    "\n",
    "* Singly Linked List: Each node points to the next node.\n",
    "* Doubly Linked List: Each node points to both the next and the previous nodes, allowing traversal in both directions."
   ]
  },
  {
   "cell_type": "code",
   "execution_count": 1,
   "metadata": {},
   "outputs": [
    {
     "name": "stdout",
     "output_type": "stream",
     "text": [
      "C\n",
      "B\n",
      "A\n"
     ]
    }
   ],
   "source": [
    "class Node:\n",
    "    def __init__(self, value, link_node=None):\n",
    "        self.value = value\n",
    "        self.link_node = link_node\n",
    "\n",
    "# Creating nodes\n",
    "node1 = Node(\"A\")\n",
    "node2 = Node(\"B\", node1)\n",
    "node3 = Node(\"C\", node2)\n",
    "\n",
    "# Traversing the linked list\n",
    "current_node = node3\n",
    "while current_node:\n",
    "    print(current_node.value)\n",
    "    current_node = current_node.link_node"
   ]
  },
  {
   "cell_type": "markdown",
   "metadata": {},
   "source": [
    "### 2. Trees\n",
    "\n",
    "In a tree data structure, nodes can have multiple children. The most common type of tree is the binary tree, where each node has at most two children.\n",
    "\n",
    "* Binary Search Tree (BST): A binary tree where each node follows the property that the left child has a smaller value and the right child has a larger value.\n",
    "* Balanced Trees (e.g., AVL, Red-Black Trees): Trees that maintain balanced heights to ensure efficient operations."
   ]
  },
  {
   "cell_type": "code",
   "execution_count": 2,
   "metadata": {},
   "outputs": [],
   "source": [
    "class TreeNode:\n",
    "    def __init__(self, value):\n",
    "        self.value = value\n",
    "        self.left = None\n",
    "        self.right = None\n",
    "\n",
    "# Creating a binary tree\n",
    "root = TreeNode(10)\n",
    "root.left = TreeNode(5)\n",
    "root.right = TreeNode(15)"
   ]
  },
  {
   "cell_type": "markdown",
   "metadata": {},
   "source": []
  },
  {
   "cell_type": "markdown",
   "metadata": {},
   "source": [
    "### 3. Graphs\n",
    "\n",
    "In graphs, nodes (often called vertices) are connected by edges. Graphs can represent various real-world problems like social networks, transportation networks, and more.\n",
    "\n",
    "* Directed Graphs: Edges have a direction.\n",
    "* Undirected Graphs: Edges do not have a direction.\n",
    "* Weighted Graphs: Edges have weights (values) associated with them."
   ]
  },
  {
   "cell_type": "markdown",
   "metadata": {},
   "source": []
  },
  {
   "cell_type": "code",
   "execution_count": 8,
   "metadata": {},
   "outputs": [
    {
     "name": "stdout",
     "output_type": "stream",
     "text": [
      "C\n",
      "None\n"
     ]
    }
   ],
   "source": [
    "class GraphNode:\n",
    "    def __init__(self, value):\n",
    "        self.value = value\n",
    "        self.adjacent = []\n",
    "\n",
    "    def get_adjacent(self):\n",
    "        for node in self.adjacent:\n",
    "            print(node.value)\n",
    "\n",
    "# Creating graph nodes\n",
    "nodeA = GraphNode(\"A\")\n",
    "nodeB = GraphNode(\"B\")\n",
    "nodeC = GraphNode(\"C\")\n",
    "\n",
    "# Connecting nodes\n",
    "nodeA.adjacent.append(nodeB)\n",
    "nodeB.adjacent.append(nodeC)\n",
    "nodeC.adjacent.append(nodeA)\n",
    "\n",
    "print(nodeB.get_adjacent())"
   ]
  },
  {
   "cell_type": "markdown",
   "metadata": {},
   "source": [
    "***Advantages of Using Nodes***\n",
    "\n",
    "1. Dynamic Memory Allocation: Nodes can be dynamically allocated, allowing for flexible data structures that can grow and shrink as needed.\n",
    "2. Efficient Insertions/Deletions: In structures like linked lists, nodes enable efficient insertion and deletion operations without the need for shifting elements (as in arrays).\n",
    "3. Hierarchical Data Representation: Nodes facilitate hierarchical data representation in trees, making it easy to implement operations like searching, sorting, and traversal.\n",
    "Complex Relationships: In graphs, nodes and edges can represent complex relationships and interactions between data points.\n",
    "\n",
    "***Summary***\n",
    "Nodes are versatile components used in various data structures to store and organize data efficiently. They provide the foundation for linked lists, trees, and graphs, enabling efficient data manipulation and access in many algorithms and applications."
   ]
  },
  {
   "cell_type": "markdown",
   "metadata": {},
   "source": []
  }
 ],
 "metadata": {
  "kernelspec": {
   "display_name": "Python 3",
   "language": "python",
   "name": "python3"
  },
  "language_info": {
   "codemirror_mode": {
    "name": "ipython",
    "version": 3
   },
   "file_extension": ".py",
   "mimetype": "text/x-python",
   "name": "python",
   "nbconvert_exporter": "python",
   "pygments_lexer": "ipython3",
   "version": "3.12.3"
  }
 },
 "nbformat": 4,
 "nbformat_minor": 2
}
