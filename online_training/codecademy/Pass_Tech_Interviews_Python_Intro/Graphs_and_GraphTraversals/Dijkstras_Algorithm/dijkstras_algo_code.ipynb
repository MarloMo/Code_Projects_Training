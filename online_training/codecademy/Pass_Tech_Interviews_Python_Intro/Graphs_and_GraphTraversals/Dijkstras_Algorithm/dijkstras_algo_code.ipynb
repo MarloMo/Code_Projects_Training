{
 "cells": [
  {
   "cell_type": "code",
   "execution_count": 4,
   "metadata": {},
   "outputs": [],
   "source": [
    "import heapq\n",
    "import math"
   ]
  },
  {
   "cell_type": "code",
   "execution_count": 11,
   "metadata": {},
   "outputs": [],
   "source": [
    "# Define dijkstras() below:\n",
    "def dijkstras(graph, start):\n",
    "    distances = {}\n",
    "\n",
    "    for vertex in graph:\n",
    "        distances[vertex] = math.inf\n",
    "        distances[start] = 0\n",
    "\n",
    "    vertices_to_explore = [(0, start)]\n",
    "    while vertices_to_explore:\n",
    "        current_distance, current_vertex = heapq.heappop(vertices_to_explore)\n",
    "\n",
    "        for neighbor, edge_weight in graph[current_vertex]:\n",
    "            new_distance = current_distance + edge_weight\n",
    "            if new_distance < distances[neighbor]:\n",
    "                distances[neighbor] = new_distance\n",
    "\n",
    "                heapq.heappush(vertices_to_explore, (new_distance, neighbor))\n",
    "\n",
    "    return distances"
   ]
  },
  {
   "cell_type": "code",
   "execution_count": 13,
   "metadata": {},
   "outputs": [
    {
     "name": "stdout",
     "output_type": "stream",
     "text": [
      "Shortest Distances:  {'A': 0, 'C': 3, 'D': 5, 'E': 15, 'B': 10}\n"
     ]
    }
   ],
   "source": [
    "graph = {\n",
    "    \"A\": [(\"B\", 10), (\"C\", 3)],\n",
    "    \"C\": [(\"D\", 2)],\n",
    "    \"D\": [(\"E\", 10)],\n",
    "    \"E\": [],\n",
    "    \"B\": [(\"C\", 3), (\"D\", 2)],\n",
    "}\n",
    "\n",
    "print(\"Shortest Distances: \", dijkstras(graph, \"A\"))"
   ]
  },
  {
   "cell_type": "code",
   "execution_count": null,
   "metadata": {},
   "outputs": [],
   "source": []
  }
 ],
 "metadata": {
  "kernelspec": {
   "display_name": "Python 3",
   "language": "python",
   "name": "python3"
  },
  "language_info": {
   "codemirror_mode": {
    "name": "ipython",
    "version": 3
   },
   "file_extension": ".py",
   "mimetype": "text/x-python",
   "name": "python",
   "nbconvert_exporter": "python",
   "pygments_lexer": "ipython3",
   "version": "3.12.1"
  }
 },
 "nbformat": 4,
 "nbformat_minor": 2
}
