{
 "cells": [
  {
   "cell_type": "markdown",
   "metadata": {},
   "source": [
    "# **Dijkstra's Algorithm**\n",
    "\n",
    "there is an algorithm that computes the shortest distance from a given vertex to the rest of the vertices in a graph. This is called Dijkstra’s Algorithm.\n",
    "\n",
    "1. Instantiate a dictionary that will eventually map vertices to their distance from the start vertex\n",
    "2. Assign the start vertex a distance of 0 in a min heap\n",
    "3. Assign every other vertex a distance of infinity in a min heap\n",
    "4. Remove the vertex with the smallest distance from the min heap and set that to the current vertex\n",
    "5. For the current vertex, consider all of its adjacent vertices and calculate the distance to them as (distance to the current vertex) + (edge weight of current vertex to adjacent vertex).\n",
    "6. If this new distance is less than the current distance, replace the current distance.\n",
    "7. Repeat 4 and 5 until the heap is empty\n",
    "8. After the heap is empty, return the distances"
   ]
  },
  {
   "cell_type": "markdown",
   "metadata": {},
   "source": [
    "* Dijkstra’s algorithm is an algorithm to find all of the shortest distances between a start vertex and the rest of the vertices in a graph.\n",
    "* The algorithm works by keeping track of all the distances and updating the distances as it conducts a breadth-first search.\n",
    "* Dijkstra’s algorithm runs in O((E+V)log V)."
   ]
  },
  {
   "cell_type": "markdown",
   "metadata": {},
   "source": []
  }
 ],
 "metadata": {
  "language_info": {
   "name": "python"
  }
 },
 "nbformat": 4,
 "nbformat_minor": 2
}
