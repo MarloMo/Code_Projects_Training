{
 "cells": [
  {
   "cell_type": "markdown",
   "metadata": {},
   "source": [
    "# **$A^{*}$ Algorithm**\n",
    "\n",
    "Dijkstra’s algorithm is great for finding the shortest distance from a start vertex to all other vertices in the graph. However, it is not the best when we are just looking for the shortest distance from a single start vertex to a single end vertex. Let’s think about this.\n",
    "\n",
    "Dijkstra’s algorithm considers ALL neighboring vertices and simply pops the vertex with the shortest distance calculated so far from the queue. As a refresher, here’s the pseudocode for Dijkstra’s Algorithm"
   ]
  },
  {
   "cell_type": "markdown",
   "metadata": {},
   "source": [
    "```\n",
    "create dictionary to map vertices to their distance from start vertex\n",
    "\n",
    "assign start vertex a distance of 0 in min heap\n",
    "\n",
    "assign every other vertex a distance of infinity in min heap\n",
    "\n",
    "remove the vertex with the minimum distance from the min heap and set it to the current vertex\n",
    "\n",
    "while min heap is not empty:\n",
    "  for each current vertex:\n",
    "    for each neighbor in neighbors:\n",
    "    new distance = (distance to current vertex) + (edge weight of current vertex to neighbor)\n",
    "\n",
    "    if new distance is less than its current distance:\n",
    "      current distance = new distance\n",
    "\n",
    "return distances\n",
    "```"
   ]
  },
  {
   "cell_type": "markdown",
   "metadata": {},
   "source": [
    "However, considering vertices that take us away from our goal might be a waste of time. For instance, take a look at the graph on the left.\n",
    "\n",
    "What if we modeled all the train stations in North America using a graph and we were looking for the shortest train distance from New York to Los Angeles?\n",
    "\n",
    "We shouldn’t consider train stations in Canada because it would be inefficient to look in that direction. However, as shown in the graph on the left, Dijkstra’s looks in all directions, and the algorithm will check all neighboring stations.\n",
    "\n",
    "Luckily, there are modifications we can make to Dijkstra’s Algorithm."
   ]
  },
  {
   "cell_type": "markdown",
   "metadata": {},
   "source": [
    "## **What is $A^{*}$?**\n",
    "\n",
    "Rather than simply checking the distance up to the current vertex, we will check the distance up to the current vertex + the estimated distance from the current vertex to the end vertex. We call this estimated distance the heuristic. For instance, in a graph where the vertices are cities, and the edges are roads, we can estimate the distance between two cities through a distance formula:\n",
    "\n",
    "$$\n",
    "d = \\sqrt{(x_{1} - x_{2})^{2} + (y_{1} - y{2})^{2}}\n",
    "$$\n",
    "\n",
    "There are only a few important changes you will need to make to Dijkstra’s algorithm to turn it into a star of an algorithm:\n",
    "\n",
    "1. ADD A TARGET FOR THE SEARCH. The new algorithm cannot optimize with a heuristic unless it has a clear destination.\n",
    "\n",
    "2. GATHER POSSIBLE OPTIMAL PATHS AND IDENTIFY A SINGLE SHORTEST PATH. You want to find a path that has the shortest distance for the least cost.\n",
    "\n",
    "3. IMPLEMENT A HEURISTIC THAT DETERMINES THE LIKELY DISTANCE REMAINING. The main difference between Dijkstra's and this new algorithm is that this one knows which direction to head in.\n",
    "\n",
    "This new algorithm is called $A^{*}$. It’s sometimes referred to as a greedy algorithm because it makes a locally optimal choice at every vertex. The heuristic that $A^{*}$ uses makes it an introductory example of artificial intelligence!"
   ]
  },
  {
   "cell_type": "markdown",
   "metadata": {},
   "source": []
  }
 ],
 "metadata": {
  "language_info": {
   "name": "python"
  }
 },
 "nbformat": 4,
 "nbformat_minor": 2
}
