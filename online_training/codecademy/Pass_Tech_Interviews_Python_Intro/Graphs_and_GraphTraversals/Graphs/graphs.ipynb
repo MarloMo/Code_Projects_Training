{
 "cells": [
  {
   "cell_type": "markdown",
   "metadata": {},
   "source": [
    "# **Graphs**"
   ]
  },
  {
   "cell_type": "markdown",
   "metadata": {},
   "source": [
    "Graphs are the perfect data structure for modeling networks, which make them an indispensable piece of your data structure toolkit. They’re composed of nodes, or vertices, which hold data, and edges, which are a connection between two vertices. A single node is a vertex.\n",
    "\n",
    "Consider a map of the area where you live. As a graph, we could model bus stops as vertices, with bus routes between stops functioning as the edges.\n",
    "\n",
    "What about the internet? Web pages can be vertices, and the hyperlinks which connect them are edges.\n",
    "\n",
    "Real-world relationships modeled as graphs are numerous, making them an essential concept to master."
   ]
  },
  {
   "cell_type": "markdown",
   "metadata": {},
   "source": [
    "Graphs have varying degrees of connection. The higher the ratio of edges to vertices, the more connected the graph.\n",
    "\n",
    "This graph represents a social network; people are vertices and edges are friendships. Ted is adjacent to Patty, Ron, and Alice because an edge directly connects them.\n",
    "\n",
    "We use a single line for an edge, but these friendships are bi-directional. Patty is friends with Ron and Ron is friends with Patty.\n",
    "\n",
    "A path is vertices which are connected by any number of intermediate edges. The paths from Alice to Patty could go Alice to Ted to Patty or, Alice to Ted to Ron to Patty.\n",
    "\n",
    "No path exists between Sally and Ted. When no path exists between two vertices, a graph is disconnected."
   ]
  },
  {
   "cell_type": "markdown",
   "metadata": {},
   "source": [
    "### **Weight**\n",
    "\n",
    "We’re building a graph of favorite neighborhood destinations (vertices) and routes (edges), but not all edges are equal. It takes longer to travel between Gym and Museum than it does to travel between Museum and Bakery.\n",
    "\n",
    "This is a weighted graph, where edges have a number or cost associated with traveling between the vertices. When tallying the cost of a path, we add up the total cost of the edges used.\n",
    "\n",
    "These costs are essential to algorithms that find the shortest distance between two vertices.\n",
    "\n",
    "Gym and Library are adjacent, there’s one edge between them, but there’s less total cost to travel from Gym to Bakery to Library (10 vs. 9).\n",
    "\n",
    "In a weighted graph, the shortest path is not always the least expensive."
   ]
  },
  {
   "cell_type": "markdown",
   "metadata": {},
   "source": [
    "### **Directed Graphs**\n",
    "\n",
    "Imagine you’re a superhero escaping a villain’s lair. As you move from perilous room to perilous room, the doors close immediately behind you, barring any return.\n",
    "\n",
    "For this dramatic example, we need a directed graph, where edges restrict the direction of movement between vertices.\n",
    "\n",
    "We can move from spikes to lasers, but not from lasers to spikes. This differs from earlier examples when every edge was bi-directional.\n",
    "\n",
    "Note the path spikes to lasers to piranhas to spikes. This path is a cycle, because it ends on the vertex where it began: spikes."
   ]
  },
  {
   "cell_type": "markdown",
   "metadata": {},
   "source": [
    "### **Representing Graphs**\n",
    "\n",
    "We typically represent the vertex-edge relationship of a graph in two ways: an adjacency list or an adjacency matrix.\n",
    "\n",
    "An adjacency matrix is a table. Across the top, every vertex in the graph appears as a column. Down the side, every vertex appears again as a row. Edges can be bi-directional, so each vertex is listed twice.\n",
    "\n",
    "To find an edge between B and P, we would look for the B row and then trace across to the P column. The contents of this cell represent a possible edge.\n",
    "\n",
    "Our diagram uses 1 to mark an edge, 0 for the absence of an edge. In a weighted graph, the cell contains the cost of that edge.\n",
    "\n",
    "In an adjacency list, each vertex contains a list of the vertices where an edge exists. To find an edge, one looks through the list for the desired vertex.\n"
   ]
  },
  {
   "cell_type": "markdown",
   "metadata": {},
   "source": [
    "### **Review**\n",
    "\n",
    "Graphs are an essential data structure in computer science for modeling networks. Let’s review some key terms:\n",
    "\n",
    "* vertex: A node in a graph.\n",
    "* edge: A connection between two vertices.\n",
    "* adjacent: When an edge exists between vertices.\n",
    "* path: A sequence of one or more edges between vertices.\n",
    "* disconnected: Graph where at least two vertices have no path connecting them.\n",
    "* weighted: Graph where edges have an associated cost.\n",
    "* directed: Graph where travel between vertices can be restricted to a single direction.\n",
    "* cycle: A path which begins and ends at the same vertex.\n",
    "* adjacency matrix: Graph representation where vertices are both the rows and the columns. Each cell represents a possible edge.\n",
    "* adjacency list: Graph representation where each vertex has a list of all the vertices it shares an edge with."
   ]
  },
  {
   "cell_type": "markdown",
   "metadata": {},
   "source": []
  }
 ],
 "metadata": {
  "language_info": {
   "name": "python"
  }
 },
 "nbformat": 4,
 "nbformat_minor": 2
}
