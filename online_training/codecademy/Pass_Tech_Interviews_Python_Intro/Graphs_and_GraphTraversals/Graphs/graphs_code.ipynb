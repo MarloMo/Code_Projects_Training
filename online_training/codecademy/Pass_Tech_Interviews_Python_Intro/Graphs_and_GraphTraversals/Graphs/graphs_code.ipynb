{
 "cells": [
  {
   "cell_type": "markdown",
   "metadata": {},
   "source": [
    "Let’s detail the functionality we require from these classes:\n",
    "\n",
    "* `Vertex` stores some data.\n",
    "* `Vertex` stores the edges to connected vertices and their weight.\n",
    "* `Vertex` can add a new edge to its collection.\n",
    "* `Graph` stores all the vertices.\n",
    "* `Graph` knows if it is directed or undirected.\n",
    "* `Graph` can add a new vertex to its collection.\n",
    "* `Graph` can add a new edge between stored vertices.\n",
    "* `Graph` can tell whether a path exists between stored vertices\n",
    "\n",
    "To keep the concepts grounded in a real-world application, we’ll build up a transportation network of railroads and train stations as we g"
   ]
  },
  {
   "cell_type": "code",
   "execution_count": 8,
   "metadata": {},
   "outputs": [],
   "source": [
    "class Vertex:\n",
    "\n",
    "    def __init__(self, value):\n",
    "        self.value = value\n",
    "        # A key in the dict represents a connection\n",
    "        # to that other vertex.\n",
    "        self.edges = {} \n",
    "\n",
    "    def get_edges(self):\n",
    "        return list(self.edges.keys())\n",
    "\n",
    "    def add_edge(self, vertex):\n",
    "        print(\"Adding edge to\" + vertex)"
   ]
  },
  {
   "cell_type": "code",
   "execution_count": 7,
   "metadata": {},
   "outputs": [
    {
     "name": "stdout",
     "output_type": "stream",
     "text": [
      "Cronk\n",
      "{}\n"
     ]
    }
   ],
   "source": [
    "station = Vertex(\"Cronk\")\n",
    "print(station.value)\n",
    "print(station.edges)"
   ]
  },
  {
   "cell_type": "code",
   "execution_count": null,
   "metadata": {},
   "outputs": [],
   "source": []
  }
 ],
 "metadata": {
  "kernelspec": {
   "display_name": "Python 3",
   "language": "python",
   "name": "python3"
  },
  "language_info": {
   "codemirror_mode": {
    "name": "ipython",
    "version": 3
   },
   "file_extension": ".py",
   "mimetype": "text/x-python",
   "name": "python",
   "nbconvert_exporter": "python",
   "pygments_lexer": "ipython3",
   "version": "3.12.1"
  }
 },
 "nbformat": 4,
 "nbformat_minor": 2
}
