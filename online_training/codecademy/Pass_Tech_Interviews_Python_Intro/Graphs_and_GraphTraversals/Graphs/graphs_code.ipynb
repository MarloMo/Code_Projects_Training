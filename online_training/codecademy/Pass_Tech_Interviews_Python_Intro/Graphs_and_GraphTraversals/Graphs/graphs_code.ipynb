{
 "cells": [
  {
   "cell_type": "markdown",
   "metadata": {},
   "source": [
    "Let’s detail the functionality we require from these classes:\n",
    "\n",
    "* `Vertex` stores some data.\n",
    "* `Vertex` stores the edges to connected vertices and their weight.\n",
    "* `Vertex` can add a new edge to its collection.\n",
    "* `Graph` stores all the vertices.\n",
    "* `Graph` knows if it is directed or undirected.\n",
    "* `Graph` can add a new vertex to its collection.\n",
    "* `Graph` can add a new edge between stored vertices.\n",
    "* `Graph` can tell whether a path exists between stored vertices\n",
    "\n",
    "To keep the concepts grounded in a real-world application, we’ll build up a transportation network of railroads and train stations as we g"
   ]
  },
  {
   "cell_type": "code",
   "execution_count": 3,
   "metadata": {},
   "outputs": [],
   "source": [
    "class Vertex:\n",
    "\n",
    "    def __init__(self, value):\n",
    "        \"\"\"\n",
    "        Class to store information and connections between individual\n",
    "        vertices. Clas defaults to undirected.\n",
    "        \"\"\"\n",
    "        self.value = value\n",
    "        # A key in the dict represents a connection\n",
    "        # to that other vertex.\n",
    "        self.edges = {}\n",
    "\n",
    "    def get_edges(self):\n",
    "        return list(self.edges.keys())\n",
    "\n",
    "    def add_edge(self, vertex, weight=0):\n",
    "        # print(\"Adding edge to\" + vertex)\n",
    "        self.edges[vertex] = weight"
   ]
  },
  {
   "cell_type": "code",
   "execution_count": 17,
   "metadata": {},
   "outputs": [],
   "source": [
    "class Graph:\n",
    "\n",
    "    def __init__(self, directed=False):\n",
    "        \"\"\"\n",
    "        Class to track all the vertices and handle higher level concerns\n",
    "        like wether the graph is directed or undirected.\n",
    "        \"\"\"\n",
    "        self.directed = directed\n",
    "        self.graph_dict = {}\n",
    "\n",
    "    def add_vertex(self, vertex):\n",
    "        self.graph_dict[vertex.value] = vertex\n",
    "\n",
    "    def add_edge(self, from_vertex, to_vertex, weight=0):\n",
    "        self.graph_dict[from_vertex.value].add_edge(to_vertex.value, weight)\n",
    "\n",
    "        if self.directed == False:\n",
    "            self.graph_dict[to_vertex.value].add_edge(from_vertex.value, weight)\n",
    "\n",
    "    def find_path(self, start_vertex, end_vertex):\n",
    "        # Initialize the queue with the start vertex\n",
    "        start = [start_vertex]\n",
    "        # Use a set to keep track of the seen vertices\n",
    "        seen = set()\n",
    "\n",
    "        while start:\n",
    "            current_vertex = start.pop(0)\n",
    "            if current_vertex == end_vertex:\n",
    "                return True\n",
    "\n",
    "            # Mark the current vertex as seen\n",
    "            seen.add(current_vertex)\n",
    "\n",
    "            # Get the edges of the current vertex\n",
    "            next_vertices = self.graph_dict.get(current_vertex, {}).get_edges()\n",
    "\n",
    "            for vertex in next_vertices:\n",
    "                if vertex not in seen and vertex not in start:\n",
    "                    start.append(vertex)\n",
    "\n",
    "        return False"
   ]
  },
  {
   "cell_type": "code",
   "execution_count": 18,
   "metadata": {},
   "outputs": [
    {
     "name": "stdout",
     "output_type": "stream",
     "text": [
      "{}\n",
      "{'Grand Central Station': <__main__.Vertex object at 0x106bee5a0>, '42nd Street Station': <__main__.Vertex object at 0x106d23560>, 'Union Station': <__main__.Vertex object at 0x106d23620>, 'Citrus Station': <__main__.Vertex object at 0x106d23920>}\n",
      "Edges for Grand Central Station: ['42nd Street Station', 'Union Station']\n",
      "Edges for 42nd Street Station: ['Grand Central Station', 'Union Station']\n",
      "{'42nd Street Station': '12 min', 'Union Station': '7 min'}\n",
      "{'Grand Central Station': '12 min', 'Union Station': 0}\n",
      "{'Grand Central Station': '7 min', '42nd Street Station': 0}\n",
      "True\n"
     ]
    }
   ],
   "source": [
    "grand_central = Vertex(\"Grand Central Station\")\n",
    "forty_second_street = Vertex(\"42nd Street Station\")\n",
    "union_station = Vertex(\"Union Station\")\n",
    "citrus_station = Vertex(\"Citrus Station\")\n",
    "\n",
    "# Setting to Graph(True) will make this a directional graph.\n",
    "railroad = Graph()\n",
    "\n",
    "# print(grand_central.get_edges())\n",
    "# grand_central.add_edge(forty_second_street.value)\n",
    "# print(grand_central.get_edges())\n",
    "\n",
    "print(railroad.graph_dict)\n",
    "railroad.add_vertex(grand_central)\n",
    "railroad.add_vertex(forty_second_street)\n",
    "railroad.add_vertex(union_station)\n",
    "railroad.add_vertex(citrus_station)\n",
    "print(railroad.graph_dict)\n",
    "\n",
    "railroad.add_edge(grand_central, forty_second_street, \"12 min\")\n",
    "railroad.add_edge(union_station, grand_central, \"7 min\")\n",
    "railroad.add_edge(forty_second_street, union_station)\n",
    "print(f\"Edges for {grand_central.value}: {grand_central.get_edges()}\")\n",
    "print(f\"Edges for {forty_second_street.value}: {forty_second_street.get_edges()}\")\n",
    "\n",
    "print(grand_central.edges)\n",
    "print(forty_second_street.edges)\n",
    "print(union_station.edges)\n",
    "\n",
    "# railroad.find_path(union_station.value, grand_central.value)\n",
    "path_find_1 = railroad.find_path(grand_central.value, forty_second_street.value)\n",
    "print(path_find_1)"
   ]
  },
  {
   "cell_type": "markdown",
   "metadata": {},
   "source": [
    "You’ll see this data structure often while working on algorithms, especially those that focus on networks."
   ]
  },
  {
   "cell_type": "markdown",
   "metadata": {},
   "source": []
  }
 ],
 "metadata": {
  "kernelspec": {
   "display_name": "Python 3",
   "language": "python",
   "name": "python3"
  },
  "language_info": {
   "codemirror_mode": {
    "name": "ipython",
    "version": 3
   },
   "file_extension": ".py",
   "mimetype": "text/x-python",
   "name": "python",
   "nbconvert_exporter": "python",
   "pygments_lexer": "ipython3",
   "version": "3.12.1"
  }
 },
 "nbformat": 4,
 "nbformat_minor": 2
}
