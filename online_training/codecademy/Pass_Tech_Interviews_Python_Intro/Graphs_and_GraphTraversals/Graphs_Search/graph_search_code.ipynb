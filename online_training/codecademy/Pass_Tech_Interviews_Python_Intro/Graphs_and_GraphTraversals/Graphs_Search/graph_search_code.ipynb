{
 "cells": [
  {
   "cell_type": "code",
   "execution_count": 14,
   "metadata": {},
   "outputs": [],
   "source": [
    "def dfs(graph, current_vertex, target_value, visited=None):\n",
    "    \"\"\"\n",
    "    Depth-First Search - Recursive Method (Stack Method is the\n",
    "    alternative)\n",
    "    \"\"\"\n",
    "    if visited is None:\n",
    "        visited = []\n",
    "\n",
    "    visited.append(current_vertex)\n",
    "\n",
    "    if current_vertex == target_value:\n",
    "        return visited\n",
    "\n",
    "    for neighbor in graph[current_vertex]:\n",
    "        if neighbor not in visited:\n",
    "            path = dfs(graph, neighbor, target_value, visited)\n",
    "\n",
    "            if path:\n",
    "                return path\n",
    "\n",
    "\n",
    "def bfs(graph, start_vertex, target_value):\n",
    "    '''\n",
    "    Breadth-First Search - Queue Method\n",
    "    '''\n",
    "    path = [start_vertex]\n",
    "    vertex_and_path = [start_vertex, path]\n",
    "    # Use this to keep track of each vertex-path combination.\n",
    "    bfs_queue = [vertex_and_path]\n",
    "\n",
    "    visited = set()\n",
    "    while bfs_queue:\n",
    "        current_vertex, path = bfs_queue.pop(0)\n",
    "        visited.add(current_vertex)\n",
    "\n",
    "        for neighbor in graph[current_vertex]:\n",
    "            # Finish the function here:\n",
    "            if neighbor not in visited:\n",
    "                if neighbor is target_value:\n",
    "                    return path + [neighbor]\n",
    "                else:\n",
    "                    bfs_queue.append([neighbor, path + [neighbor]])"
   ]
  },
  {
   "cell_type": "code",
   "execution_count": 18,
   "metadata": {},
   "outputs": [
    {
     "name": "stdout",
     "output_type": "stream",
     "text": [
      "['crocodiles', 'lasers', 'sharks', 'bees']\n",
      "['crocodiles', 'lasers', 'sharks', 'bees']\n"
     ]
    }
   ],
   "source": [
    "the_most_dangerous_graph = {\n",
    "    \"lava\": set([\"sharks\", \"piranhas\"]),\n",
    "    \"sharks\": set([\"lava\", \"bees\", \"lasers\"]),\n",
    "    \"piranhas\": set([\"lava\", \"crocodiles\"]),\n",
    "    \"bees\": set([\"sharks\"]),\n",
    "    \"lasers\": set([\"sharks\", \"crocodiles\"]),\n",
    "    \"crocodiles\": set([\"piranhas\", \"lasers\"]),\n",
    "}\n",
    "\n",
    "# Call dfs() below and print the result:\n",
    "print(dfs(the_most_dangerous_graph, \"crocodiles\", \"bees\"))\n",
    "\n",
    "# Call bfs()\n",
    "print(bfs(the_most_dangerous_graph, \"crocodiles\", \"bees\"))"
   ]
  },
  {
   "cell_type": "code",
   "execution_count": null,
   "metadata": {},
   "outputs": [],
   "source": []
  }
 ],
 "metadata": {
  "kernelspec": {
   "display_name": "Python 3",
   "language": "python",
   "name": "python3"
  },
  "language_info": {
   "codemirror_mode": {
    "name": "ipython",
    "version": 3
   },
   "file_extension": ".py",
   "mimetype": "text/x-python",
   "name": "python",
   "nbconvert_exporter": "python",
   "pygments_lexer": "ipython3",
   "version": "3.12.1"
  }
 },
 "nbformat": 4,
 "nbformat_minor": 2
}
