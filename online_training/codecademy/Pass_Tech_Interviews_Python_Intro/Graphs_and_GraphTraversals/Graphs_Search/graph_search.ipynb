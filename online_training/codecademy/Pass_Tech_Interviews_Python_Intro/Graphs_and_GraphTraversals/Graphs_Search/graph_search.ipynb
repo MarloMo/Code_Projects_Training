{
 "cells": [
  {
   "cell_type": "markdown",
   "metadata": {},
   "source": [
    "# **Graph Search**"
   ]
  },
  {
   "cell_type": "markdown",
   "metadata": {},
   "source": [
    "Using graphs to model complex networks is pretty swell, but one way that graphs can really come in handy is with graph search algorithms. You can use a graph search algorithm to traverse the entirety of a graph data structure in search of a specific vertex value.\n",
    "\n",
    "There are two common approaches to using a graph search to progress through a graph:\n",
    "\n",
    "* depth-first search, known as DFS follows each possible path to its end\n",
    "* breadth-first search, known as BFS broadens its search from the point of origin to an ever-expanding circle of neighboring vertices\n"
   ]
  },
  {
   "cell_type": "markdown",
   "metadata": {},
   "source": [
    "## **Depth-First Search (DFS)**\n",
    "\n",
    "Imagine you’re in a car, on the road with your friend, “D.” D is on a mission to get to your destination by process of elimination. D won’t stop and ask for directions. D just sticks to a chosen path until you reach the end.\n",
    "\n",
    "At that point, if the end wasn’t actually your destination, D brings you back to the last point when there was an intersection and tries another path.\n",
    "\n",
    "Like your friend D, depth-first search algorithms check the values along a path of vertices before moving to another path.\n",
    "\n",
    "While this isn’t exactly ideal when you want to find the shortest path between two points, DFS can be very helpful for determining if a path even exists.\n",
    "\n",
    "In order to accomplish this path-finding feat, DFS implementations use either a stack data structure or, more commonly, recursion to keep track of the path the search is on and the current vertex.\n",
    "\n",
    "In a stack implementation, the most recently added vertex is popped off the stack when the search has reached the end of the path. Meanwhile, in a recursive implementation, the DFS function is recursively called for each connected vertex."
   ]
  },
  {
   "cell_type": "markdown",
   "metadata": {},
   "source": [
    "## **Breadth-First Search (BFS)**"
   ]
  },
  {
   "cell_type": "markdown",
   "metadata": {},
   "source": [
    "You’re back in a car, but this time, your friend “B” is navigating. Unlike D, B is a bit hesitant about whether you’ve gone the right way and keeps checking in to see if you are on the best path. At each intersection, B tries out each possible route one by one, but only for a block in each direction to see if you’ve found your destination.\n",
    "\n",
    "Like B, breadth-first search, known as BFS, checks the values of all neighboring vertices before moving into another level of depth.\n",
    "\n",
    "This is an incredibly inefficient way to find just any path between two points, but it’s an excellent way to identify the shortest path between two vertices. Because of this, BFS is helpful for figuring out directions from one place to another.\n",
    "\n",
    "Unlike DFS, BFS graph search implementations use a queue data structure to keep track of the current vertex and vertices that still have unvisited neighbors. In BFS graph search a vertex is dequeued when all neighboring vertices have been visited."
   ]
  },
  {
   "cell_type": "markdown",
   "metadata": {},
   "source": [
    "## **Graph Search Traversal Order**\n",
    "\n"
   ]
  }
 ],
 "metadata": {
  "language_info": {
   "name": "python"
  }
 },
 "nbformat": 4,
 "nbformat_minor": 2
}
