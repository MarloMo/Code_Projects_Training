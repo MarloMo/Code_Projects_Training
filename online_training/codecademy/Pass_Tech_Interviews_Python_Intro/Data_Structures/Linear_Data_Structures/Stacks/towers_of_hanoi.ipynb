{
 "cells": [
  {
   "cell_type": "markdown",
   "metadata": {},
   "source": [
    "# **Towers of Hanoi**\n",
    "\n",
    "Towers of Hanoi is an ancient mathematical puzzle that starts off with three stacks and many disks.\n",
    "\n",
    "The objective of the game is to move the stack of disks from the leftmost stack to the rightmost stack.\n",
    "\n",
    "The game follows three rules:\n",
    "\n",
    "1. Only one disk can be moved at a time.\n",
    "2. Each move consists of taking the upper disk from one of the stacks and placing it on top of another stack or on an empty rod.\n",
    "3. No disk may be placed on top of a smaller disk."
   ]
  },
  {
   "cell_type": "code",
   "execution_count": 31,
   "metadata": {},
   "outputs": [],
   "source": [
    "class Node:\n",
    "  \n",
    "  def __init__(self, value, next_node=None):\n",
    "    self.value = value\n",
    "    self.next_node = next_node\n",
    "    \n",
    "  def set_next_node(self, next_node):\n",
    "    self.next_node = next_node\n",
    "    \n",
    "  def get_next_node(self):\n",
    "    return self.next_node\n",
    "  \n",
    "  def get_value(self):\n",
    "    return self.value\n"
   ]
  },
  {
   "cell_type": "code",
   "execution_count": 32,
   "metadata": {},
   "outputs": [],
   "source": [
    "class Stack:\n",
    "  def __init__(self, name):\n",
    "    self.size = 0\n",
    "    self.top_item = None\n",
    "    self.limit = 1000\n",
    "    self.name = name\n",
    "  \n",
    "  def push(self, value):\n",
    "    if self.has_space():\n",
    "      item = Node(value)\n",
    "      item.set_next_node(self.top_item)\n",
    "      self.top_item = item\n",
    "      self.size += 1\n",
    "    else:\n",
    "      print(\"No more room!\")\n",
    "\n",
    "  def pop(self):\n",
    "    if self.size > 0:\n",
    "      item_to_remove = self.top_item\n",
    "      self.top_item = item_to_remove.get_next_node()\n",
    "      self.size -= 1\n",
    "      return item_to_remove.get_value()\n",
    "    print(\"This stack is totally empty.\")\n",
    "\n",
    "  def peek(self):\n",
    "    if self.size > 0:\n",
    "      return self.top_item.get_value()\n",
    "    print(\"Nothing to see here!\")\n",
    "\n",
    "  def has_space(self):\n",
    "    return self.limit > self.size\n",
    "\n",
    "  def is_empty(self):\n",
    "    return self.size == 0\n",
    "  \n",
    "  def get_size(self):\n",
    "    return self.size\n",
    "  \n",
    "  def get_name(self):\n",
    "    return self.name\n",
    "  \n",
    "  def print_items(self):\n",
    "    pointer = self.top_item\n",
    "    print_list = []\n",
    "    while(pointer):\n",
    "      print_list.append(pointer.get_value())\n",
    "      pointer = pointer.get_next_node()\n",
    "    print_list.reverse()\n",
    "    print(\"{0} Stack: {1}\".format(self.get_name(), print_list))"
   ]
  },
  {
   "cell_type": "code",
   "execution_count": 50,
   "metadata": {},
   "outputs": [],
   "source": [
    "def get_input(stacks):\n",
    "    # choices = [\"L\", \"M\", \"R\"]\n",
    "    choices = [stacks.get_name()[0] for stacks in stacks]\n",
    "    \n",
    "    # while True:\n",
    "    for i in range(len(stacks)):\n",
    "        name = stacks[i]\n",
    "        letter = choices[i]\n",
    "        \n",
    "    return name, letter"
   ]
  },
  {
   "cell_type": "code",
   "execution_count": 51,
   "metadata": {},
   "outputs": [
    {
     "name": "stdout",
     "output_type": "stream",
     "text": [
      "\n",
      "Let's play Towers of Hanoi!!\n",
      "3 0 0\n",
      "\n",
      "The fastest you can solve this game is in 7 moves\n"
     ]
    },
    {
     "data": {
      "text/plain": [
       "(<__main__.Stack at 0x116b01a60>, 'R')"
      ]
     },
     "execution_count": 51,
     "metadata": {},
     "output_type": "execute_result"
    }
   ],
   "source": [
    "print(\"\\nLet's play Towers of Hanoi!!\")\n",
    "\n",
    "#Create the Stacks\n",
    "stacks = []\n",
    "\n",
    "left_stack = Stack(\"Left\")\n",
    "middle_stack = Stack(\"Middle\")\n",
    "right_stack = Stack(\"Right\")\n",
    "\n",
    "stacks.append(left_stack)\n",
    "stacks.append(middle_stack)\n",
    "stacks.append(right_stack)\n",
    "\n",
    "### Set up the Game ##\n",
    "\n",
    "# num_disks = int(input(\"\\nHow many disks do you want to play with?\\n\"))\n",
    "num_disks = 3 \n",
    "\n",
    "while num_disks < 3:\n",
    "    print(\"Please enter a number of disks greater than or equal to 3.\")\n",
    "    num_disks = int(input(\"\\nHow many disks do you want to play with?\\n\"))\n",
    "\n",
    "\n",
    "for i in range(num_disks, 0, -1):\n",
    "    left_stack.push(i)    \n",
    "print(left_stack.get_size(), middle_stack.get_size(), right_stack.get_size())\n",
    "\n",
    "# Now that we created our initial stacks and set up the disks, let’s \n",
    "# calculate the number of optimal moves.\n",
    "num_optimal_moves = 2**num_disks - 1\n",
    "print(f\"\\nThe fastest you can solve this game is in {num_optimal_moves} moves\")\n",
    "\n",
    "### Get User Input ###\n",
    "\n",
    "### LEFT OFF HERE !!!!!! ######\n",
    "get_input(stacks) \n",
    "    \n",
    "### Play the Game ###"
   ]
  },
  {
   "cell_type": "code",
   "execution_count": null,
   "metadata": {},
   "outputs": [],
   "source": []
  },
  {
   "cell_type": "code",
   "execution_count": null,
   "metadata": {},
   "outputs": [],
   "source": []
  }
 ],
 "metadata": {
  "kernelspec": {
   "display_name": "Python 3",
   "language": "python",
   "name": "python3"
  },
  "language_info": {
   "codemirror_mode": {
    "name": "ipython",
    "version": 3
   },
   "file_extension": ".py",
   "mimetype": "text/x-python",
   "name": "python",
   "nbconvert_exporter": "python",
   "pygments_lexer": "ipython3",
   "version": "3.12.1"
  }
 },
 "nbformat": 4,
 "nbformat_minor": 2
}
