{
 "cells": [
  {
   "cell_type": "markdown",
   "metadata": {},
   "source": [
    "# **Stacks**"
   ]
  },
  {
   "cell_type": "markdown",
   "metadata": {},
   "source": [
    "A stack is a data structure which contains an ordered set of data.\n",
    "\n",
    "Stacks provide three methods for interaction:\n",
    "\n",
    "* Push - adds data to the “top” of the stack\n",
    "* Pop - returns and removes data from the “top” of the stack\n",
    "* Peek - returns data from the “top” of the stack without removing it\n",
    "\n",
    "Stacks mimic a physical “stack” of objects. Consider a set of gym weights.\n",
    "\n",
    "The last plate that you put down becomes the first, and only, one that you can access. This is a Last In, First Out or LIFO structure. A less frequently used term is First In, Last Out, or FILO.\n",
    "\n",
    "* Implementations include a linked list or array\n",
    "* Can have a limited size\n",
    "* Pushing data onto a full stack results in a stack overflow\n",
    "* Stacks process data Last In, First Out (LIFO)"
   ]
  },
  {
   "cell_type": "markdown",
   "metadata": {},
   "source": []
  },
  {
   "cell_type": "code",
   "execution_count": 1,
   "metadata": {},
   "outputs": [],
   "source": [
    "class Node:\n",
    "  \n",
    "  def __init__(self, value, next_node=None):\n",
    "    self.value = value\n",
    "    self.next_node = next_node\n",
    "    \n",
    "  def set_next_node(self, next_node):\n",
    "    self.next_node = next_node\n",
    "    \n",
    "  def get_next_node(self):\n",
    "    return self.next_node\n",
    "  \n",
    "  def get_value(self):\n",
    "    return self.value\n"
   ]
  },
  {
   "cell_type": "code",
   "execution_count": 12,
   "metadata": {},
   "outputs": [],
   "source": [
    "class Stack:\n",
    "\n",
    "    def __init__(self, limit=1000):\n",
    "        self.top_item = None  # \"head\"\n",
    "        self.limit = limit\n",
    "        self.size = 0\n",
    "\n",
    "    def push(self, value):\n",
    "\n",
    "        if self.has_space():\n",
    "\n",
    "            item = Node(value)\n",
    "\n",
    "            item.set_next_node(self.top_item)\n",
    "            self.top_item = item\n",
    "\n",
    "            self.size += 1\n",
    "        else:\n",
    "            print(\"All out of space!\")\n",
    "\n",
    "    def pop(self):\n",
    "\n",
    "        if not self.is_empty():\n",
    "            item_to_remove = self.top_item\n",
    "            self.top_item = item_to_remove.get_next_node()\n",
    "\n",
    "            self.size -= 1\n",
    "\n",
    "            return item_to_remove.get_value()\n",
    "        else:\n",
    "            print(\"This Stack is empty!\")\n",
    "\n",
    "    def peek(self):\n",
    "\n",
    "        if not self.is_empty():\n",
    "            return self.top_item.get_value()\n",
    "        else:\n",
    "            print(\"This Stack is empty!\")\n",
    "\n",
    "    def has_space(self):\n",
    "\n",
    "        if self.limit == None:\n",
    "            return True\n",
    "        else:\n",
    "            return self.size < self.limit\n",
    "\n",
    "    def is_empty(self):\n",
    "\n",
    "        if self.size == 0:\n",
    "            return True\n"
   ]
  },
  {
   "cell_type": "code",
   "execution_count": 16,
   "metadata": {},
   "outputs": [
    {
     "name": "stdout",
     "output_type": "stream",
     "text": [
      "All out of space!\n",
      "The first pizza to deliver is pizza #6\n",
      "This Stack is empty!\n"
     ]
    }
   ],
   "source": [
    "# Defining an empty pizza stack\n",
    "pizza_stack = Stack(6)\n",
    "# Adding pizzas as they are ready until we have \n",
    "pizza_stack.push(\"pizza #1\")\n",
    "pizza_stack.push(\"pizza #2\")\n",
    "pizza_stack.push(\"pizza #3\")\n",
    "pizza_stack.push(\"pizza #4\")\n",
    "pizza_stack.push(\"pizza #5\")\n",
    "pizza_stack.push(\"pizza #6\")\n",
    "\n",
    "# Uncomment the push() statement below:\n",
    "pizza_stack.push(\"pizza #7\")\n",
    "\n",
    "# Delivering pizzas from the top of the stack down\n",
    "print(\"The first pizza to deliver is \" + pizza_stack.peek())\n",
    "pizza_stack.pop()\n",
    "pizza_stack.pop()\n",
    "pizza_stack.pop()\n",
    "pizza_stack.pop()\n",
    "pizza_stack.pop()\n",
    "pizza_stack.pop()\n",
    "\n",
    "# Uncomment the pop() statement below:\n",
    "pizza_stack.pop()"
   ]
  },
  {
   "cell_type": "code",
   "execution_count": null,
   "metadata": {},
   "outputs": [],
   "source": []
  }
 ],
 "metadata": {
  "kernelspec": {
   "display_name": "Python 3",
   "language": "python",
   "name": "python3"
  },
  "language_info": {
   "codemirror_mode": {
    "name": "ipython",
    "version": 3
   },
   "file_extension": ".py",
   "mimetype": "text/x-python",
   "name": "python",
   "nbconvert_exporter": "python",
   "pygments_lexer": "ipython3",
   "version": "3.12.3"
  }
 },
 "nbformat": 4,
 "nbformat_minor": 2
}
