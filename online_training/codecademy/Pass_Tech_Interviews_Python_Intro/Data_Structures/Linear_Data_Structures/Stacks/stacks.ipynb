{
 "cells": [
  {
   "cell_type": "markdown",
   "metadata": {},
   "source": [
    "# **Stacks**"
   ]
  },
  {
   "cell_type": "markdown",
   "metadata": {},
   "source": [
    "A stack is a data structure which contains an ordered set of data.\n",
    "\n",
    "Stacks provide three methods for interaction:\n",
    "\n",
    "* Push - adds data to the “top” of the stack\n",
    "* Pop - returns and removes data from the “top” of the stack\n",
    "* Peek - returns data from the “top” of the stack without removing it\n",
    "\n",
    "Stacks mimic a physical “stack” of objects. Consider a set of gym weights.\n",
    "\n",
    "The last plate that you put down becomes the first, and only, one that you can access. This is a Last In, First Out or LIFO structure. A less frequently used term is First In, Last Out, or FILO.\n",
    "\n",
    "* Implementations include a linked list or array\n",
    "* Can have a limited size\n",
    "* Pushing data onto a full stack results in a stack overflow\n",
    "* Stacks process data Last In, First Out (LIFO)"
   ]
  },
  {
   "cell_type": "markdown",
   "metadata": {},
   "source": []
  },
  {
   "cell_type": "markdown",
   "metadata": {},
   "source": []
  }
 ],
 "metadata": {
  "language_info": {
   "name": "python"
  }
 },
 "nbformat": 4,
 "nbformat_minor": 2
}
