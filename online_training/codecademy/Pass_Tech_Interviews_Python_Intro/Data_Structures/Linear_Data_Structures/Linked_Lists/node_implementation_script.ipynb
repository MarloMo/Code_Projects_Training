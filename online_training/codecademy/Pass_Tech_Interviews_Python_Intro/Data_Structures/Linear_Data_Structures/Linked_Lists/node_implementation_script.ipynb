{
 "cells": [
  {
   "cell_type": "code",
   "execution_count": 78,
   "metadata": {},
   "outputs": [],
   "source": [
    "import numpy as np"
   ]
  },
  {
   "cell_type": "code",
   "execution_count": 2,
   "metadata": {},
   "outputs": [],
   "source": [
    "class Node:\n",
    "\n",
    "    def __init__(self, value, next_node=None):\n",
    "        self.value = value\n",
    "        self.next_node = next_node\n",
    "\n",
    "    def get_value(self):\n",
    "        return self.value\n",
    "\n",
    "    def get_next_node(self):\n",
    "        return self.next_node\n",
    "\n",
    "    def set_next_node(self, next_node):\n",
    "        \"\"\"\n",
    "        Allows you to update the link to the next node.\n",
    "        \"\"\"\n",
    "        self.next_node = next_node\n",
    "        return self.next_node"
   ]
  },
  {
   "cell_type": "code",
   "execution_count": 3,
   "metadata": {},
   "outputs": [
    {
     "data": {
      "text/plain": [
       "44"
      ]
     },
     "execution_count": 3,
     "metadata": {},
     "output_type": "execute_result"
    }
   ],
   "source": [
    "# create a new instance \n",
    "my_node = Node(44)\n",
    "my_node.get_value()"
   ]
  },
  {
   "cell_type": "markdown",
   "metadata": {},
   "source": [
    "### Linked List Implementation\n",
    "\n",
    "With the Node in hand, we can start building the actual linked list. Depending on the end-use of the linked list, a variety of methods can be defined.\n",
    "\n",
    "For our use, we want to be able to:\n",
    "\n",
    "* get the head node of the list (it’s like peeking at the first item in line)\n",
    "* add a new node to the beginning of the list\n",
    "* print out the list values in order\n",
    "* remove a node that has a particular value"
   ]
  },
  {
   "cell_type": "code",
   "execution_count": 88,
   "metadata": {},
   "outputs": [],
   "source": [
    "class LinkedList:\n",
    "\n",
    "    def __init__(self, value=None):\n",
    "        \"\"\"\n",
    "        Constructor\n",
    "        \"\"\"\n",
    "        self.head_node = Node(value)\n",
    "\n",
    "    def get_head_node(self):\n",
    "        return self.head_node\n",
    "\n",
    "    def insert_beginning(self, new_value):\n",
    "        \"\"\"\n",
    "        Insert a new head node\n",
    "        Visual explanation:\n",
    "        head_node -> NewNode -> Node1 -> Node2 -> Node3 -> None\n",
    "\n",
    "        \"\"\"\n",
    "        new_node = Node(new_value)\n",
    "        # Set the next node of the new node to the current head node\n",
    "        # (Remember that Node has a .set_next_node()\n",
    "        # class method you can use to set new_node‘s next_node.)\n",
    "        new_node.set_next_node(self.head_node)\n",
    "        # Update the head node of the linked list to the new node:\n",
    "        self.head_node = new_node\n",
    "\n",
    "    def stringify_list(self):\n",
    "        \"\"\"\n",
    "        Return a string representation of a lists nodes values.\n",
    "\n",
    "        Traverse the list, beginning at the head node, and collect\n",
    "        each nodes value in a string.\n",
    "        \"\"\"\n",
    "        string_list = \"\"\n",
    "        current_node = self.head_node\n",
    "\n",
    "        # Continue looping as long as current_node is not None\n",
    "        while current_node:\n",
    "            string_list += str(current_node.get_value()) + \"\\n\"\n",
    "            current_node = current_node.get_next_node()\n",
    "\n",
    "        return string_list\n",
    "\n",
    "    def remove_node(self, value_to_remove):\n",
    "        \"\"\"\n",
    "        Function that removes the first node that contains a particular\n",
    "        value.\n",
    "        \"\"\"\n",
    "        current_node = self.head_node\n",
    "\n",
    "        if current_node and current_node.get_value() == value_to_remove:\n",
    "            self.head_node = current_node.get_next_node()\n",
    "            return\n",
    "        else:\n",
    "            while current_node:\n",
    "                next_node = current_node.get_next_node()\n",
    "                if next_node and next_node.get_value() == value_to_remove:\n",
    "                    # If the next kid is the one to remove, you ask the current\n",
    "                    #  kid to let go of the next kid's hand and instead hold\n",
    "                    # hands with the kid after the next kid. This way, the kid\n",
    "                    # you want to remove is no longer in the line.\n",
    "                    current_node.set_next_node(next_node.get_next_node())\n",
    "                    return\n",
    "                else:\n",
    "                    current_node = next_node\n",
    "\n",
    "            print(\"Error: The link does no exist, you entered: \", value_to_remove)\n",
    "\n",
    "    def remove_mult_nodes(self, value_to_remove):\n",
    "        \"\"\"\n",
    "        Method that removes nodes that contains a particular\n",
    "        value.\n",
    "        \"\"\"\n",
    "        current_node = self.head_node\n",
    "        found = False\n",
    "\n",
    "        if current_node and current_node.get_value() == value_to_remove:\n",
    "            self.head_node = current_node.get_next_node()\n",
    "            found = True\n",
    "\n",
    "        while current_node:\n",
    "            next_node = current_node.get_next_node()\n",
    "            if next_node and next_node.get_value() == value_to_remove:\n",
    "                current_node.set_next_node(next_node.get_next_node())\n",
    "                found = True\n",
    "            else:\n",
    "                current_node = next_node\n",
    "\n",
    "        if not found:\n",
    "            print(\"Error: The link does no exist, you entered: \", value_to_remove)"
   ]
  },
  {
   "cell_type": "code",
   "execution_count": 90,
   "metadata": {},
   "outputs": [
    {
     "name": "stdout",
     "output_type": "stream",
     "text": [
      "117\n",
      "90\n",
      "5675\n",
      "117\n",
      "77\n",
      "5\n",
      "5\n",
      "\n",
      "-------------\n",
      "Error: The link does no exist, you entered:  1\n",
      "117\n",
      "90\n",
      "5675\n",
      "117\n",
      "77\n",
      "5\n",
      "5\n",
      "\n",
      "-------------\n",
      "Error: The link does no exist, you entered:  1\n",
      "117\n",
      "90\n",
      "5675\n",
      "117\n",
      "77\n",
      "5\n",
      "5\n",
      "\n"
     ]
    }
   ],
   "source": [
    "ll = LinkedList(5)\n",
    "# ll.get_head_node().get_value()\n",
    "ll.insert_beginning(5)\n",
    "ll.insert_beginning(77)\n",
    "ll.insert_beginning(117)\n",
    "ll.insert_beginning(5675)\n",
    "ll.insert_beginning(90)\n",
    "ll.insert_beginning(117)\n",
    "# ll.get_head_node().get_value()\n",
    "print(ll.stringify_list())\n",
    "\n",
    "print(\"-------------\")\n",
    "\n",
    "ll.remove_node(1)\n",
    "print(ll.stringify_list())\n",
    "\n",
    "print(\"-------------\")\n",
    "\n",
    "ll.remove_mult_nodes(1)\n",
    "print(ll.stringify_list())\n"
   ]
  },
  {
   "cell_type": "code",
   "execution_count": null,
   "metadata": {},
   "outputs": [],
   "source": []
  },
  {
   "cell_type": "code",
   "execution_count": null,
   "metadata": {},
   "outputs": [],
   "source": []
  }
 ],
 "metadata": {
  "kernelspec": {
   "display_name": "Python 3",
   "language": "python",
   "name": "python3"
  },
  "language_info": {
   "codemirror_mode": {
    "name": "ipython",
    "version": 3
   },
   "file_extension": ".py",
   "mimetype": "text/x-python",
   "name": "python",
   "nbconvert_exporter": "python",
   "pygments_lexer": "ipython3",
   "version": "3.12.1"
  }
 },
 "nbformat": 4,
 "nbformat_minor": 2
}
