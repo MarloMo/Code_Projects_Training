{
 "cells": [
  {
   "cell_type": "markdown",
   "metadata": {},
   "source": [
    "# **Finding the Matching and Preceding Nodes**"
   ]
  },
  {
   "cell_type": "code",
   "execution_count": null,
   "metadata": {},
   "outputs": [],
   "source": [
    "def swap_nodes(input_list, val1, val2):\n",
    "  node1 = input_list.head_node\n",
    "  node2 = input_list.head_node\n",
    "  node1_prev = None\n",
    "  node2_prev = None\n",
    "\n",
    "  while node1 is not None:\n",
    "    if node1.get_value() == val1:\n",
    "      break\n",
    "    node1_prev = node1\n",
    "    node1 = node1.get_next_node()"
   ]
  },
  {
   "cell_type": "markdown",
   "metadata": {},
   "source": [
    "## **Updating the Preceding Nodes' Pointers**"
   ]
  },
  {
   "cell_type": "code",
   "execution_count": null,
   "metadata": {},
   "outputs": [],
   "source": [
    "# Still inside the swap_nodes() function\n",
    "if node1_prev is None:\n",
    "  input_list.head_node = node2\n",
    "else:\n",
    "  node1_prev.set_next_node(node2);"
   ]
  },
  {
   "cell_type": "markdown",
   "metadata": {},
   "source": [
    "## **Updating the Nodes' Next Pointers**"
   ]
  },
  {
   "cell_type": "code",
   "execution_count": null,
   "metadata": {},
   "outputs": [],
   "source": [
    "temp = node1.get_next_node()\n",
    "node1.set_next_node(node2.get_next_node())\n",
    "node2.set_next_node(temp)"
   ]
  },
  {
   "cell_type": "markdown",
   "metadata": {},
   "source": [
    "## **The Finished Function**"
   ]
  },
  {
   "cell_type": "code",
   "execution_count": null,
   "metadata": {},
   "outputs": [],
   "source": [
    "import Node\n",
    "import LinkedList\n",
    "\n",
    "def swap_nodes(input_list, val1, val2):\n",
    "  '''\n",
    "  Params:\n",
    "  input_list -> The node list that you want to iterate through.\n",
    "  '''\n",
    "  print(f'Swapping {val1} with {val2}')\n",
    "\n",
    "  node1_prev = None\n",
    "  node2_prev = None\n",
    "  node1 = input_list.head_node\n",
    "  node2 = input_list.head_node\n",
    "\n",
    "  if val1 == val2:\n",
    "    print(\"Elements are the same - no swap needed\")\n",
    "    return\n",
    "\n",
    "  while node1 is not None:\n",
    "    if node1.get_value() == val1:\n",
    "      break\n",
    "    node1_prev = node1\n",
    "    node1 = node1.get_next_node()\n",
    "\n",
    "  while node2 is not None:\n",
    "    if node2.get_value() == val2:\n",
    "      break\n",
    "    node2_prev = node2\n",
    "    node2 = node2.get_next_node()\n",
    "\n",
    "  if (node1 is None or node2 is None):\n",
    "    print(\"Swap not possible - one or more element is not in the list\")\n",
    "    return\n",
    "\n",
    "  if node1_prev is None:\n",
    "    input_list.head_node = node2\n",
    "  else:\n",
    "    node1_prev.set_next_node(node2)\n",
    "\n",
    "  if node2_prev is None:\n",
    "    input_list.head_node = node1\n",
    "  else:\n",
    "    node2_prev.set_next_node(node1)\n",
    "\n",
    "  temp = node1.get_next_node()\n",
    "  node1.set_next_node(node2.get_next_node())\n",
    "  node2.set_next_node(temp)\n",
    "\n",
    "\n",
    "ll = LinkedList.LinkedList()\n",
    "for i in range(10):\n",
    "  ll.insert_beginning(i)\n",
    "\n",
    "print(ll.stringify_list())\n",
    "swap_nodes(ll, 9, 5)\n",
    "print(ll.stringify_list())\n",
    "\n",
    "'''\n",
    "Example Output:\n",
    "\n",
    "9\n",
    "8\n",
    "7\n",
    "6\n",
    "5\n",
    "4\n",
    "3\n",
    "2\n",
    "1\n",
    "0\n",
    "\n",
    "Swapping 9 with 5\n",
    "5\n",
    "8\n",
    "7\n",
    "6\n",
    "9\n",
    "4\n",
    "3\n",
    "2\n",
    "1\n",
    "0\n",
    "'''"
   ]
  },
  {
   "cell_type": "code",
   "execution_count": null,
   "metadata": {},
   "outputs": [],
   "source": []
  }
 ],
 "metadata": {
  "language_info": {
   "name": "python"
  }
 },
 "nbformat": 4,
 "nbformat_minor": 2
}
