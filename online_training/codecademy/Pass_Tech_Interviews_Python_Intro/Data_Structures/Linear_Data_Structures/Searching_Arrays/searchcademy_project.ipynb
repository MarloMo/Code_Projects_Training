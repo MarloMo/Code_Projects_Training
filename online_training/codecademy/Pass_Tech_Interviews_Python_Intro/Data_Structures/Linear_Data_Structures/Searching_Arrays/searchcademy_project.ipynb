{
 "cells": [
  {
   "cell_type": "code",
   "execution_count": 13,
   "metadata": {},
   "outputs": [],
   "source": [
    "def sparse_search(data, search_val):\n",
    "    print(\"Data: \" + str(data))\n",
    "    print(\"Search Value: \" + str(search_val))\n",
    "\n",
    "    first = 0 # 5, 8\n",
    "    last = len(data) - 1  # 10\n",
    "\n",
    "    while first <= last:\n",
    "        mid = (first + last) // 2  # 5, 4, 7, 9, 10!\n",
    "        print(mid)\n",
    "\n",
    "        # Move mid to the closest non-empty value\n",
    "        if not data[mid]:\n",
    "            left = mid - 1  # 4, 8\n",
    "            right = mid + 1  # 6, 10\n",
    "\n",
    "            while True:\n",
    "                if left < first and right > last:\n",
    "                    return f\"{search_val} is not in the dataset\"\n",
    "                elif left >= first and data[left]:\n",
    "                    mid = left\n",
    "                    break\n",
    "                elif right <= last and data[right]:\n",
    "                    mid = right\n",
    "                    break\n",
    "\n",
    "                left -= 1\n",
    "                right += 1\n",
    "\n",
    "        # Perform the check after finding a non-empty value\n",
    "        if data[mid] == search_val:\n",
    "            return f\"{search_val} found at position {mid}\"\n",
    "        # If data[mid] < search_val, it means the value at the middle index is\n",
    "        # alphabetically less than the search value. For example, if mid points\n",
    "        # to \"Art\" and search_val is \"Ball\", since \"Art\" comes before \"Ball\"\n",
    "        # alphabetically, the search needs to continue in the right half of the list.\n",
    "        # This is because the list is sorted, and all values after \"Art\" could potentially\n",
    "        # be \"Ball\" or come alphabetically after \"Art\".\n",
    "        elif data[mid] < search_val:\n",
    "            first = mid + 1\n",
    "        else:\n",
    "            last = mid - 1\n",
    "\n",
    "    return f\"{search_val} is not in the dataset\"\n"
   ]
  },
  {
   "cell_type": "code",
   "execution_count": 14,
   "metadata": {},
   "outputs": [
    {
     "name": "stdout",
     "output_type": "stream",
     "text": [
      "Data: ['', 'Art', '', '', 'Ball', '', '', 'Car', '', '', 'Doll']\n",
      "Search Value: Doll\n",
      "5\n",
      "7\n",
      "9\n",
      "Doll found at position 10\n"
     ]
    }
   ],
   "source": [
    "# For testing:\n",
    "data = [\"\", \"Art\", \"\", \"\", \"Ball\", \"\", \"\", \"Car\", \"\", \"\", \"Doll\"]\n",
    "search_val = \"Doll\"\n",
    "print(sparse_search(data, search_val))  # Expected output: \"Ball found at position 4\""
   ]
  },
  {
   "cell_type": "code",
   "execution_count": 16,
   "metadata": {},
   "outputs": [
    {
     "name": "stdout",
     "output_type": "stream",
     "text": [
      "9\n"
     ]
    }
   ],
   "source": [
    "print(18 // 2)"
   ]
  },
  {
   "cell_type": "code",
   "execution_count": null,
   "metadata": {},
   "outputs": [],
   "source": []
  }
 ],
 "metadata": {
  "kernelspec": {
   "display_name": "Python 3",
   "language": "python",
   "name": "python3"
  },
  "language_info": {
   "codemirror_mode": {
    "name": "ipython",
    "version": 3
   },
   "file_extension": ".py",
   "mimetype": "text/x-python",
   "name": "python",
   "nbconvert_exporter": "python",
   "pygments_lexer": "ipython3",
   "version": "3.12.1"
  }
 },
 "nbformat": 4,
 "nbformat_minor": 2
}
