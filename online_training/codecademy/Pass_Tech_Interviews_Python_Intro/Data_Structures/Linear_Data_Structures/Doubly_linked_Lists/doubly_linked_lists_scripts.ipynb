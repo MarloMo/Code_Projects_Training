{
 "cells": [
  {
   "cell_type": "markdown",
   "metadata": {},
   "source": [
    "As a reminder, a doubly linked list is a sequential chain of nodes, just like a singly linked list. The nodes we used for our singly linked lists contained two elements:\n",
    "\n",
    "* A value\n",
    "* A link to the next node\n",
    "\n",
    "The difference between a doubly linked list and a singly linked list is that in a doubly linked list, the nodes have pointers to the previous node as well as the next node. This means that the doubly linked list data structure has a tail property in addition to a head property, which allows for traversal in both directions.\n",
    "\n",
    "So the nodes we will use for our doubly linked list contain three elements:\n",
    "\n",
    "* A value\n",
    "* A pointer to the previous node\n",
    "* A pointer to the next node\n",
    "* Depending on the end-use of the doubly linked list, there are a variety of methods that we can define.\n",
    "\n",
    "For our use, we want to be able to:\n",
    "\n",
    "* Add a new node to the head (beginning) of the list\n",
    "* Add a new node to the tail (end) of the list\n",
    "* Remove a node from the head of the list\n",
    "* Remove a node from the tail of the list\n",
    "* Find and remove a specific node by its value\n",
    "* Print out the nodes in the list in order from head to tail"
   ]
  },
  {
   "cell_type": "markdown",
   "metadata": {},
   "source": []
  },
  {
   "cell_type": "code",
   "execution_count": 4,
   "metadata": {},
   "outputs": [],
   "source": [
    "class Node:\n",
    "\n",
    "    def __init__(self, value, next_node=None, prev_node=None):\n",
    "        self.value = value\n",
    "        self.next_node = next_node\n",
    "        self.prev_node = prev_node\n",
    "\n",
    "    def set_next_node(self, next_node):\n",
    "        self.next_node = next_node\n",
    "\n",
    "    def get_next_node(self):\n",
    "        return self.next_node\n",
    "\n",
    "    def set_prev_node(self, prev_node):\n",
    "        self.prev_node = prev_node\n",
    "\n",
    "    def get_prev_node(self):\n",
    "        return self.prev_node\n",
    "\n",
    "    def get_value(self):\n",
    "        return self.value\n",
    "\n",
    "\n",
    "class DoublyLinkedList:\n",
    "\n",
    "    def __init__(self):\n",
    "        self.head_node = None\n",
    "        self.tail_node = None\n",
    "\n",
    "    def add_to_head(self, new_value):\n",
    "\n",
    "        new_head = Node(new_value)\n",
    "\n",
    "        current_head = self.head_node\n",
    "\n",
    "        if current_head != None:\n",
    "            new_head.set_next_node(current_head)\n",
    "            current_head.set_prev_node(new_head)\n",
    "\n",
    "        self.head_node = new_head\n",
    "\n",
    "        if self.tail_node == None:\n",
    "            self.tail_node = new_head\n",
    "\n",
    "    def add_to_tail(self, new_value):\n",
    "\n",
    "        new_tail = Node(new_value)\n",
    "\n",
    "        current_tail = self.tail_node\n",
    "\n",
    "        if current_tail != None:\n",
    "            new_tail.set_prev_node(current_tail)\n",
    "            current_tail.set_next_node(new_tail)\n",
    "\n",
    "        self.tail_node = new_tail\n",
    "\n",
    "        if self.head_node == None:\n",
    "            self.head_node = new_tail\n",
    "\n",
    "    def remove_head(self):\n",
    "\n",
    "        removed_head = self.head_node\n",
    "\n",
    "        if removed_head == None:\n",
    "            return None\n",
    "\n",
    "        self.head_node = removed_head.get_next_node()\n",
    "\n",
    "        if self.head_node != None:\n",
    "            self.head_node.set_prev_node(None)\n",
    "\n",
    "        # Check if removed_head is equal to the list’s tail.\n",
    "        # If so, call the .remove_tail() method (we will create\n",
    "        # this in the next exercise).\n",
    "        if removed_head == self.tail_node:\n",
    "            self.remove_tail()\n",
    "\n",
    "        return removed_head.get_value()\n",
    "\n",
    "    def remove_tail(self):\n",
    "\n",
    "        removed_tail = self.tail_node\n",
    "\n",
    "        if removed_tail == None:\n",
    "            return None\n",
    "\n",
    "        self.tail_node = removed_tail.get_prev_node()\n",
    "\n",
    "        if self.tail_node != None:\n",
    "            self.tail_node.set_next_node(None)\n",
    "\n",
    "        if removed_tail == self.head_node:\n",
    "            self.remove_head()\n",
    "\n",
    "        return removed_tail.get_value()\n",
    "\n",
    "    def remove_by_value(self, value_to_remove):\n",
    "        \"\"\" \"\"\"\n",
    "        current_node = self.head_node\n",
    "\n",
    "        while current_node != None:\n",
    "\n",
    "            if current_node.get_value() == value_to_remove:\n",
    "                if current_node == self.head_node:\n",
    "                    self.remove_head()\n",
    "                    return current_node.get_value()\n",
    "                elif current_node == self.tail_node:\n",
    "                    self.remove_tail()\n",
    "                    return current_node.get_value()\n",
    "                else:\n",
    "                    next_node = current_node.get_next_node()\n",
    "                    prev_node = current_node.get_prev_node()\n",
    "\n",
    "                    next_node.set_prev_node(prev_node)\n",
    "                    prev_node.set_next_node(next_node)\n",
    "                    return current_node.get_value()\n",
    "\n",
    "            current_node = current_node.get_next_node()\n",
    "\n",
    "        if current_node == None:\n",
    "            return f\"Node not in list, you entered: {value_to_remove}\"\n",
    "\n",
    "    def stringify_list(self):\n",
    "        \"\"\"\n",
    "        Return a string representation of a lists nodes values.\n",
    "\n",
    "        Traverse the list, beginning at the head node, and collect\n",
    "        each nodes value in a string.\n",
    "        \"\"\"\n",
    "        string_list = []\n",
    "        current_node = self.head_node\n",
    "\n",
    "        while current_node:\n",
    "            string_list.append(current_node.get_value())\n",
    "            current_node = current_node.get_next_node()\n",
    "\n",
    "        return string_list"
   ]
  },
  {
   "cell_type": "code",
   "execution_count": 5,
   "metadata": {},
   "outputs": [
    {
     "data": {
      "text/plain": [
       "[3, 2, 1]"
      ]
     },
     "execution_count": 5,
     "metadata": {},
     "output_type": "execute_result"
    }
   ],
   "source": [
    "dl = DoublyLinkedList()\n",
    "\n",
    "dl.add_to_head(1)\n",
    "dl.add_to_head(2)\n",
    "dl.add_to_head(3)\n",
    "dl.remove_by_value(5)\n",
    "dl.stringify_list()"
   ]
  },
  {
   "cell_type": "markdown",
   "metadata": {},
   "source": [
    "Now we’re going to use that class to model a subway line. A doubly linked list is a great data structure to use to model a subway, as both have a first and last element, and are comprised of nodes (or stops) with links to the elements before and after them."
   ]
  },
  {
   "cell_type": "code",
   "execution_count": 57,
   "metadata": {},
   "outputs": [
    {
     "name": "stdout",
     "output_type": "stream",
     "text": [
      "['Central Park', 'Grand Central', 'Times Square', 'Penn Station', 'Wall Street', 'Brooklyn Bridge']\n",
      "Node not in list, you entered: Test\n",
      "modified track:\n"
     ]
    },
    {
     "data": {
      "text/plain": [
       "['Grand Central', 'Penn Station', 'Wall Street']"
      ]
     },
     "execution_count": 57,
     "metadata": {},
     "output_type": "execute_result"
    }
   ],
   "source": [
    "# We are going to model a (fictional) subway line that will travel from\n",
    "# Central Park to the Brooklyn Bridge.\n",
    "\n",
    "subway = DoublyLinkedList()\n",
    "\n",
    "subway.add_to_head(\"Times Square\")\n",
    "subway.add_to_head(\"Grand Central\")\n",
    "subway.add_to_head(\"Central Park\")\n",
    "\n",
    "subway.add_to_tail(\"Penn Station\")\n",
    "subway.add_to_tail(\"Wall Street\")\n",
    "subway.add_to_tail(\"Brooklyn Bridge\")\n",
    "\n",
    "print(subway.stringify_list())\n",
    "\n",
    "# Oh no! There’s construction happening on the subway line:\n",
    "# the Central Park and Brooklyn Bridge stops will temporarily be closed.\n",
    "\n",
    "# Remove them from your list without iterating through the entire list.\n",
    "\n",
    "subway.remove_by_value(\"Central Park\")\n",
    "subway.remove_by_value(\"Brooklyn Bridge\")\n",
    "subway.remove_by_value(\"Times Square\")\n",
    "\n",
    "print(subway.remove_by_value(\"Test\")\n",
    "\n",
    "print(\"modified track:\")\n",
    "subway.stringify_list()"
   ]
  },
  {
   "cell_type": "markdown",
   "metadata": {},
   "source": [
    "Before moving on, take a moment to think about doubly linked lists. What do you think are some possible real-life uses?\n",
    "\n",
    "Some uses are:\n",
    "\n",
    "* A music player with “next” and “previous” buttons\n",
    "* An app that shows you where your subway is on the train line\n",
    "* The “undo” and “redo” functionality in a web browser"
   ]
  },
  {
   "cell_type": "markdown",
   "metadata": {},
   "source": []
  },
  {
   "cell_type": "markdown",
   "metadata": {},
   "source": []
  }
 ],
 "metadata": {
  "kernelspec": {
   "display_name": "Python 3",
   "language": "python",
   "name": "python3"
  },
  "language_info": {
   "codemirror_mode": {
    "name": "ipython",
    "version": 3
   },
   "file_extension": ".py",
   "mimetype": "text/x-python",
   "name": "python",
   "nbconvert_exporter": "python",
   "pygments_lexer": "ipython3",
   "version": "3.12.3"
  }
 },
 "nbformat": 4,
 "nbformat_minor": 2
}
