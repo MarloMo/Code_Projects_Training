{
 "cells": [
  {
   "cell_type": "markdown",
   "metadata": {},
   "source": [
    "# Bash Scripting in Application "
   ]
  },
  {
   "cell_type": "markdown",
   "metadata": {},
   "source": [
    "### Intro\n",
    "\n",
    "Bash scripts are often the backbone of many services and servers! In the industry, scripts are commonly used for:\n",
    "\n",
    "* Application installation or deployment. A script can contain instructions to compile, configure, and execute an application. Packages downloaded via the terminal with `wget` or `curl` are often installed and configured to the environment using scripts.\n",
    "* Automating tasks during a cron job, which essentially schedules scripts to run. For example, a cron job might trigger a script to periodically check the health of a web API and set off an alert if the service is unreachable.\n",
    "\n",
    "Scripts are great tools that can also be referred to by other scripts! That means we can reuse scripts others write on the internet."
   ]
  },
  {
   "cell_type": "markdown",
   "metadata": {},
   "source": [
    "### Print Directory Structure Script I\n",
    "\n",
    "Example `tree.sh` :"
   ]
  },
  {
   "cell_type": "code",
   "execution_count": null,
   "metadata": {
    "vscode": {
     "languageId": "shellscript"
    }
   },
   "outputs": [],
   "source": [
    "#!/bin/bash\n",
    "\n",
    "# Begin code below:\n",
    "# If input argument, cd to the directory in the input argument\n",
    "\n",
    "if [ \"$1\" != \"\" ]; then\n",
    "  cd \"$1\"\n",
    "  pwd\n",
    "  if [ `ls -F -1 | grep \"/\" | wc -l` = 0 ]; then\n",
    "    echo \" -> no sub-directories\"\n",
    "  fi\n",
    "  ls -R \n",
    "fi"
   ]
  },
  {
   "cell_type": "markdown",
   "metadata": {
    "vscode": {
     "languageId": "shellscript"
    }
   },
   "source": [
    "### Print Directory Structure Script II\n",
    "\n",
    "Example `tree.sh`"
   ]
  },
  {
   "cell_type": "code",
   "execution_count": null,
   "metadata": {
    "vscode": {
     "languageId": "shellscript"
    }
   },
   "outputs": [],
   "source": [
    "#!/bin/bash\n",
    "\n",
    "echo \"\"\n",
    "\n",
    "if [ \"$1\" != \"\" ]; then\n",
    "  cd \"$1\"\n",
    "  pwd\n",
    "  if [ `ls -F -1 | grep \"/\" | wc -l` = 0 ]; then\n",
    "    echo \" -> no sub-directories\"\n",
    "  fi\n",
    "  ls -R | grep \":$\" | sed -e 's/:$//' -e 's/[^-][^\\/]*\\//--/g' -e 's/^/   /' -e 's/-/|/'\n",
    "\n",
    "  echo \"\"\n",
    "fi\n"
   ]
  },
  {
   "cell_type": "markdown",
   "metadata": {
    "vscode": {
     "languageId": "shellscript"
    }
   },
   "source": [
    "### Using Scripts Inside Scripts"
   ]
  },
  {
   "cell_type": "markdown",
   "metadata": {},
   "source": []
  }
 ],
 "metadata": {
  "language_info": {
   "name": "python"
  }
 },
 "nbformat": 4,
 "nbformat_minor": 2
}
