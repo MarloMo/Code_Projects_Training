{
 "cells": [
  {
   "cell_type": "markdown",
   "metadata": {},
   "source": [
    "# **Introduction to Bash Scripting**"
   ]
  },
  {
   "cell_type": "markdown",
   "metadata": {},
   "source": [
    "There are some conventions to follow to ensure that your computer is able to find and execute your Bash scripts. The beginning of your script file should start with `#!/bin/bash` on its own line. This tells the computer which type of interpreter to use for the script. When saving the script file, it is good practice to place commonly used scripts in the `~/bin/` directory."
   ]
  },
  {
   "cell_type": "markdown",
   "metadata": {},
   "source": [
    "The script files also need to have the “execute” permission to allow them to be run. To add this permission to a file with filename: `script.sh` use:\n",
    "\n",
    "`$ chmod +x script.sh`"
   ]
  },
  {
   "cell_type": "markdown",
   "metadata": {},
   "source": [
    "Your terminal runs a file every time it is opened to load its configuration. On Linux style shells, this is `~/.bashrc` and on OSX, this is `~/.bash_profile`. To ensure that scripts in `~/bin/` are available, you must add this directory to your PATH within your configuration file:\n",
    "\n",
    "`PATH=~/bin:$PATH`\n",
    "\n",
    "Now any scripts in the `~/bin` directory can be run from anywhere by typing the filename."
   ]
  },
  {
   "cell_type": "markdown",
   "metadata": {},
   "source": [
    "### **Variables**\n",
    "\n",
    "**Ex)** \n",
    "\n",
    "```\n",
    "#!/bin/bash\n",
    "\n",
    "phrase=\"Hello Marlo\"\n",
    "\n",
    "echo $phrase\n",
    "```"
   ]
  },
  {
   "cell_type": "markdown",
   "metadata": {},
   "source": [
    "### **Conditionals**\n",
    "\n",
    "ex:\n",
    "\n",
    "```\n",
    "if [ $index -lt 5 ]\n",
    "then\n",
    "  echo $index\n",
    "else\n",
    "  echo 5\n",
    "fi\n",
    "```\n",
    "\n",
    "Bash scripts use a specific list of operators for comparison. Here we used `-lt` which is “less than”. The result of this conditional is that if $index is less than 5, it will print to the screen. If it is 5 or greater, “5” will be printed to the screen.\n",
    "\n",
    "Here is the list of comparison operators for numbers you can use within bash scripts:\n",
    "\n",
    "* Equal: `-eq`\n",
    "* Not equal: `-ne`\n",
    "* Less than or equal: `-le`\n",
    "* Less than: `-lt`\n",
    "* Greater than or equal: `-ge`\n",
    "* Greater than: `-gt`\n",
    "* Is null: `-z`"
   ]
  },
  {
   "cell_type": "markdown",
   "metadata": {},
   "source": [
    "When comparing strings, it is best practice to put the variable into quotes (\"). This prevents errors if the variable is null or contains spaces. The common operators for comparing strings are:\n",
    "\n",
    "* Equal: `==`\n",
    "* Not equal: `!=`\n",
    "\n",
    "For example, to compare if the variables foo and bar contain the same string:\n",
    "\n",
    "`if [ \"$foo\" == \"$bar\" ]`"
   ]
  },
  {
   "cell_type": "markdown",
   "metadata": {
    "vscode": {
     "languageId": "shellscript"
    }
   },
   "source": [
    "### **Loops**"
   ]
  },
  {
   "cell_type": "markdown",
   "metadata": {
    "vscode": {
     "languageId": "shellscript"
    }
   },
   "source": [
    "There are 3 different ways to loop within a bash script: `for`, `while` and `until`.\n",
    "\n",
    "A for loop is used to iterate through a list and execute an action at each step. For example, if we had a list of words stored in a variable paragraph, we could use the following syntax to print each one:\n",
    "\n",
    "```\n",
    "for word in $paragraph\n",
    "do\n",
    "    echo $word\n",
    "done\n",
    "```\n",
    "\n",
    "Note that `word` is being “defined” at the top of the for loop so there is no `$` prepended. Remember that we prepend the `$` when accessing the value of the variable. So, when accessing the variable within the do block, we use `$word` as usual."
   ]
  },
  {
   "cell_type": "markdown",
   "metadata": {},
   "source": [
    "Within bash scripting `until` and `while` are very similar. while loops keep looping while the provided condition is true whereas `until` loops loop until the condition is true. Conditions are established the same way as they are within an `if` block, between square brackets. If we want to print the `index` variable as long as it is less than 5, we would use the following while loop:\n",
    "\n",
    "```\n",
    "while [ $index -lt 5]\n",
    "do \n",
    "    echo $index\n",
    "    index=$((index + 1))\n",
    "done\n",
    "```\n",
    "\n",
    "Note that arithmetic in bash scripting uses the `$((...))` syntax and within the brackets the variable name is not prepended with a `$`.\n",
    "\n",
    "The same loop could also be written as an `until` loop as follows:\n",
    "\n",
    "```\n",
    "until [ $index -eq 5 ]\n",
    "do \n",
    "    echo $index\n",
    "    index=$((index + 1))\n",
    "done\n",
    "```"
   ]
  },
  {
   "cell_type": "markdown",
   "metadata": {},
   "source": [
    "### **Inputs**"
   ]
  },
  {
   "cell_type": "markdown",
   "metadata": {},
   "source": [
    "To make bash scripts more useful, we need to be able to access data external to the bash script file itself. The first way to do this is by prompting the user for input. For this, we use the `read` syntax. To ask the user for input and save it to the `number` variable, we would use the following code:\n",
    "\n",
    "```\n",
    "echo \"Guess a number\"\n",
    "read number\n",
    "echo \"You guess $number\"\n",
    "```\n"
   ]
  },
  {
   "cell_type": "markdown",
   "metadata": {},
   "source": [
    "Another way to access external data is to have the user add input arguments when they run your script. These arguments are entered after the script name and are separated by spaces. For example:\n",
    "\n",
    "`$ ./saycolors.sh red green blue`\n",
    "\n",
    "bash script:\n",
    "\n",
    "```\n",
    "for color in \"$@\"\n",
    "do\n",
    "  echo $color\n",
    "done\n",
    "\n",
    "```"
   ]
  },
  {
   "cell_type": "markdown",
   "metadata": {},
   "source": [
    "Lastly, we can access external files to our script. You can assign a set of files to a variable name using standard bash pattern matching using regular expressions. For example, to get all files in a directory, you can use the * character:\n",
    "\n",
    "Bash script:\n",
    "\n",
    "```\n",
    "files=/some/directory/*\n",
    "\n",
    "for file in $files\n",
    "do\n",
    "  echo $file\n",
    "done\n",
    "```"
   ]
  },
  {
   "cell_type": "markdown",
   "metadata": {},
   "source": [
    "### Alias\n",
    "\n",
    "You can set up aliases for your bash scripts within your .bashrc or .bash_profile file to allow calling your scripts without the full filename. For example, if we have our saycolors.sh script, we can alias it to the word saycolors using the following syntax:\n",
    "\n",
    "`$ alias saycolors='./saycolors.sh'`"
   ]
  },
  {
   "cell_type": "markdown",
   "metadata": {},
   "source": []
  }
 ],
 "metadata": {
  "kernelspec": {
   "display_name": "Python 3",
   "language": "python",
   "name": "python3"
  },
  "language_info": {
   "codemirror_mode": {
    "name": "ipython",
    "version": 3
   },
   "file_extension": ".py",
   "mimetype": "text/x-python",
   "name": "python",
   "nbconvert_exporter": "python",
   "pygments_lexer": "ipython3",
   "version": "3.12.3"
  }
 },
 "nbformat": 4,
 "nbformat_minor": 2
}
