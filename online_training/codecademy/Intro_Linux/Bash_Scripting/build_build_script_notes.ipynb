{
 "cells": [
  {
   "cell_type": "markdown",
   "metadata": {},
   "source": [
    "# Build a Build Script\n",
    "\n",
    "One common use of bash scripts is for releasing a “build” of your source code. Sometimes your private source code may contain developer resources or private information that you don’t want to release in the published version."
   ]
  },
  {
   "cell_type": "markdown",
   "metadata": {},
   "source": []
  },
  {
   "cell_type": "markdown",
   "metadata": {},
   "source": [
    "Codecademy Script:"
   ]
  },
  {
   "cell_type": "code",
   "execution_count": null,
   "metadata": {
    "vscode": {
     "languageId": "shellscript"
    }
   },
   "outputs": [],
   "source": [
    "#!/bin/bash\n",
    "\n",
    "echo \"Welcome to the 'Build a Build' Script\"\n",
    "\n",
    "firstline=$(head -n1 source/changelog.md)\n",
    "\n",
    "read -a splitfirstline <<< $firstline\n",
    "\n",
    "# echo $splitfirstline\n",
    "\n",
    "version=${splitfirstline[1]}\n",
    "\n",
    "echo \"Current version: $version\"\n",
    "echo \"Exit the script?, yes: 1 or no: 0\"\n",
    "read versioncontinue\n",
    "\n",
    "if [ $versioncontinue -eq 1 ]; then\n",
    "  files=source/*\n",
    "  for i in $files\n",
    "  do \n",
    "    # Use basename: basename is used to extract the filename \n",
    "    # from the path. This ensures that the comparison works \n",
    "    # correctly if secretinfo.md is in the source directory.\n",
    "    if [ \"$(basename \"$i\")\" != \"secretinfo.md\" ]; then\n",
    "      echo \"Copy: $i\"\n",
    "      cp $i build\n",
    "    else \n",
    "      echo \"Exclude: $i\"\n",
    "    fi\n",
    "  done\n",
    "\n",
    "  cd build\n",
    "  echo \"Files in /build: \"\n",
    "  ls \n",
    "  \n",
    "elif [ $versioncontinue -eq 0 ]; then \n",
    "  echo \"Please come back when you are ready.\"\n",
    "else\n",
    "  echo \"Not a valid input, try again.\"\n",
    "  exit 0\n",
    "fi"
   ]
  },
  {
   "cell_type": "code",
   "execution_count": null,
   "metadata": {
    "vscode": {
     "languageId": "shellscript"
    }
   },
   "outputs": [],
   "source": []
  }
 ],
 "metadata": {
  "language_info": {
   "name": "python"
  }
 },
 "nbformat": 4,
 "nbformat_minor": 2
}
