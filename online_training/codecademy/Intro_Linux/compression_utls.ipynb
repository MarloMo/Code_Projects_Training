{
 "cells": [
  {
   "cell_type": "markdown",
   "metadata": {},
   "source": [
    "# Compression Utilities "
   ]
  },
  {
   "cell_type": "markdown",
   "metadata": {},
   "source": [
    "Three popular compression commands are:\n",
    "\n",
    "* `gzip`: retains the original file’s ownership modes, access, and modification timestamps. Compressed files have the `.gz` extension.\n",
    "* `bzip2`: compressed files have the `.bz2` extension.\n",
    "* `xz`: compressed files have the `.xz` extension."
   ]
  },
  {
   "cell_type": "markdown",
   "metadata": {},
   "source": [
    "Files can be decompressed using the `-d` option"
   ]
  },
  {
   "cell_type": "markdown",
   "metadata": {},
   "source": [
    "Adding the `-k` option will retain the original file and will also create the compressed file."
   ]
  },
  {
   "cell_type": "markdown",
   "metadata": {},
   "source": [
    "# Archive Utilities"
   ]
  },
  {
   "cell_type": "markdown",
   "metadata": {},
   "source": [
    "### `zip`\n",
    "\n",
    "example: `zip <archive_name>.zip <file1> <file2> …`\n",
    "\n",
    "Directories can be easily archived with the `-r` option. Archived files can be extracted and decompressed using the `unzip` command and providing paths to one or more `.zip` files."
   ]
  },
  {
   "cell_type": "markdown",
   "metadata": {},
   "source": [
    "### `tar`\n",
    "\n",
    "`tar`, which stands for tape archive or tarball, is a very important archiving utility for Linux systems. While a `zip` archive is more popular across platforms, it is recommended to use `tar` when distributing archives among Linux-based systems. This is because `tar` archives store Unix file attributes, retaining file permissions and other metadata."
   ]
  },
  {
   "cell_type": "markdown",
   "metadata": {},
   "source": [
    "example: `tar -cf <archive_name>.tar <files or directories>`\n",
    "\n",
    "To extract the files in a `.tar` archive, we can use the `-xf` option."
   ]
  },
  {
   "cell_type": "markdown",
   "metadata": {},
   "source": [
    "## Compressed .tar Files (Compressed Archives)"
   ]
  },
  {
   "cell_type": "markdown",
   "metadata": {},
   "source": []
  }
 ],
 "metadata": {
  "language_info": {
   "name": "python"
  }
 },
 "nbformat": 4,
 "nbformat_minor": 2
}
