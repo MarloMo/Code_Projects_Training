{
 "cells": [
  {
   "cell_type": "markdown",
   "metadata": {},
   "source": [
    "# Compression Utilities "
   ]
  },
  {
   "cell_type": "markdown",
   "metadata": {},
   "source": [
    "Three popular compression commands are:\n",
    "\n",
    "* `gzip`: retains the original file’s ownership modes, access, and modification timestamps. Compressed files have the `.gz` extension.\n",
    "* `bzip2`: compressed files have the `.bz2` extension.\n",
    "* `xz`: compressed files have the `.xz` extension."
   ]
  },
  {
   "cell_type": "markdown",
   "metadata": {},
   "source": [
    "Files can be decompressed using the `-d` option"
   ]
  },
  {
   "cell_type": "markdown",
   "metadata": {},
   "source": [
    "Adding the `-k` option will retain the original file and will also create the compressed file."
   ]
  },
  {
   "cell_type": "markdown",
   "metadata": {},
   "source": [
    "# Archive Utilities"
   ]
  },
  {
   "cell_type": "markdown",
   "metadata": {},
   "source": [
    "### `zip`\n",
    "\n",
    "example: `zip <archive_name>.zip <file1> <file2> …`\n",
    "\n",
    "Directories can be easily archived with the `-r` option. Archived files can be extracted and decompressed using the `unzip` command and providing paths to one or more `.zip` files."
   ]
  },
  {
   "cell_type": "markdown",
   "metadata": {},
   "source": [
    "### `tar`\n",
    "\n",
    "`tar`, which stands for tape archive or tarball, is a very important archiving utility for Linux systems. While a `zip` archive is more popular across platforms, it is recommended to use `tar` when distributing archives among Linux-based systems. This is because `tar` archives store Unix file attributes, retaining file permissions and other metadata."
   ]
  },
  {
   "cell_type": "markdown",
   "metadata": {},
   "source": [
    "example: `tar -cf <archive_name>.tar <files or directories>`\n",
    "\n",
    "To extract the files in a `.tar` archive, we can use the `-xf` option."
   ]
  },
  {
   "cell_type": "markdown",
   "metadata": {},
   "source": [
    "## Compressed .tar Files (Compressed Archives)"
   ]
  },
  {
   "cell_type": "markdown",
   "metadata": {},
   "source": [
    "We can also call tar with other options to compress:\n",
    "\n",
    "* `-z` : Compress the resulting archive using `gzip`. Resulting file extension: `.tar.gz`.\n",
    "* `-j` : Compress the resulting archive using `bzip2`. Resulting file extension: `.tar.bz2`.\n",
    "* `-J` : Compress the resulting archive using `xz`. Resulting file extension: `.tar.xz`.\n",
    "\n",
    "For example, to compress an archive/tarball of some video files `video1.mp4` and `video2.mkv`, where we want the resulting compress archive to be called `videos.tar.bz2` we use the following command:\n",
    "\n",
    "`tar -cjf videos.tar.bz2 video1.mp4 video2.mkv`"
   ]
  },
  {
   "cell_type": "markdown",
   "metadata": {},
   "source": [
    "### Decompressing and Extracting `.tar` files\n",
    "\n",
    "To extract and decompress a compressed .tar archive, we change the option `-c` to `-x`:\n",
    "\n",
    "`tar -xjf videos.tar.bz2`\n",
    "\n",
    "Be sure to use the right option that corresponds with the compressed format."
   ]
  },
  {
   "cell_type": "markdown",
   "metadata": {},
   "source": []
  }
 ],
 "metadata": {
  "language_info": {
   "name": "python"
  }
 },
 "nbformat": 4,
 "nbformat_minor": 2
}
