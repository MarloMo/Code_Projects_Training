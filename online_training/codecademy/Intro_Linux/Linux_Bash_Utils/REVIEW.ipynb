{
 "cells": [
  {
   "cell_type": "markdown",
   "metadata": {},
   "source": [
    "# Documentation\n",
    "\n",
    "Documentation is a great way to learn about installed utilities.\n",
    "\n",
    "* The `/usr/share/doc/` directory contains README files and other documents for installed commands.\n",
    "* `man` is a command to access reference manual pages for all installed commands. Usage: `$ man <command_name>`.\n",
    "* `info` is a command to access full-detailed information pages for all installed commands. Usage `$ info <command_name>`."
   ]
  },
  {
   "cell_type": "markdown",
   "metadata": {},
   "source": [
    "# Compression\n",
    "\n",
    "Compression reduces file sizes. Three popular compression commands are `gzip`, `bzip2`, and `xz`. To compress, run commands like so: `$ <compression_utility> [options] <file_name>`. To decompress, include the `-d` option: `$ <compression_utility> -d <compressed_file_name>`. `gzip` also supports the `-r` option to compress all files in a directory."
   ]
  },
  {
   "cell_type": "markdown",
   "metadata": {},
   "source": [
    "# Archive \n",
    "\n",
    "`zip` and `tar` are two archiving utilities that package multiple files into a single archive file. `zip`: archives and compresses files.\n",
    "\n",
    "* Archive: `$ zip <archive_name>.zip <file1> <file2>..`. Use `-r` option for directories.\n",
    "* Extract: `$ unzip <archive_name>.zip`.\n",
    "\n",
    "`tar`: only archives files by default but has options to utilize compression utilities. Unlike `zip`, it preserves Unix file attributes like file permissions.\n",
    "\n",
    "* Archive: `$ tar -cf <archive_name>.tar <files or directory>`.\n",
    "* Extract: `$ tar -xf <archive_name>.tar`.\n",
    "* Add options `-z`, `-j`, or `-J` to compress via `gzip`, `bzip2`, or `xz` respectively."
   ]
  },
  {
   "cell_type": "markdown",
   "metadata": {},
   "source": [
    "# Networking\n",
    "\n",
    "Basic network commands:\n",
    "\n",
    "* `curl` or `wget`: Interacts with a webpage or file hosted online.\n",
    "* `$ ping <target domain or IP>`: Checks connectivity between two devices on the same network.\n",
    "* `$ host <domain or IP>`: Performs DNS lookups.\n",
    "* `ifconfig`: Shows network interface information"
   ]
  },
  {
   "cell_type": "markdown",
   "metadata": {},
   "source": []
  }
 ],
 "metadata": {
  "language_info": {
   "name": "python"
  }
 },
 "nbformat": 4,
 "nbformat_minor": 2
}
