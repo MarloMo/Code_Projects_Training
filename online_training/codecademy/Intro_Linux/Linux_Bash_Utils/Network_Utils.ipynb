{
 "cells": [
  {
   "cell_type": "markdown",
   "metadata": {},
   "source": [
    "# Network Utilities"
   ]
  },
  {
   "cell_type": "markdown",
   "metadata": {},
   "source": [
    "The Linux shell makes it easy to communicate with content on the Internet from the command line, and for the user to check on important network status information.\n",
    "\n",
    "### Interacting with Files Hosted Online\n",
    "\n",
    "Let’s start simple: how do we access files from the Internet in the command line? There are two commands that allow us to do just that: `curl` and `wget`. Either command lets us establish a connection with a server. We can also use them to download the file at the destination.\n",
    "\n",
    "`$ curl <URL in quotes>`\n",
    "\n",
    "displays the contents of the file at the URL in terminal.\n",
    "\n",
    "The option `-o` or `-output` combined with a desired name\n",
    "\n",
    "`$ curl <URL> --output <desired_filename>`\n",
    "\n",
    "**For example**, \n",
    "`$ curl -O \"https://www.google.com\" --output frontpage.html` \n",
    "\n",
    "will download the HTML file of the Google homepage to a local file called frontpage.html."
   ]
  },
  {
   "cell_type": "markdown",
   "metadata": {},
   "source": [
    "### Checking Network Connectibity \n",
    "\n",
    "How can we check whether two devices connected to the same network can communicate with one another? Simple! We use a command called `ping`, short for Packet INternet Groper. The command:\n",
    "\n",
    "`$ ping [options] <target domain or IP>`"
   ]
  },
  {
   "cell_type": "markdown",
   "metadata": {},
   "source": [
    "Sends packets to the target host and waits for replies. If the ping command returns with a failure, that means the target is unreachable."
   ]
  },
  {
   "cell_type": "markdown",
   "metadata": {},
   "source": [
    "### DNS Resolution\n",
    "\n",
    "What if we wanted to find out the IP address for any given domain name or vice versa? This process is known as DNS lookup or DNS resolution and the `host` command lets us do exactly that. The basic syntax for the `host` command is:\n",
    "\n",
    "`$ host <domain or IP>`\n"
   ]
  },
  {
   "cell_type": "markdown",
   "metadata": {},
   "source": [
    "\n",
    "### Network Interface Status\n",
    "\n",
    "The `ifconfig` command, or interface configurator, is one of the network inspection commands available on Linux. Running it will display IP addresses, MAC addresses, and some more relevant details.\n",
    "\n",
    "These commands are really useful if you work with networks specifically!\n"
   ]
  },
  {
   "cell_type": "markdown",
   "metadata": {},
   "source": []
  }
 ],
 "metadata": {
  "language_info": {
   "name": "python"
  }
 },
 "nbformat": 4,
 "nbformat_minor": 2
}
