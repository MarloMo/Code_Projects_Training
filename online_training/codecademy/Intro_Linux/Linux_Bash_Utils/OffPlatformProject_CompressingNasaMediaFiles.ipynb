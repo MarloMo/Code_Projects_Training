{
 "cells": [
  {
   "cell_type": "markdown",
   "metadata": {},
   "source": [
    "# Compressing NASA media files - Notes"
   ]
  },
  {
   "cell_type": "markdown",
   "metadata": {},
   "source": [
    "**`$ iftop`**\n",
    "\n",
    "* Allows us to monitor our network.\n",
    "* run with: `$ sudo iftop` (you may be prompted for your account password to use sudo)\n",
    "    * You will notice network traffic with bandwidth usage being printed out in the terminal window running the `iftop` command.\n",
    "\n",
    " * `iftop` will show the source address of the file and the bandwidth usage."
   ]
  },
  {
   "cell_type": "markdown",
   "metadata": {},
   "source": []
  }
 ],
 "metadata": {
  "language_info": {
   "name": "python"
  }
 },
 "nbformat": 4,
 "nbformat_minor": 2
}
