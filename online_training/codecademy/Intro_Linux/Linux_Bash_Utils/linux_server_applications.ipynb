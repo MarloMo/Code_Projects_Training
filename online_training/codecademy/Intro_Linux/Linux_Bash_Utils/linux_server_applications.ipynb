{
 "cells": [
  {
   "cell_type": "markdown",
   "metadata": {},
   "source": [
    "# Linux Server Apllications"
   ]
  },
  {
   "cell_type": "markdown",
   "metadata": {},
   "source": [
    "### Linux Server OS vs Client OS\n",
    "\n",
    "A client Operating System (OS) runs on a client device such as a desktop or laptop computer, a mobile phone, or a smart electronic device. The client OS is designed to receive services from servers and provide an easy-to-approach interface for users.\n",
    "\n",
    "On the other hand, a server OS runs on computers to provide services to clients and users, often at the same time. A server OS is often more advanced in terms of its capabilities and applies high-security standards. Server operating systems are expected to be more resilient, stable, and efficient."
   ]
  },
  {
   "cell_type": "markdown",
   "metadata": {},
   "source": []
  }
 ],
 "metadata": {
  "language_info": {
   "name": "python"
  }
 },
 "nbformat": 4,
 "nbformat_minor": 2
}
