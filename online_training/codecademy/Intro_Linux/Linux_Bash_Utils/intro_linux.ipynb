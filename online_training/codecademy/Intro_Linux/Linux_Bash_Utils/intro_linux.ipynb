{
 "cells": [
  {
   "cell_type": "markdown",
   "metadata": {},
   "source": [
    "# Introduction to Linux Notes"
   ]
  },
  {
   "cell_type": "markdown",
   "metadata": {},
   "source": [
    "### Kernel:\n",
    "\n",
    "The ***kernel*** is the most important part of the operating system. It performs a variety of tasks:\n",
    "\n",
    "* process management\n",
    "* managing hardware devices\n",
    "* task scheduling\n"
   ]
  },
  {
   "cell_type": "markdown",
   "metadata": {},
   "source": [
    "## Intro to Operating Systems\n",
    "\n",
    "The four main functions of a computer that make these interactions possible:\n",
    "\n",
    "* Input\n",
    "    * information needs to be communicated using binary code which are instructions composed of `0s` and `1s`.\n",
    "* Processing\n",
    "    * The job of processing information is given to the central processing unit, or CPU.The CPU also holds the responsibility of establishing communication between hardware and software. For example, if we turn the dial on our speakers up, data about that interaction is sent to the CPU. The CPU then deciphers the information and sends instructions to the speaker about how to handle this task. If we want to run software on our computer, it is also up to the CPU to perform all the necessary operations.\n",
    "* Memory\n",
    "    * Our computers have a lot of information to process - where does all this data get stored? Computer memory refers to the system or device used to store computer-based data temporarily or permanently.\n",
    "    1. **Primary Memory:**\n",
    "    * When a command to run a program is sent to the CPU, the CPU retrieves data from Random Access Memory, or RAM, in order to access what instructions it needs to execute. Accessing data from RAM is significantly faster than accessing data from other memory systems.\n",
    "    *  **For example**, if we want to order food, we only need to remember the restaurant’s phone number long enough for us to dial the number - then we can forget that information until the next time we order food.\n",
    "    2. **Secondary Memory:**\n",
    "    * If we upload 150 photos to our computer, the computer needs a space to permanently store the data associated with the images so that we could access the pictures anytime. This type of data would most likely be saved onto our computer’s **hard drive**.\n",
    "* Output\n",
    "    * Once the CPU processes data and sends out instructions on how to handle it, output is produced! We can think of output as the computer fulfilling the command we gave it through an output device.\n",
    "\n",
    "    * Examples of output devices include the following:\n",
    "\n",
    "        * Monitors\n",
    "        * Speakers\n",
    "        * Printers"
   ]
  },
  {
   "cell_type": "markdown",
   "metadata": {},
   "source": [
    "### Functions of an OS\n",
    "\n",
    "* Process Management\n",
    "* Memory Management\n",
    "* File Management\n",
    "* IO Management\n",
    "* Multitasking\n",
    "* Networking\n",
    "* Security\n",
    "* Providing a user interface"
   ]
  },
  {
   "cell_type": "markdown",
   "metadata": {},
   "source": []
  }
 ],
 "metadata": {
  "language_info": {
   "name": "python"
  }
 },
 "nbformat": 4,
 "nbformat_minor": 2
}
