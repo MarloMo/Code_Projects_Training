{
 "cells": [
  {
   "cell_type": "markdown",
   "metadata": {},
   "source": [
    "# Dual Boot Linux\n",
    "\n",
    "We’ll be loading Ubuntu onto a USB drive so we can boot from the USB. We are using Balena Etcher to create a bootable USB. Etcher is a program that works on Windows, Mac OS, and Linux. It provides an easy to use interface for burning disk images. You can download and install the program from the Balena Etcher download page:\n",
    "\n",
    "[Etcher](https://etcher.balena.io)"
   ]
  },
  {
   "cell_type": "markdown",
   "metadata": {},
   "source": [
    "After installing Etcher, you’ll need to download a copy of the Ubuntu installation.\n",
    "\n",
    "You can download the latest version of Ubuntu from their website for free. In this article, we will use the latest LTS version as of early 2022:\n",
    "\n",
    "[Ubuntu](https://ubuntu.com/download/desktop)"
   ]
  },
  {
   "cell_type": "markdown",
   "metadata": {},
   "source": [
    "After downloading the Ubuntu installation file, open the Balena Etcher program and insert the empty USB drive to your computer. Select the Ubuntu image we just downloaded as the image we would like to burn in Etcher. Then, carefully select the empty USB as the target. Flashing the image will erase all the contents on the target drive, so be sure you have the correct target selected. Next, flash the image to the USB drive.\n",
    "\n",
    "Afterwards, you’ll have a live USB. You’ll be able to boot using the USB drive from almost any computer into a working copy of Ubuntu. However, changes you make to any files will not persist until you have installed Ubuntu to the hard drive."
   ]
  },
  {
   "cell_type": "markdown",
   "metadata": {},
   "source": [
    "Now that you have the Ubuntu installation media ready, and freed space on your hard drive, you are ready to install Ubuntu as a dual boot option.\n",
    "\n",
    "In this section, we’ll be asking you to follow instructions while you restart your computer, so try to access this page/these instructions on another device.\n",
    "\n",
    "For Mac: As your computer is restarting, hold onto the alt key to load the boot menu - you should find the dual boot option you named earlier.\n",
    "\n",
    "When you boot into the Live USB, you’ll encounter an Ubuntu welcome screen. The screen will provide you the option to “Try Ubuntu” or “Install Ubuntu”. The first option is suited for testing if your computer’s Wi-Fi drivers or other hardware will work with Ubuntu. You will choose the second option for the installation."
   ]
  },
  {
   "cell_type": "markdown",
   "metadata": {},
   "source": []
  }
 ],
 "metadata": {
  "language_info": {
   "name": "python"
  }
 },
 "nbformat": 4,
 "nbformat_minor": 2
}
