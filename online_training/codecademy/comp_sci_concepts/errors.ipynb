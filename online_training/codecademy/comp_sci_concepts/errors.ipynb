{
 "cells": [
  {
   "cell_type": "markdown",
   "metadata": {},
   "source": [
    "## Types of errors"
   ]
  },
  {
   "cell_type": "markdown",
   "metadata": {},
   "source": [
    "### C++\n",
    "\n",
    "* Compile-times errors: \n",
    "\n",
    "```\n",
    "Errors found in the compiler\n",
    "```\n",
    "\n",
    "* Link-time errors: \n",
    "\n",
    "```\n",
    "Errors found by the linker when it is trying to combine object files into an executable program.\n",
    "```\n",
    "\n",
    "* Run-time erros:\n",
    "\n",
    "```\n",
    "Errors found by checks in a running program.\n",
    "```\n",
    "\n",
    "* Logic erors:\n",
    "\n",
    "```\n",
    "Errors found by the programmer looking for causes of the erroneous results.\n",
    "```"
   ]
  },
  {
   "cell_type": "markdown",
   "metadata": {},
   "source": []
  }
 ],
 "metadata": {
  "language_info": {
   "name": "python"
  }
 },
 "nbformat": 4,
 "nbformat_minor": 2
}
