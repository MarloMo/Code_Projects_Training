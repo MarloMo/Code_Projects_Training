{
 "cells": [
  {
   "cell_type": "markdown",
   "metadata": {},
   "source": [
    "# CPU"
   ]
  },
  {
   "cell_type": "markdown",
   "metadata": {},
   "source": [
    "**Central Processing Unit (CPU)** is used to describe the electrical circuitry in a computer responsible for executing instruction sets derived from programs that have been converted into machine code.\n",
    "\n",
    "CPU’s sit at the heart of the system of a computer and are connected to the motherboard. They also have caches which act as memory units capable of temporary storage and quick retrieval of files by the computer.\n",
    "\n",
    "The performance or speed of a processor depends on, among many other factors, the clock rate (usually measured in hertz) and the instructions per clock (IPC), which together are the factors that make up the instructions per second (IPS) which measures CPU performance. CPU’s can have multiple cores which allow them to perform operations in parallel to one another which greatly increases the speed and efficiency of the computer."
   ]
  },
  {
   "cell_type": "markdown",
   "metadata": {},
   "source": [
    "# Major Components"
   ]
  },
  {
   "cell_type": "markdown",
   "metadata": {},
   "source": [
    "Two major components of the CPU are:\n",
    "\n",
    "* Control Unit (CU): The control unit is a component of the CPU that directs the operation of the processor. It controls the response to the instructions that have been sent to the processor via machine code by directing the flow of data between the CPU and the other devices.\n",
    "\n",
    "* Arithmetic Logic Unit (ALU): The arithmetic logic unit is a digital circuit within the processor that performs integer arithmetic and bitwise logic operations."
   ]
  },
  {
   "cell_type": "markdown",
   "metadata": {},
   "source": []
  }
 ],
 "metadata": {
  "language_info": {
   "name": "python"
  }
 },
 "nbformat": 4,
 "nbformat_minor": 2
}
