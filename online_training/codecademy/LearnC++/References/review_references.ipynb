{
 "cells": [
  {
   "cell_type": "markdown",
   "metadata": {},
   "source": [
    "In C++, a reference variable is an alias for something else, that is, another name for an already existing variable.\n",
    "\n",
    "So suppose we make Sonny a reference to someone named Songqiao. You can refer to the person as either Sonny or Songqiao.\n",
    "\n",
    "Let’s take a look at how we can do this with code. Suppose we have an int variable already called songqiao, we can create an alias to it by using the & sign in the declaration:\n",
    "\n",
    "```\n",
    "int &sonny = songqiao;\n",
    "```\n",
    "\n",
    "So here, we made sonny a reference to songqiao.\n",
    "\n",
    "Now when we make changes to sonny (add 1, subtract 2, etc), songqiao also changes.\n",
    "\n",
    "Two things to note about references:\n",
    "\n",
    "1. Anything we do to the reference also happens to the original.\n",
    "2. Aliases cannot be changed to alias something else."
   ]
  },
  {
   "cell_type": "markdown",
   "metadata": {},
   "source": [
    "### Const Reference\n",
    "\n",
    "So to save the computational cost for a function that doesn’t modify the parameter value(s), we can actually go a step further and use a const reference:\n",
    "\n",
    "```\n",
    "int triple(int const &i) {\n",
    "\n",
    "  return i * 3;\n",
    "\n",
    "}\n",
    "```\n",
    "This will ensure the same thing: the parameter won’t be changed. However, by making i a reference to the argument, this saves the computational cost of making a copy of the argument."
   ]
  },
  {
   "cell_type": "markdown",
   "metadata": {},
   "source": []
  },
  {
   "cell_type": "markdown",
   "metadata": {
    "vscode": {
     "languageId": "plaintext"
    }
   },
   "source": [
    "### Notes\n",
    "\n",
    "The double meaning of the & symbol can be tricky at first, so make sure to note:\n",
    "\n",
    "1. When & is used in a declaration, it is a reference operator.\n",
    "2. When & is not used in a declaration, it is an address operator.\n",
    "\n",
    "### Check the memory location of a variable:\n",
    "\n",
    "```\n",
    "#include <iostream>\n",
    "\n",
    "int main() {\n",
    "  \n",
    "  int power = 9000;\n",
    "  \n",
    "  // Print power\n",
    "  std::cout << &power << \"\\n\";\n",
    "  \n",
    "  // Print &power\n",
    "  \n",
    "  \n",
    "}\n",
    "```"
   ]
  },
  {
   "cell_type": "code",
   "execution_count": null,
   "metadata": {
    "vscode": {
     "languageId": "plaintext"
    }
   },
   "outputs": [],
   "source": []
  }
 ],
 "metadata": {
  "language_info": {
   "name": "python"
  }
 },
 "nbformat": 4,
 "nbformat_minor": 2
}
