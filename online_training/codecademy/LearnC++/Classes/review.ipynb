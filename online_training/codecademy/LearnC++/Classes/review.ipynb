{
 "cells": [
  {
   "cell_type": "markdown",
   "metadata": {},
   "source": [
    "## Review\n",
    "<1 min\n",
    "Hooray! You’ve learned the basics of classes and objects in C++:\n",
    "\n",
    "* Classes are user-defined types.\n",
    "* Objects are instances of classes.\n",
    "* Class members are the data attributes and functions inside of a class.\n",
    "* Creating a new object from a class is called instantiation.\n",
    "* Class members can be designated as either private or public — they are private by default.\n",
    "* You can create a constructor to instantiate objects in a particular way.\n",
    "* A destructor allows you to execute any cleanup necessary before an object gets destroyed."
   ]
  },
  {
   "cell_type": "markdown",
   "metadata": {},
   "source": [
    "### The 4 Pillars of OOB\n",
    "\n",
    "# There are four major benefits to object-oriented programming:\n",
    "\n",
    "1. **Encapsulation**: in OOP, you bundle code into a single unit where you can determine the scope of each piece of data.\n",
    "2. **Abstraction**: by using classes, you are able to generalize your object types, simplifying your program.\n",
    "3. **Inheritance**: because a class can inherit attributes and behaviors from another class, you are able to reuse more code.\n",
    "4. **Polymorphism**: one class can be used to create many objects, all from the same flexible piece of code."
   ]
  },
  {
   "cell_type": "markdown",
   "metadata": {},
   "source": []
  }
 ],
 "metadata": {
  "language_info": {
   "name": "python"
  }
 },
 "nbformat": 4,
 "nbformat_minor": 2
}
