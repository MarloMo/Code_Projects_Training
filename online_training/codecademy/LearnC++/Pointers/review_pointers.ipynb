{
 "cells": [
  {
   "cell_type": "markdown",
   "metadata": {},
   "source": [
    "## **Pointers**\n",
    "\n",
    "In C++, a pointer variable is mostly the same as other variables, which can store a piece of data. Unlike normal variables, which store a value (such as an int, double, char), a pointer stores a memory address.\n",
    "\n",
    "While references are a newer mechanism that originated in C++, pointers are an older mechanism that was inherited from C. We recommend avoiding pointers as much as possible; usually, a reference will do the trick. However, you will see pointers a lot in the wild, particularly in older projects, where they are used in a very similar way to references.\n",
    "\n",
    "Pointers must be declared before they can be used, just like a normal variable. They are syntactically distinguished by the *, so that int* means “pointer to int“ and double* means “pointer to double“.\n",
    "\n",
    "```\n",
    "int* number;\n",
    "double* decimal;\n",
    "char* character;\n",
    "```"
   ]
  },
  {
   "cell_type": "markdown",
   "metadata": {},
   "source": [
    "### Example\n",
    "\n",
    "So suppose we have a variable called gum:\n",
    "```\n",
    "int gum = 8;\n",
    "```\n",
    "\n",
    "We can create a pointer to it by:\n",
    "\n",
    "```\n",
    "int* ptr = &gum;\n",
    "```\n",
    "\n",
    "* ```int*``` makes it a pointer rather than a normal variable.\n",
    "* ```ptr``` is the pointer name.\n",
    "* ```&gum``` is the memory address of the other variable gum.\n",
    "\n",
    "So now ```ptr``` has a value of ```gum```‘s memory address.\n"
   ]
  },
  {
   "cell_type": "markdown",
   "metadata": {},
   "source": []
  }
 ],
 "metadata": {
  "language_info": {
   "name": "python"
  }
 },
 "nbformat": 4,
 "nbformat_minor": 2
}
