{
 "cells": [
  {
   "cell_type": "code",
   "execution_count": 2,
   "metadata": {},
   "outputs": [],
   "source": [
    "import yfinance as yf\n",
    "import pandas as pd\n",
    "import numpy as np\n",
    "import matplotlib.pyplot as plt"
   ]
  },
  {
   "cell_type": "code",
   "execution_count": 4,
   "metadata": {},
   "outputs": [
    {
     "name": "stderr",
     "output_type": "stream",
     "text": [
      "[*********************100%%**********************]  1 of 1 completed"
     ]
    },
    {
     "name": "stdout",
     "output_type": "stream",
     "text": [
      "                  Open        High         Low       Close   Adj Close  \\\n",
      "Date                                                                     \n",
      "2010-01-04    7.622500    7.660714    7.585000    7.643214    6.470742   \n",
      "2010-01-05    7.664286    7.699643    7.616071    7.656429    6.481928   \n",
      "2010-01-06    7.656429    7.686786    7.526786    7.534643    6.378824   \n",
      "2010-01-07    7.562500    7.571429    7.466071    7.520714    6.367031   \n",
      "2010-01-08    7.510714    7.571429    7.466429    7.570714    6.409364   \n",
      "...                ...         ...         ...         ...         ...   \n",
      "2020-12-24  131.320007  133.460007  131.100006  131.970001  129.514465   \n",
      "2020-12-28  133.990005  137.339996  133.509995  136.690002  134.146622   \n",
      "2020-12-29  138.050003  138.789993  134.339996  134.869995  132.360504   \n",
      "2020-12-30  135.580002  135.990005  133.399994  133.720001  131.231873   \n",
      "2020-12-31  134.080002  134.740005  131.720001  132.690002  130.221054   \n",
      "\n",
      "               Volume  \n",
      "Date                   \n",
      "2010-01-04  493729600  \n",
      "2010-01-05  601904800  \n",
      "2010-01-06  552160000  \n",
      "2010-01-07  477131200  \n",
      "2010-01-08  447610800  \n",
      "...               ...  \n",
      "2020-12-24   54930100  \n",
      "2020-12-28  124486200  \n",
      "2020-12-29  121047300  \n",
      "2020-12-30   96452100  \n",
      "2020-12-31   99116600  \n",
      "\n",
      "[2769 rows x 6 columns]\n"
     ]
    },
    {
     "name": "stderr",
     "output_type": "stream",
     "text": [
      "\n"
     ]
    }
   ],
   "source": [
    "Apple = yf.download(\"AAPL\", start=\"2010-01-01\", end=\"2021-01-01\")\n",
    "# print(Apple)"
   ]
  },
  {
   "cell_type": "code",
   "execution_count": null,
   "metadata": {},
   "outputs": [],
   "source": []
  }
 ],
 "metadata": {
  "kernelspec": {
   "display_name": "Python 3",
   "language": "python",
   "name": "python3"
  },
  "language_info": {
   "codemirror_mode": {
    "name": "ipython",
    "version": 3
   },
   "file_extension": ".py",
   "mimetype": "text/x-python",
   "name": "python",
   "nbconvert_exporter": "python",
   "pygments_lexer": "ipython3",
   "version": "3.12.1"
  }
 },
 "nbformat": 4,
 "nbformat_minor": 2
}
